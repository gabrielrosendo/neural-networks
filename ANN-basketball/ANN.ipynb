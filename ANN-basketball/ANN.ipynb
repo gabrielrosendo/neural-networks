{
 "cells": [
  {
   "cell_type": "markdown",
   "metadata": {},
   "source": [
    "Gabriel Marcelino\n",
    "September 2024\n",
    "Artificial Neural Network (ANN)"
   ]
  },
  {
   "cell_type": "markdown",
   "metadata": {},
   "source": [
    "## Import dependencies and load data"
   ]
  },
  {
   "cell_type": "code",
   "outputs": [
    {
     "name": "stdout",
     "output_type": "stream",
     "text": [
      "['C:\\\\Program Files\\\\JetBrains\\\\PyCharm 2023.3.3\\\\plugins\\\\python\\\\helpers-pro\\\\jupyter_debug', 'C:\\\\Program Files\\\\JetBrains\\\\PyCharm 2023.3.3\\\\plugins\\\\python\\\\helpers\\\\pydev', 'C:\\\\Users\\\\grant\\\\PycharmProjects\\\\neural-networks', 'C:\\\\Users\\\\grant\\\\AppData\\\\Local\\\\Programs\\\\Python\\\\Python312\\\\python312.zip', 'C:\\\\Users\\\\grant\\\\AppData\\\\Local\\\\Programs\\\\Python\\\\Python312\\\\DLLs', 'C:\\\\Users\\\\grant\\\\AppData\\\\Local\\\\Programs\\\\Python\\\\Python312\\\\Lib', 'C:\\\\Users\\\\grant\\\\AppData\\\\Local\\\\Programs\\\\Python\\\\Python312', '', 'C:\\\\Users\\\\grant\\\\AppData\\\\Local\\\\Programs\\\\Python\\\\Python312\\\\Lib\\\\site-packages', 'C:\\\\Users\\\\grant\\\\AppData\\\\Local\\\\Programs\\\\Python\\\\Python312\\\\Lib\\\\site-packages\\\\win32', 'C:\\\\Users\\\\grant\\\\AppData\\\\Local\\\\Programs\\\\Python\\\\Python312\\\\Lib\\\\site-packages\\\\win32\\\\lib', 'C:\\\\Users\\\\grant\\\\AppData\\\\Local\\\\Programs\\\\Python\\\\Python312\\\\Lib\\\\site-packages\\\\Pythonwin', 'C:\\\\Users\\\\grant\\\\AppData\\\\Local\\\\Programs\\\\Python\\\\Python312\\\\Lib\\\\site-packages\\\\setuptools\\\\_vendor']\n"
     ]
    }
   ],
   "source": [
    "import sys\n",
    "print(sys.path)\n"
   ],
   "metadata": {
    "collapsed": false,
    "ExecuteTime": {
     "end_time": "2024-09-21T21:02:31.365306Z",
     "start_time": "2024-09-21T21:02:31.361422Z"
    }
   },
   "execution_count": 80
  },
  {
   "cell_type": "code",
   "execution_count": 81,
   "metadata": {
    "ExecuteTime": {
     "end_time": "2024-09-21T21:02:31.428524Z",
     "start_time": "2024-09-21T21:02:31.386550Z"
    }
   },
   "outputs": [],
   "source": [
    "import csv\n",
    "import random\n",
    "import numpy as np\n",
    "from keras.models import Sequential\n",
    "from keras.layers import Dense\n",
    "from sklearn.model_selection import train_test_split\n",
    "from sklearn.metrics import accuracy_score, precision_score, recall_score, f1_score\n",
    "\n",
    "pool = []\n",
    "training_data = []\n",
    "# create pool with players from 2019-2022\n",
    "with open('all_seasons.csv', mode = 'r') as file:\n",
    "    csvFile = csv.reader(file)\n",
    "    # ignore first line\n",
    "    next(csvFile)\n",
    "    for lines in csvFile:\n",
    "        year = int(lines[21][:4])\n",
    "        if 2018 < year < 2023 and len(pool) < 100 and lines[1] not in pool:\n",
    "            pool.append(lines)\n",
    "        elif len(training_data) < 5000:\n",
    "            training_data.append(lines)\n"
   ]
  },
  {
   "cell_type": "markdown",
   "metadata": {},
   "source": [
    "## Optimal Team : Considerations\n",
    "For my optimal team, I will aim for:\n",
    "- 2 or more players in top 20% of shooting percentage.\n",
    "- Player in the top 5% out of the 100 for rebounds.\n",
    "- Player with a Defensive Rebound percentage bigger than 0.2\n",
    "- 3 or more players in top 20% of best net rating\n",
    "- 2 or more players with better than average assists"
   ]
  },
  {
   "cell_type": "markdown",
   "metadata": {},
   "source": [
    "## Model"
   ]
  },
  {
   "cell_type": "code",
   "execution_count": 82,
   "metadata": {
    "ExecuteTime": {
     "end_time": "2024-09-21T21:02:31.433922Z",
     "start_time": "2024-09-21T21:02:31.429543Z"
    }
   },
   "outputs": [],
   "source": [
    "def extract_features(pool):\n",
    "    features_list = []\n",
    "    for player in pool:\n",
    "        # extract relevant features based on considerations above\n",
    "        features = {\n",
    "            'name': player[1],\n",
    "            'ts_pct': player[19],\n",
    "            'reb': player[13],\n",
    "            'dreb_pct': player[17],\n",
    "            'rating': player[15],\n",
    "            'ast': player[14]\n",
    "        }\n",
    "        features_list.append(features)\n",
    "    return features_list\n"
   ]
  },
  {
   "cell_type": "markdown",
   "metadata": {},
   "source": [
    "## Simulate Training Data to train model"
   ]
  },
  {
   "cell_type": "code",
   "execution_count": 83,
   "metadata": {
    "ExecuteTime": {
     "end_time": "2024-09-21T21:02:31.441505Z",
     "start_time": "2024-09-21T21:02:31.434929Z"
    }
   },
   "outputs": [],
   "source": [
    "\n",
    "\n",
    "def simulate_data(sample, num_iter=10000):\n",
    "    X = []\n",
    "    y = []\n",
    "    # calculate average assists\n",
    "    assists = np.array([float(player[14]) for player in sample])\n",
    "    average_assists = np.mean(assists)\n",
    "    # calculate top 20% of shooting percentage\n",
    "    top_20_ts = np.percentile([float(player[19]) for player in sample], 80)\n",
    "    # calculate top 10% of rebound\n",
    "    top_10_reb = np.percentile([float(player[13]) for player in sample], 90)\n",
    "    # calculate top 20% net rating\n",
    "    top_20_rating = np.percentile([float(player[15]) for player in sample], 80)\n",
    "\n",
    "    for i in range(num_iter):\n",
    "        # select 5 random players from list\n",
    "        selected_players = random.sample(sample, 5)\n",
    "        features = extract_features(selected_players)\n",
    "        X.append(features)\n",
    "        \"\"\"\n",
    "        - 2 or more players in top 20% of shooting percentage.\n",
    "        - Player in the top 10% for rebounds.\n",
    "        - Player with a Defensive Rebound percentage bigger than 0.2\n",
    "        - 3 or more players in top 20% of best net rating\n",
    "        - 2 or more players with better than average assists\n",
    "        \"\"\"\n",
    "        label = 0\n",
    "        # check if there are 2 players with better than average assists\n",
    "        players_ast = [player for player in features if float(player['ast']) > average_assists]\n",
    "        if len(players_ast) >= 3:\n",
    "            # check if 2 or more players in top 20% of shooting percentage\n",
    "            players_ts = [player for player in features if float(player['ts_pct']) > top_20_ts]\n",
    "            if len(players_ts) >= 2:\n",
    "                # check if any player is in the top 10% for rebounds\n",
    "                players_reb = [player for player in features if float(player['reb']) > 1]\n",
    "                if len(players_reb) >=5:\n",
    "                    # check if any player on team has dreb pct > 0.2\n",
    "                    players_dreb = [player for player in features if float(player['dreb_pct'])>0.2]\n",
    "                    if len(players_dreb) >=2:\n",
    "                        # check if 3 or more players in top 20% of net rating\n",
    "                        players_rating = [player for player in features if float(player['rating']) > top_20_rating]\n",
    "                        if len(players_rating) >= 3:\n",
    "                            # Optimal Team Found\n",
    "                            label = 1\n",
    "        y.append(label)                   \n",
    "    X = np.array(X)\n",
    "    y = np.array(y)\n",
    "    \n",
    "    # output shapes\n",
    "    print(f\"Shape of X: {X.shape}\")\n",
    "    print(f\"Shape of y: {y.shape}\")\n",
    "    \n",
    "    # Output number of y = 1 occurances and output\n",
    "    count_ones = np.sum(y == 1)\n",
    "    print(f\"Number of 1's in y: {count_ones}\")\n",
    "\n",
    "    return X, y\n",
    "\n",
    "\n"
   ]
  },
  {
   "cell_type": "markdown",
   "metadata": {},
   "source": [
    "## Train Model\n",
    "Now that we have the training data, we can train the model."
   ]
  },
  {
   "cell_type": "code",
   "execution_count": 84,
   "metadata": {
    "ExecuteTime": {
     "end_time": "2024-09-21T21:02:36.160763Z",
     "start_time": "2024-09-21T21:02:31.442522Z"
    }
   },
   "outputs": [
    {
     "name": "stdout",
     "output_type": "stream",
     "text": [
      "Shape of X: (10000, 5)\n",
      "Shape of y: (10000,)\n",
      "Number of 1's in y: 17\n",
      "Epoch 1/10\n",
      "\u001B[1m313/313\u001B[0m \u001B[32m━━━━━━━━━━━━━━━━━━━━\u001B[0m\u001B[37m\u001B[0m \u001B[1m2s\u001B[0m 927us/step - accuracy: 0.9918 - loss: 0.0387\n",
      "Epoch 2/10\n",
      "\u001B[1m313/313\u001B[0m \u001B[32m━━━━━━━━━━━━━━━━━━━━\u001B[0m\u001B[37m\u001B[0m \u001B[1m0s\u001B[0m 767us/step - accuracy: 0.9985 - loss: 0.0101\n",
      "Epoch 3/10\n",
      "\u001B[1m313/313\u001B[0m \u001B[32m━━━━━━━━━━━━━━━━━━━━\u001B[0m\u001B[37m\u001B[0m \u001B[1m0s\u001B[0m 764us/step - accuracy: 0.9981 - loss: 0.0116\n",
      "Epoch 4/10\n",
      "\u001B[1m313/313\u001B[0m \u001B[32m━━━━━━━━━━━━━━━━━━━━\u001B[0m\u001B[37m\u001B[0m \u001B[1m0s\u001B[0m 799us/step - accuracy: 0.9983 - loss: 0.0100\n",
      "Epoch 5/10\n",
      "\u001B[1m313/313\u001B[0m \u001B[32m━━━━━━━━━━━━━━━━━━━━\u001B[0m\u001B[37m\u001B[0m \u001B[1m0s\u001B[0m 759us/step - accuracy: 0.9979 - loss: 0.0097\n",
      "Epoch 6/10\n",
      "\u001B[1m313/313\u001B[0m \u001B[32m━━━━━━━━━━━━━━━━━━━━\u001B[0m\u001B[37m\u001B[0m \u001B[1m0s\u001B[0m 754us/step - accuracy: 0.9979 - loss: 0.0082\n",
      "Epoch 7/10\n",
      "\u001B[1m313/313\u001B[0m \u001B[32m━━━━━━━━━━━━━━━━━━━━\u001B[0m\u001B[37m\u001B[0m \u001B[1m0s\u001B[0m 753us/step - accuracy: 0.9988 - loss: 0.0056\n",
      "Epoch 8/10\n",
      "\u001B[1m313/313\u001B[0m \u001B[32m━━━━━━━━━━━━━━━━━━━━\u001B[0m\u001B[37m\u001B[0m \u001B[1m0s\u001B[0m 750us/step - accuracy: 0.9988 - loss: 0.0036\n",
      "Epoch 9/10\n",
      "\u001B[1m313/313\u001B[0m \u001B[32m━━━━━━━━━━━━━━━━━━━━\u001B[0m\u001B[37m\u001B[0m \u001B[1m0s\u001B[0m 809us/step - accuracy: 0.9981 - loss: 0.0045\n",
      "Epoch 10/10\n",
      "\u001B[1m313/313\u001B[0m \u001B[32m━━━━━━━━━━━━━━━━━━━━\u001B[0m\u001B[37m\u001B[0m \u001B[1m0s\u001B[0m 739us/step - accuracy: 0.9993 - loss: 0.0017\n"
     ]
    },
    {
     "data": {
      "text/plain": "<keras.src.callbacks.history.History at 0x26363fc3950>"
     },
     "execution_count": 84,
     "metadata": {},
     "output_type": "execute_result"
    }
   ],
   "source": [
    "X_train, y_train = simulate_data(training_data)\n",
    "\n",
    "# Extract numerical features from dictionaries\n",
    "X_train = np.array([\n",
    "    [\n",
    "        float(player['ts_pct']),\n",
    "        float(player['reb']),\n",
    "        float(player['dreb_pct']),\n",
    "        float(player['rating']),\n",
    "        float(player['ast'])\n",
    "    ]\n",
    "    for team in X_train\n",
    "    for player in team\n",
    "]).reshape(len(X_train), -1)\n",
    "\n",
    "# Build the model\n",
    "model = Sequential()\n",
    "model.add(Dense(64, input_dim=X_train.shape[1], activation='relu'))\n",
    "model.add(Dense(32, activation='relu'))\n",
    "model.add(Dense(1, activation='sigmoid'))\n",
    "\n",
    "# Compile the model\n",
    "model.compile(optimizer='adam', loss='binary_crossentropy', metrics=['accuracy'])\n",
    "\n",
    "# Train the model\n",
    "model.fit(X_train, y_train, epochs=10, batch_size=32)\n",
    "# TO-DO: SPLIT DATA FOR TESTING?"
   ]
  },
  {
   "cell_type": "markdown",
   "metadata": {},
   "source": [
    "TO DO:"
   ]
  },
  {
   "cell_type": "markdown",
   "metadata": {},
   "source": [
    "Explain your architecture and how the basketball player characteristics are used as inputs:"
   ]
  },
  {
   "cell_type": "markdown",
   "metadata": {},
   "source": [
    "Data Splitting for Testing:\n",
    "Split the data and try to predict the testing data\n"
   ]
  },
  {
   "cell_type": "markdown",
   "metadata": {},
   "source": [
    "\n",
    "Only 100 ish positives out of the sample with 10000 when simulating data\n",
    "Maybe change requirements for optimal team so one can be more commom ?"
   ]
  },
  {
   "cell_type": "markdown",
   "metadata": {},
   "source": [
    "Double check algorithm and outputs"
   ]
  },
  {
   "cell_type": "markdown",
   "metadata": {},
   "source": [
    "Expand documentation"
   ]
  },
  {
   "cell_type": "markdown",
   "metadata": {},
   "source": [
    "Interpret the output of your MLP in the context of selecting an optimal basketball team:\n",
    "\n"
   ]
  }
 ],
 "metadata": {
  "kernelspec": {
   "display_name": "Python 3",
   "language": "python",
   "name": "python3"
  },
  "language_info": {
   "codemirror_mode": {
    "name": "ipython",
    "version": 3
   },
   "file_extension": ".py",
   "mimetype": "text/x-python",
   "name": "python",
   "nbconvert_exporter": "python",
   "pygments_lexer": "ipython3",
   "version": "3.11.2"
  }
 },
 "nbformat": 4,
 "nbformat_minor": 2
}
