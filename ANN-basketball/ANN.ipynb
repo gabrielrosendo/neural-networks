{
 "cells": [
  {
   "cell_type": "markdown",
   "metadata": {},
   "source": [
    "Gabriel Marcelino\n",
    "September 2024\n",
    "Artificial Neural Network (ANN)"
   ]
  },
  {
   "cell_type": "markdown",
   "metadata": {},
   "source": [
    "## Import dependencies and load data"
   ]
  },
  {
   "cell_type": "code",
   "execution_count": 197,
   "metadata": {},
   "outputs": [
    {
     "name": "stdout",
     "output_type": "stream",
     "text": [
      "[['10631', 'Jared Dudley', 'LAL', '34.0', '198.12', '107.501304', 'Boston College', 'USA', '2007', '1', '22', '45', '1.5', '1.2', '0.6', '3.3', '0.017', '0.11900000000000001', '0.081', '0.5579999999999999', '0.10400000000000001', '2019-20'], ['10632', 'Jabari Parker', 'SAC', '25.0', '203.2', '111.13004', 'Duke', 'USA', '2014', '1', '2', '38', '14.0', '5.6', '1.8', '-4.9', '0.065', '0.17', '0.233', '0.5710000000000001', '0.11', '2019-20'], ['10633', 'James Johnson', 'MIN', '33.0', '200.66', '108.86208', 'Wake Forest', 'USA', '2009', '1', '16', '32', '8.4', '3.7', '2.3', '-4.6', '0.038', '0.145', '0.18600000000000003', '0.5720000000000001', '0.177', '2019-20'], ['10634', 'James Harden', 'HOU', '30.0', '195.58', '99.79024', 'Arizona State', 'USA', '2009', '1', '3', '68', '34.3', '6.6', '7.5', '5.8', '0.026000000000000002', '0.139', '0.35600000000000004', '0.626', '0.366', '2019-20'], ['10635', 'James Ennis III', 'ORL', '29.0', '198.12', '97.52228000000001', 'California State-Long Beach', 'USA', '2013', '2', '50', '69', '6.6', '3.6', '0.9', '0.1', '0.055', '0.13699999999999998', '0.151', '0.565', '0.067', '2019-20'], ['10636', 'Jamal Murray', 'DEN', '23.0', '193.04', '97.52228000000001', 'Kentucky', 'Canada', '2016', '1', '7', '59', '18.5', '4.0', '4.8', '5.3', '0.024', '0.10099999999999999', '0.248', '0.5589999999999999', '0.228', '2019-20'], ['10637', 'Jamal Crawford', 'BKN', '40.0', '195.58', '90.7184', 'Michigan', 'USA', '2000', '1', '8', '1', '5.0', '0.0', '3.0', '26.7', '0.0', '0.0', '0.235', '0.625', '0.5', '2019-20'], ['10638', 'Jalen McDaniels', 'CHA', '22.0', '208.28', '92.98635999999999', 'San Diego State', 'USA', '2019', '2', '52', '16', '5.6', '4.1', '0.8', '-3.6', '0.05', '0.172', '0.131', '0.574', '0.069', '2019-20'], ['10639', 'Jalen Brunson', 'DAL', '23.0', '185.42', '86.18248', 'Villanova', 'USA', '2018', '2', '33', '57', '8.2', '2.4', '3.3', '7.6', '0.021', '0.1', '0.19899999999999998', '0.5529999999999999', '0.265', '2019-20'], ['10640', 'Jakob Poeltl', 'SAS', '24.0', '215.9', '111.13004', 'Utah', 'Austria', '2016', '1', '9', '66', '5.6', '5.7', '1.8', '5.7', '0.10800000000000001', '0.19399999999999998', '0.125', '0.612', '0.126', '2019-20'], ['10641', 'Jake Layman', 'MIN', '26.0', '203.2', '94.800728', 'Maryland', 'USA', '2016', '2', '47', '23', '9.1', '2.5', '0.7', '2.0', '0.03', '0.075', '0.165', '0.544', '0.040999999999999995', '2019-20'], ['10642', 'JaMychal Green', 'LAC', '30.0', '203.2', '102.965384', 'Alabama', 'USA', 'Undrafted', 'Undrafted', 'Undrafted', '63', '6.8', '6.2', '0.8', '5.0', '0.055', '0.209', '0.132', '0.5760000000000001', '0.051', '2019-20'], ['10643', 'Jahlil Okafor', 'NOP', '24.0', '208.28', '122.46983999999999', 'Duke', 'USA', '2015', '1', '3', '30', '8.1', '4.2', '1.2', '-10.1', '0.094', '0.16399999999999998', '0.195', '0.642', '0.121', '2019-20'], ['10644', 'Jae Crowder', 'MIA', '29.0', '198.12', '106.59411999999999', 'Marquette', 'USA', '2012', '2', '34', '65', '10.5', '5.9', '2.5', '-2.9', '0.026000000000000002', '0.16899999999999998', '0.152', '0.5529999999999999', '0.11699999999999999', '2019-20'], ['10645', 'JaVale McGee', 'LAL', '32.0', '213.36', '122.46983999999999', 'Nevada-Reno', 'USA', '2008', '1', '18', '68', '6.6', '5.7', '0.5', '5.8', '0.111', '0.218', '0.145', '0.652', '0.044000000000000004', '2019-20'], ['10646', 'Jacob Evans', 'MIN', '23.0', '193.04', '95.25432', 'Cincinnati', 'USA', '2018', '1', '28', '29', '4.4', '1.4', '1.1', '-11.0', '0.019', '0.077', '0.16699999999999998', '0.436', '0.12', '2019-20'], ['10647', 'Jalen Lecque', 'PHX', '20.0', '193.04', '83.91452', 'None', 'USA', 'Undrafted', 'Undrafted', 'Undrafted', '5', '2.0', '0.4', '0.4', '-20.2', '0.0', '0.057', '0.18600000000000003', '0.46', '0.11800000000000001', '2019-20'], ['10648', 'Jared Harper', 'NYK', '22.0', '177.8', '79.3786', 'Auburn', 'USA', 'Undrafted', 'Undrafted', 'Undrafted', '3', '0.7', '0.0', '0.0', '-61.1', '0.0', '0.0', '0.222', '0.25', '0.0', '2019-20'], ['10649', 'Jeff Green', 'HOU', '33.0', '203.2', '106.59411999999999', 'Georgetown', 'USA', '2007', '1', '5', '48', '9.4', '2.8', '1.0', '-3.8', '0.024', '0.10800000000000001', '0.188', '0.59', '0.08199999999999999', '2019-20'], ['10650', 'Jarred Vanderbilt', 'MIN', '21.0', '205.74', '97.068688', 'Kentucky', 'USA', '2018', '2', '41', '11', '1.1', '0.8', '0.2', '-23.4', '0.065', '0.14300000000000002', '0.133', '0.6759999999999999', '0.057', '2019-20'], ['10651', 'Jeremy Pargo', 'GSW', '34.0', '187.96', '99.336648', 'Gonzaga', 'USA', '2009', '0', '0', '3', '8.3', '1.0', '2.7', '2.4', '0.024', '0.048', '0.268', '0.557', '0.308', '2019-20'], ['10652', 'Jeremy Lamb', 'IND', '28.0', '195.58', '81.64656', 'Connecticut', 'USA', '2012', '1', '12', '46', '12.5', '4.3', '2.1', '-0.9', '0.019', '0.135', '0.195', '0.547', '0.107', '2019-20'], ['10653', 'JaKarr Sampson', 'IND', '27.0', '200.66', '97.068688', \"St. John's\", 'USA', 'Undrafted', 'Undrafted', 'Undrafted', '34', '4.6', '2.6', '0.6', '1.9', '0.042', '0.141', '0.126', '0.615', '0.057999999999999996', '2019-20'], ['10654', 'Jerian Grant', 'WAS', '27.0', '193.04', '89.811216', 'Notre Dame', 'USA', '2015', '1', '19', '6', '4.5', '1.0', '1.5', '-3.6', '0.022000000000000002', '0.055999999999999994', '0.166', '0.449', '0.161', '2019-20'], ['10655', 'Jeremiah Martin', 'BKN', '24.0', '187.96', '83.91452', 'Memphis', 'USA', 'Undrafted', 'Undrafted', 'Undrafted', '9', '7.1', '1.1', '2.0', '-8.4', '0.01', '0.08900000000000001', '0.268', '0.541', '0.3', '2019-20'], ['10656', 'Jerami Grant', 'DEN', '26.0', '203.2', '95.25432', 'Syracuse', 'USA', '2014', '2', '39', '71', '12.0', '3.5', '1.2', '-2.1', '0.031', '0.099', '0.177', '0.591', '0.068', '2019-20'], ['10657', 'Jeff Teague', 'ATL', '32.0', '190.5', '88.45044', 'Wake Forest', 'USA', '2009', '1', '19', '59', '10.9', '2.4', '5.2', '-5.7', '0.017', '0.07400000000000001', '0.192', '0.557', '0.306', '2019-20'], ['10658', 'Jayson Tatum', 'BOS', '22.0', '203.2', '95.25432', 'Duke', 'USA', '2017', '1', '3', '66', '23.4', '7.0', '3.0', '10.6', '0.027000000000000003', '0.165', '0.28', '0.5670000000000001', '0.14300000000000002', '2019-20'], ['10659', 'Jaylen Nowell', 'MIN', '20.0', '193.04', '91.171992', 'Washington', 'USA', '2019', '2', '43', '15', '3.8', '0.9', '1.3', '1.2', '0.016', '0.065', '0.165', '0.47100000000000003', '0.19399999999999998', '2019-20'], ['10660', 'Jaylen Hoard', 'POR', '21.0', '203.2', '97.975872', 'Wake Forest', 'France', 'Undrafted', 'Undrafted', 'Undrafted', '13', '2.9', '2.5', '0.3', '3.0', '0.111', '0.158', '0.153', '0.504', '0.054000000000000006', '2019-20'], ['10661', 'Jaylen Brown', 'BOS', '23.0', '198.12', '101.151016', 'California', 'USA', '2016', '1', '3', '57', '20.3', '6.4', '2.1', '6.9', '0.031', '0.149', '0.245', '0.583', '0.095', '2019-20'], ['10662', 'Jaxson Hayes', 'NOP', '20.0', '210.82', '99.79024', 'Texas-Austin', 'USA', '2019', '1', '8', '64', '7.4', '4.0', '0.9', '-1.8', '0.085', '0.14', '0.146', '0.6890000000000001', '0.07400000000000001', '2019-20'], ['10663', 'Javonte Green', 'BOS', '26.0', '193.04', '92.98635999999999', 'Radford', 'USA', 'Undrafted', 'Undrafted', 'Undrafted', '48', '3.4', '1.9', '0.5', '-2.6', '0.051', '0.134', '0.149', '0.564', '0.079', '2019-20'], ['10664', 'Jarrod Uthoff', 'WAS', '27.0', '205.74', '99.79024', 'Iowa', 'USA', 'Undrafted', 'Undrafted', 'Undrafted', '7', '2.7', '0.9', '0.0', '8.1', '0.032', '0.07400000000000001', '0.141', '0.503', '0.0', '2019-20'], ['10665', 'Jarrett Culver', 'MIN', '21.0', '198.12', '88.45044', 'Texas Tech', 'USA', '2019', '1', '6', '63', '9.2', '3.4', '1.7', '-3.3', '0.040999999999999995', '0.092', '0.187', '0.467', '0.105', '2019-20'], ['10666', 'Jarrett Allen', 'BKN', '22.0', '210.82', '110.22285600000001', 'Texas-Austin', 'USA', '2017', '1', '22', '70', '11.1', '9.6', '1.6', '0.9', '0.10800000000000001', '0.226', '0.14800000000000002', '0.664', '0.086', '2019-20'], ['10667', 'Jarrell Brantley', 'UTA', '24.0', '195.58', '113.398', 'College of Charleston', 'USA', '2019', '2', '50', '9', '2.7', '2.2', '1.2', '-17.0', '0.019', '0.18899999999999997', '0.155', '0.41600000000000004', '0.193', '2019-20'], ['10668', 'Jaren Jackson Jr.', 'MEM', '20.0', '210.82', '109.769264', 'Michigan State', 'USA', '2018', '1', '4', '57', '17.4', '4.6', '1.4', '-2.6', '0.033', '0.12', '0.23800000000000002', '0.593', '0.073', '2019-20'], ['10669', 'Ja Morant', 'MEM', '20.0', '190.5', '78.92500799999999', 'Murray State', 'USA', '2019', '1', '2', '67', '17.8', '3.9', '7.3', '-0.6', '0.024', '0.09', '0.256', '0.556', '0.354', '2019-20'], ['10670', 'Gary Payton II', 'WAS', '27.0', '190.5', '88.45044', 'Oregon State', 'USA', 'Undrafted', 'Undrafted', 'Undrafted', '29', '3.9', '2.8', '1.7', '-14.3', '0.053', '0.127', '0.129', '0.473', '0.158', '2019-20'], ['10671', 'JJ Redick', 'NOP', '36.0', '190.5', '90.7184', 'Duke', 'USA', '2006', '1', '11', '60', '15.3', '2.5', '2.0', '-1.0', '0.006', '0.083', '0.19699999999999998', '0.644', '0.107', '2019-20'], ['10672', 'Goga Bitadze', 'IND', '20.0', '210.82', '113.398', 'None', 'Georgia', '2019', '1', '18', '54', '3.2', '2.0', '0.4', '-1.4', '0.052000000000000005', '0.146', '0.17', '0.523', '0.066', '2019-20'], ['10673', 'Glenn Robinson III', 'PHI', '26.0', '198.12', '100.697424', 'Michigan', 'USA', '2014', '2', '40', '62', '11.7', '4.4', '1.5', '-7.8', '0.043', '0.106', '0.16', '0.5770000000000001', '0.081', '2019-20'], ['10674', 'Giannis Antetokounmpo', 'MIL', '25.0', '210.82', '109.769264', 'None', 'Greece', '2013', '1', '15', '63', '29.5', '13.6', '5.6', '15.4', '0.068', '0.307', '0.363', '0.613', '0.32799999999999996', '2019-20'], ['10675', 'Georges Niang', 'UTA', '27.0', '200.66', '104.32616', 'Iowa State', 'USA', '2016', '2', '50', '66', '5.9', '1.9', '0.7', '-1.1', '0.015', '0.11699999999999999', '0.163', '0.589', '0.069', '2019-20'], ['10676', 'George Hill', 'MIL', '34.0', '190.5', '85.275296', 'Indiana-Purdue Indianapolis', 'USA', '2008', '1', '26', '59', '9.4', '3.0', '3.1', '10.6', '0.038', '0.086', '0.152', '0.659', '0.196', '2019-20'], ['10677', 'Gary Trent Jr.', 'POR', '21.0', '195.58', '94.800728', 'Duke', 'USA', '2018', '2', '37', '61', '8.9', '1.6', '1.0', '-1.4', '0.017', '0.052000000000000005', '0.15', '0.5870000000000001', '0.064', '2019-20'], ['10678', 'Gary Harris', 'DEN', '25.0', '193.04', '95.25432', 'Michigan State', 'USA', '2014', '1', '19', '56', '10.4', '2.9', '2.1', '3.4', '0.015', '0.077', '0.15', '0.519', '0.091', '2019-20'], ['10679', 'Goran Dragic', 'MIA', '34.0', '190.5', '86.18248', 'None', 'Slovenia', '2008', '2', '45', '59', '16.2', '3.2', '5.1', '3.5', '0.017', '0.09', '0.248', '0.573', '0.297', '2019-20'], ['10680', 'Gary Clark', 'ORL', '25.0', '198.12', '102.0582', 'Cincinnati', 'USA', 'Undrafted', 'Undrafted', 'Undrafted', '42', '3.7', '2.6', '0.4', '-5.1', '0.057999999999999996', '0.11599999999999999', '0.105', '0.568', '0.043', '2019-20'], ['10681', 'Garrett Temple', 'BKN', '34.0', '195.58', '88.45044', 'Louisiana State', 'USA', 'Undrafted', 'Undrafted', 'Undrafted', '62', '10.3', '3.5', '2.5', '-1.4', '0.015', '0.096', '0.162', '0.513', '0.132', '2019-20'], ['10682', 'Gabe Vincent', 'MIA', '24.0', '190.5', '90.7184', 'California-Santa Barbara', 'USA', 'Undrafted', 'Undrafted', 'Undrafted', '9', '2.4', '0.6', '0.7', '-15.9', '0.0', '0.053', '0.196', '0.297', '0.12', '2019-20'], ['10683', 'Furkan Korkmaz', 'PHI', '22.0', '200.66', '91.625584', 'None', 'Turkey', '2016', '1', '26', '72', '9.8', '2.3', '1.1', '2.7', '0.011000000000000001', '0.09300000000000001', '0.177', '0.579', '0.073', '2019-20'], ['10684', 'Fred VanVleet', 'TOR', '26.0', '185.42', '89.357624', 'Wichita State', 'USA', 'Undrafted', 'Undrafted', 'Undrafted', '54', '17.6', '3.8', '6.6', '4.8', '0.009000000000000001', '0.08800000000000001', '0.218', '0.5529999999999999', '0.281', '2019-20'], ['10685', 'Jerome Robinson', 'WAS', '23.0', '193.04', '86.18248', 'Boston College', 'USA', '2018', '1', '13', '63', '5.1', '2.0', '1.4', '-1.0', '0.012', '0.11', '0.155', '0.47600000000000003', '0.12300000000000001', '2019-20'], ['10686', 'Frank Mason', 'MIL', '26.0', '180.34', '86.18248', 'Kansas', 'USA', '2017', '2', '34', '9', '6.9', '2.1', '3.2', '-1.8', '0.034', '0.09699999999999999', '0.228', '0.53', '0.37200000000000005', '2019-20'], ['10687', 'Frank Ntilikina', 'NYK', '21.0', '193.04', '90.7184', 'None', 'France', '2017', '1', '8', '57', '6.3', '2.1', '3.0', '-3.9', '0.018000000000000002', '0.08199999999999999', '0.152', '0.49700000000000005', '0.209', '2019-20'], ['10688', 'Garrison Mathews', 'WAS', '23.0', '195.58', '97.52228000000001', 'Lipscomb', 'USA', 'Undrafted', 'Undrafted', 'Undrafted', '18', '5.4', '1.3', '0.6', '7.1', '0.025', '0.075', '0.13699999999999998', '0.691', '0.063', '2019-20'], ['10689', 'Gordon Hayward', 'BOS', '30.0', '200.66', '102.0582', 'Butler', 'USA', '2010', '1', '9', '52', '17.5', '6.7', '4.1', '8.5', '0.031', '0.159', '0.20600000000000002', '0.595', '0.17800000000000002', '2019-20'], ['10690', 'Gorgui Dieng', 'MEM', '30.0', '208.28', '114.30518400000001', 'Louisville', 'Senegal', '2013', '1', '21', '63', '7.4', '5.6', '1.2', '-3.6', '0.07400000000000001', '0.221', '0.175', '0.568', '0.107', '2019-20'], ['10691', 'Grant Williams', 'BOS', '21.0', '198.12', '107.047712', 'Tennessee', 'USA', '2019', '1', '22', '69', '3.4', '2.6', '1.0', '6.3', '0.053', '0.106', '0.11199999999999999', '0.505', '0.085', '2019-20'], ['10692', 'J.P. Macura', 'CLE', '25.0', '193.04', '92.079176', 'Xavier', 'USA', '2018', 'Undrafted', 'Undrafted', '1', '0.0', '0.0', '0.0', '150.0', '0.0', '0.0', '0.0', '0.0', '0.0', '2019-20'], ['10693', 'J.J. Barea', 'DAL', '36.0', '177.8', '81.64656', 'Northeastern', 'Puerto Rico', 'Undrafted', 'Undrafted', 'Undrafted', '29', '7.7', '1.8', '3.9', '2.9', '0.022000000000000002', '0.09699999999999999', '0.245', '0.512', '0.365', '2019-20'], ['10694', 'Ivica Zubac', 'LAC', '23.0', '213.36', '108.86208', 'None', 'Croatia', '2016', '2', '32', '72', '8.3', '7.5', '1.1', '8.9', '0.14', '0.24', '0.163', '0.6509999999999999', '0.091', '2019-20'], ['10695', 'Ish Smith', 'WAS', '31.0', '182.88', '79.3786', 'Wake Forest', 'USA', 'Undrafted', 'Undrafted', 'Undrafted', '68', '10.9', '3.2', '4.9', '-3.9', '0.015', '0.10300000000000001', '0.18600000000000003', '0.509', '0.266', '2019-20'], ['10696', 'Isaiah Thomas', 'WAS', '31.0', '175.26', '83.91452', 'Washington', 'USA', '2011', '2', '60', '40', '12.2', '1.7', '3.7', '-10.4', '0.011000000000000001', '0.063', '0.23600000000000002', '0.531', '0.22399999999999998', '2019-20'], ['10697', 'Isaiah Roby', 'OKC', '22.0', '203.2', '104.32616', 'Nebraska-Lincoln', 'USA', '2019', '2', '45', '3', '0.0', '0.7', '0.0', '-11.5', '0.0', '0.16699999999999998', '0.071', '0.0', '0.0', '2019-20'], ['10698', 'Isaiah Hartenstein', 'HOU', '22.0', '213.36', '113.398', 'None', 'Germany', '2017', '2', '43', '23', '4.7', '3.9', '0.8', '8.7', '0.107', '0.2', '0.14400000000000002', '0.674', '0.095', '2019-20'], ['10699', 'Isaac Bonga', 'WAS', '20.0', '203.2', '81.64656', 'None', 'Germany', '2018', '2', '39', '66', '5.0', '3.4', '1.2', '-0.4', '0.052000000000000005', '0.121', '0.106', '0.608', '0.081', '2019-20'], ['10700', 'Iman Shumpert', 'BKN', '30.0', '195.58', '96.16150400000001', 'Georgia Tech', 'USA', '2011', '1', '17', '13', '4.2', '2.6', '0.9', '-9.0', '0.035', '0.092', '0.134', '0.40299999999999997', '0.078', '2019-20'], ['10701', 'Ignas Brazdeikis', 'NYK', '21.0', '198.12', '100.243832', 'Michigan', 'Canada', '2019', '2', '47', '9', '1.9', '0.6', '0.4', '-7.1', '0.036000000000000004', '0.068', '0.218', '0.35100000000000003', '0.114', '2019-20'], ['10702', 'Ian Mahinmi', 'WAS', '33.0', '210.82', '118.841104', 'None', 'France', '2005', '1', '28', '38', '7.4', '5.7', '1.3', '-4.5', '0.08900000000000001', '0.17600000000000002', '0.154', '0.545', '0.084', '2019-20'], ['10703', 'Henry Ellenson', 'BKN', '23.0', '208.28', '108.86208', 'Marquette', 'USA', '2016', '1', '18', '5', '0.4', '1.2', '0.2', '27.3', '0.111', '0.19', '0.159', '0.14300000000000002', '0.125', '2019-20'], ['10704', 'Hassan Whiteside', 'POR', '31.0', '213.36', '120.20188', 'Marshall', 'USA', '2010', '2', '33', '67', '15.5', '13.5', '1.2', '2.7', '0.12300000000000001', '0.294', '0.192', '0.644', '0.057999999999999996', '2019-20'], ['10705', 'Harry Giles III', 'SAC', '22.0', '210.82', '108.86208', 'Duke', 'USA', '2017', '1', '20', '46', '6.9', '4.1', '1.3', '-8.2', '0.065', '0.24100000000000002', '0.20600000000000002', '0.58', '0.135', '2019-20'], ['10706', 'Harrison Barnes', 'SAC', '28.0', '203.2', '102.0582', 'North Carolina', 'USA', '2012', '1', '7', '72', '14.5', '4.9', '2.2', '-2.5', '0.03', '0.111', '0.172', '0.574', '0.092', '2019-20'], ['10707', 'Hamidou Diallo', 'OKC', '21.0', '195.58', '91.625584', 'Kentucky', 'USA', '2018', '2', '45', '46', '6.9', '3.6', '0.8', '0.9', '0.046', '0.124', '0.17300000000000001', '0.491', '0.06', '2019-20'], ['10708', 'Grayson Allen', 'MEM', '24.0', '193.04', '89.811216', 'Duke', 'USA', '2018', '1', '21', '38', '8.7', '2.2', '1.4', '-6.0', '0.01', '0.10300000000000001', '0.171', '0.609', '0.10400000000000001', '2019-20'], ['10709', 'JR Smith', 'LAL', '34.0', '198.12', '99.79024', 'No College', 'USA', '2004', '1', '18', '6', '2.8', '0.8', '0.5', '-16.7', '0.0', '0.06', '0.14400000000000002', '0.37200000000000005', '0.055999999999999994', '2019-20'], ['10710', 'Jevon Carter', 'PHX', '24.0', '185.42', '90.7184', 'West Virginia', 'USA', '2018', '2', '32', '58', '4.9', '2.0', '1.4', '0.7', '0.031', '0.09', '0.127', '0.563', '0.129', '2019-20'], ['10711', 'Kostas Antetokounmpo', 'LAL', '22.0', '208.28', '90.7184', 'Dayton', 'Greece', '2018', '2', '60', '5', '1.4', '0.6', '0.4', '19.6', '0.095', '0.05', '0.096', '0.902', '0.1', '2019-20'], ['10712', 'Joakim Noah', 'LAC', '35.0', '210.82', '105.23334399999999', 'Florida', 'USA', '2007', '1', '9', '5', '2.8', '3.2', '1.4', '-14.6', '0.091', '0.16899999999999998', '0.14', '0.608', '0.259', '2019-20'], ['10713', 'Kevin Porter Jr.', 'CLE', '20.0', '193.04', '92.079176', 'Southern California', 'USA', '2019', '1', '30', '50', '10.0', '3.2', '2.2', '-11.2', '0.018000000000000002', '0.121', '0.20199999999999999', '0.535', '0.147', '2019-20'], ['10714', 'Kevin Love', 'CLE', '31.0', '203.2', '113.851592', 'UCLA', 'USA', '2008', '1', '5', '56', '17.6', '9.8', '3.2', '-8.0', '0.03', '0.28600000000000003', '0.225', '0.599', '0.15', '2019-20'], ['10715', 'Kevin Knox II', 'NYK', '20.0', '200.66', '97.52228000000001', 'Kentucky', 'USA', '2018', '1', '9', '65', '6.4', '2.8', '0.9', '-7.3', '0.021', '0.128', '0.172', '0.47', '0.076', '2019-20'], ['10716', 'Kevin Huerter', 'ATL', '21.0', '200.66', '86.18248', 'Maryland', 'USA', '2018', '1', '19', '56', '12.2', '4.1', '3.8', '-6.1', '0.019', '0.106', '0.16899999999999998', '0.536', '0.171', '2019-20'], ['10717', 'Kevin Hervey', 'OKC', '23.0', '205.74', '104.32616', 'Texas-Arlington', 'USA', '2018', '2', '57', '10', '1.7', '1.2', '0.5', '-28.9', '0.012', '0.21600000000000003', '0.18899999999999997', '0.315', '0.192', '2019-20'], ['10718', 'Kentavious Caldwell-Pope', 'LAL', '27.0', '195.58', '92.532768', 'Georgia', 'USA', '2013', '1', '8', '69', '9.3', '2.1', '1.6', '3.5', '0.021', '0.055999999999999994', '0.142', '0.584', '0.085', '2019-20'], ['10719', 'Kent Bazemore', 'SAC', '30.0', '193.04', '88.45044', 'Old Dominion', 'USA', 'Undrafted', 'Undrafted', 'Undrafted', '68', '8.8', '4.3', '1.4', '0.8', '0.015', '0.14400000000000002', '0.171', '0.499', '0.077', '2019-20'], ['10720', 'Kevon Looney', 'GSW', '24.0', '205.74', '100.697424', 'UCLA', 'USA', '2015', '1', '30', '20', '3.4', '3.3', '1.0', '-18.3', '0.098', '0.151', '0.147', '0.40299999999999997', '0.12', '2019-20'], ['10721', 'Kenrich Williams', 'NOP', '25.0', '198.12', '95.25432', 'TCU', 'USA', 'Undrafted', 'Undrafted', 'Undrafted', '39', '3.5', '4.8', '1.5', '-1.0', '0.055', '0.157', '0.087', '0.429', '0.087', '2019-20'], ['10722', 'Kemba Walker', 'BOS', '30.0', '182.88', '83.46092800000001', 'Connecticut', 'USA', '2011', '1', '9', '56', '20.4', '3.9', '4.8', '7.1', '0.02', '0.1', '0.268', '0.575', '0.23199999999999998', '2019-20'], ['10723', 'Kelly Oubre Jr.', 'PHX', '24.0', '200.66', '92.079176', 'Kansas', 'USA', '2015', '1', '15', '56', '18.7', '6.4', '1.5', '0.2', '0.034', '0.151', '0.21899999999999997', '0.56', '0.066', '2019-20'], ['10724', 'Kelly Olynyk', 'MIA', '29.0', '210.82', '108.86208', 'Gonzaga', 'Canada', '2013', '1', '13', '67', '8.2', '4.6', '1.7', '1.5', '0.034', '0.191', '0.165', '0.621', '0.131', '2019-20'], ['10725', 'Keldon Johnson', 'SAS', '20.0', '195.58', '99.79024', 'Kentucky', 'USA', '2019', '1', '29', '17', '9.1', '3.4', '0.9', '11.3', '0.033', '0.146', '0.16399999999999998', '0.711', '0.066', '2019-20'], ['10726', 'Kelan Martin', 'MIN', '24.0', '195.58', '104.32616', 'Butler', 'USA', 'Undrafted', 'Undrafted', 'Undrafted', '31', '6.4', '3.1', '0.7', '-1.7', '0.021', '0.154', '0.171', '0.506', '0.071', '2019-20'], ['10727', 'Keita Bates-Diop', 'DEN', '24.0', '203.2', '103.872568', 'Ohio State', 'USA', '2018', '2', '48', '44', '6.5', '2.9', '0.7', '-10.6', '0.03', '0.131', '0.156', '0.539', '0.064', '2019-20'], ['10728', 'Kawhi Leonard', 'LAC', '29.0', '200.66', '102.0582', 'San Diego State', 'USA', '2011', '1', '15', '57', '27.1', '7.1', '4.9', '12.2', '0.027999999999999997', '0.175', '0.327', '0.589', '0.255', '2019-20'], ['10729', 'Kendrick Nunn', 'MIA', '24.0', '187.96', '86.18248', 'Oakland', 'USA', 'Undrafted', 'Undrafted', 'Undrafted', '67', '15.3', '2.7', '3.3', '1.2', '0.011000000000000001', '0.079', '0.23600000000000002', '0.534', '0.182', '2019-20'], ['10730', 'Khem Birch', 'ORL', '27.0', '205.74', '105.68693600000002', 'UNLV', 'Canada', 'Undrafted', 'Undrafted', 'Undrafted', '48', '4.4', '4.6', '1.0', '-7.1', '0.08900000000000001', '0.14400000000000002', '0.10099999999999999', '0.5660000000000001', '0.079', '2019-20']]\n"
     ]
    }
   ],
   "source": [
    "import csv\n",
    "import random\n",
    "import numpy as np\n",
    "from keras.models import Sequential\n",
    "from keras.layers import Dense\n",
    "from sklearn.model_selection import train_test_split\n",
    "from sklearn.metrics import accuracy_score, precision_score, recall_score, f1_score\n",
    "\n",
    "pool = []\n",
    "training_data = []\n",
    "# create pool with players from 2019-2022\n",
    "with open('all_seasons.csv', mode = 'r') as file:\n",
    "    csvFile = csv.reader(file)\n",
    "    # ignore first line\n",
    "    next(csvFile)\n",
    "    for lines in csvFile:\n",
    "        year = int(lines[21][:4])\n",
    "        if 2018 < year < 2023 and len(pool) < 100 and lines[1] not in pool:\n",
    "            pool.append(lines)\n",
    "        elif len(training_data) < 5000:\n",
    "            training_data.append(lines)\n"
   ]
  },
  {
   "cell_type": "markdown",
   "metadata": {},
   "source": [
    "## Optimal Team : Considerations\n",
    "For my optimal team, I will aim for:\n",
    "- 2 or more players in top 20% of shooting percentage.\n",
    "- Player in the top 5% out of the 100 for rebounds.\n",
    "- Player with a Defensive Rebound percentage bigger than 0.2\n",
    "- 3 or more players in top 20% of best net rating\n",
    "- 2 or more players with better than average assists"
   ]
  },
  {
   "cell_type": "markdown",
   "metadata": {},
   "source": [
    "## Model"
   ]
  },
  {
   "cell_type": "code",
   "execution_count": 198,
   "metadata": {},
   "outputs": [],
   "source": [
    "def extract_features(pool):\n",
    "    features_list = []\n",
    "    for player in pool:\n",
    "        # extract relevant features based on considerations above\n",
    "        features = {\n",
    "            'name': player[1],\n",
    "            'ts_pct': player[19],\n",
    "            'reb': player[13],\n",
    "            'dreb_pct': player[17],\n",
    "            'rating': player[15],\n",
    "            'ast': player[14]\n",
    "        }\n",
    "        features_list.append(features)\n",
    "    return features_list\n"
   ]
  },
  {
   "cell_type": "markdown",
   "metadata": {},
   "source": [
    "## Simulate Training Data to train model"
   ]
  },
  {
   "cell_type": "code",
   "execution_count": 199,
   "metadata": {},
   "outputs": [],
   "source": [
    "\n",
    "\n",
    "def simulate_data(sample, num_iter=10000):\n",
    "    X = []\n",
    "    y = []\n",
    "    # calculate average assists\n",
    "    assists = np.array([float(player[14]) for player in sample])\n",
    "    average_assists = np.mean(assists)\n",
    "    # calculate top 20% of shooting percentage\n",
    "    top_20_ts = np.percentile([float(player[19]) for player in sample], 80)\n",
    "    # calculate top 10% of rebound\n",
    "    top_10_reb = np.percentile([float(player[13]) for player in sample], 90)\n",
    "    # calculate top 20% net rating\n",
    "    top_20_rating = np.percentile([float(player[15]) for player in sample], 80)\n",
    "\n",
    "    for i in range(num_iter):\n",
    "        # select 5 random players from list\n",
    "        selected_players = random.sample(sample, 5)\n",
    "        features = extract_features(selected_players)\n",
    "        X.append(features)\n",
    "        \"\"\"\n",
    "        - 2 or more players in top 20% of shooting percentage.\n",
    "        - Player in the top 10% for rebounds.\n",
    "        - Player with a Defensive Rebound percentage bigger than 0.2\n",
    "        - 3 or more players in top 20% of best net rating\n",
    "        - 2 or more players with better than average assists\n",
    "        \"\"\"\n",
    "        label = 0\n",
    "        # check if there are 2 players with better than average assists\n",
    "        players_ast = [player for player in features if float(player['ast']) > average_assists]\n",
    "        if len(players_ast) >= 2:\n",
    "            # check if 2 or more players in top 20% of shooting percentage\n",
    "            players_ts = [player for player in features if float(player['ts_pct']) > top_20_ts]\n",
    "            if len(players_ts) >= 2:\n",
    "                # check if any player is in the top 10% for rebounds\n",
    "                players_reb = [player for player in features if float(player['reb']) > 1]\n",
    "                if len(players_reb) >=1:\n",
    "                    # check if any player on team has dreb pct > 0.2\n",
    "                    players_dreb = [player for player in features if float(player['dreb_pct'])>0.2]\n",
    "                    if len(players_dreb) >=1:\n",
    "                        # check if 3 or more players in top 20% of net rating\n",
    "                        players_rating = [player for player in features if float(player['rating']) > top_20_rating]\n",
    "                        if len(players_rating) >= 3:\n",
    "                            # Optimal Team Found\n",
    "                            label = 1\n",
    "        y.append(label)                   \n",
    "    X = np.array(X)\n",
    "    y = np.array(y)\n",
    "    print(f\"Shape of X: {X.shape}\")\n",
    "    print(f\"Shape of y: {y.shape}\")\n",
    "    # TO-DO\n",
    "    # Only 20 ish positives out of the sample with 10000\n",
    "    # Maybe change rules ?\n",
    "    count_ones = np.sum(y == 1)\n",
    "    print(f\"Number of 1's in y: {count_ones}\")\n",
    "\n",
    "    return X, y\n",
    "\n",
    "\n"
   ]
  },
  {
   "cell_type": "markdown",
   "metadata": {},
   "source": [
    "## Train Model\n",
    "Now that we have the training data, we can train the model."
   ]
  },
  {
   "cell_type": "code",
   "execution_count": 200,
   "metadata": {},
   "outputs": [
    {
     "name": "stdout",
     "output_type": "stream",
     "text": [
      "Shape of X: (10000, 5)\n",
      "Shape of y: (10000,)\n",
      "Number of 1's in y: 130\n",
      "Epoch 1/10\n",
      "\u001b[1m313/313\u001b[0m \u001b[32m━━━━━━━━━━━━━━━━━━━━\u001b[0m\u001b[37m\u001b[0m \u001b[1m1s\u001b[0m 454us/step - accuracy: 0.9603 - loss: 0.1494\n",
      "Epoch 2/10\n",
      "\u001b[1m313/313\u001b[0m \u001b[32m━━━━━━━━━━━━━━━━━━━━\u001b[0m\u001b[37m\u001b[0m \u001b[1m0s\u001b[0m 423us/step - accuracy: 0.9826 - loss: 0.0733\n",
      "Epoch 3/10\n",
      "\u001b[1m313/313\u001b[0m \u001b[32m━━━━━━━━━━━━━━━━━━━━\u001b[0m\u001b[37m\u001b[0m \u001b[1m0s\u001b[0m 424us/step - accuracy: 0.9873 - loss: 0.0561\n",
      "Epoch 4/10\n",
      "\u001b[1m313/313\u001b[0m \u001b[32m━━━━━━━━━━━━━━━━━━━━\u001b[0m\u001b[37m\u001b[0m \u001b[1m0s\u001b[0m 431us/step - accuracy: 0.9883 - loss: 0.0520\n",
      "Epoch 5/10\n",
      "\u001b[1m313/313\u001b[0m \u001b[32m━━━━━━━━━━━━━━━━━━━━\u001b[0m\u001b[37m\u001b[0m \u001b[1m0s\u001b[0m 436us/step - accuracy: 0.9872 - loss: 0.0492\n",
      "Epoch 6/10\n",
      "\u001b[1m313/313\u001b[0m \u001b[32m━━━━━━━━━━━━━━━━━━━━\u001b[0m\u001b[37m\u001b[0m \u001b[1m0s\u001b[0m 459us/step - accuracy: 0.9866 - loss: 0.0493\n",
      "Epoch 7/10\n",
      "\u001b[1m313/313\u001b[0m \u001b[32m━━━━━━━━━━━━━━━━━━━━\u001b[0m\u001b[37m\u001b[0m \u001b[1m0s\u001b[0m 481us/step - accuracy: 0.9866 - loss: 0.0447\n",
      "Epoch 8/10\n",
      "\u001b[1m313/313\u001b[0m \u001b[32m━━━━━━━━━━━━━━━━━━━━\u001b[0m\u001b[37m\u001b[0m \u001b[1m0s\u001b[0m 451us/step - accuracy: 0.9870 - loss: 0.0425\n",
      "Epoch 9/10\n",
      "\u001b[1m313/313\u001b[0m \u001b[32m━━━━━━━━━━━━━━━━━━━━\u001b[0m\u001b[37m\u001b[0m \u001b[1m0s\u001b[0m 470us/step - accuracy: 0.9891 - loss: 0.0371\n",
      "Epoch 10/10\n",
      "\u001b[1m313/313\u001b[0m \u001b[32m━━━━━━━━━━━━━━━━━━━━\u001b[0m\u001b[37m\u001b[0m \u001b[1m0s\u001b[0m 494us/step - accuracy: 0.9877 - loss: 0.0380\n"
     ]
    },
    {
     "data": {
      "text/plain": [
       "<keras.src.callbacks.history.History at 0x148720050>"
      ]
     },
     "execution_count": 200,
     "metadata": {},
     "output_type": "execute_result"
    }
   ],
   "source": [
    "X_train, y_train = simulate_data(training_data)\n",
    "\n",
    "# Extract numerical features from dictionaries\n",
    "X_train = np.array([\n",
    "    [\n",
    "        float(player['ts_pct']),\n",
    "        float(player['reb']),\n",
    "        float(player['dreb_pct']),\n",
    "        float(player['rating']),\n",
    "        float(player['ast'])\n",
    "    ]\n",
    "    for team in X_train\n",
    "    for player in team\n",
    "]).reshape(len(X_train), -1)\n",
    "\n",
    "# Build the model\n",
    "model = Sequential()\n",
    "model.add(Dense(64, input_dim=X_train.shape[1], activation='relu'))\n",
    "model.add(Dense(32, activation='relu'))\n",
    "model.add(Dense(1, activation='sigmoid'))\n",
    "\n",
    "# Compile the model\n",
    "model.compile(optimizer='adam', loss='binary_crossentropy', metrics=['accuracy'])\n",
    "\n",
    "# Train the model\n",
    "model.fit(X_train, y_train, epochs=10, batch_size=32)\n",
    "# TO-DO: SPLIT DATA FOR TESTING?"
   ]
  },
  {
   "cell_type": "markdown",
   "metadata": {},
   "source": [
    "TO DO:"
   ]
  },
  {
   "cell_type": "markdown",
   "metadata": {},
   "source": [
    "Explain your architecture and how the basketball player characteristics are used as inputs:"
   ]
  },
  {
   "cell_type": "markdown",
   "metadata": {},
   "source": [
    "Data Splitting for Testing:\n",
    "Split the data and try to predict the testing data\n"
   ]
  },
  {
   "cell_type": "markdown",
   "metadata": {},
   "source": [
    "\n",
    "Only 100 ish positives out of the sample with 10000 when simulating data\n",
    "Maybe change requirements for optimal team so one can be more commom ?"
   ]
  },
  {
   "cell_type": "markdown",
   "metadata": {},
   "source": [
    "Double check algorithm and outputs"
   ]
  },
  {
   "cell_type": "markdown",
   "metadata": {},
   "source": [
    "Expand documentation"
   ]
  },
  {
   "cell_type": "markdown",
   "metadata": {},
   "source": [
    "Interpret the output of your MLP in the context of selecting an optimal basketball team:\n",
    "\n"
   ]
  }
 ],
 "metadata": {
  "kernelspec": {
   "display_name": "Python 3",
   "language": "python",
   "name": "python3"
  },
  "language_info": {
   "codemirror_mode": {
    "name": "ipython",
    "version": 3
   },
   "file_extension": ".py",
   "mimetype": "text/x-python",
   "name": "python",
   "nbconvert_exporter": "python",
   "pygments_lexer": "ipython3",
   "version": "3.11.2"
  }
 },
 "nbformat": 4,
 "nbformat_minor": 2
}
