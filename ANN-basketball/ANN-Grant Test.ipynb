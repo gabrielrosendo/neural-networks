{
 "cells": [
  {
   "cell_type": "markdown",
   "metadata": {},
   "source": [
    "Gabriel Marcelino, Grant Burk, and Eli Kaustinen\n",
    "September 2024\n",
    "Artificial Neural Network (ANN)"
   ]
  },
  {
   "cell_type": "markdown",
   "metadata": {},
   "source": [
    "## Import dependencies and load data"
   ]
  },
  {
   "cell_type": "code",
   "execution_count": 141,
   "metadata": {
    "ExecuteTime": {
     "end_time": "2024-09-22T23:48:56.997895Z",
     "start_time": "2024-09-22T23:48:56.993857Z"
    },
    "collapsed": false
   },
   "outputs": [
    {
     "name": "stdout",
     "output_type": "stream",
     "text": [
      "['C:\\\\Program Files\\\\JetBrains\\\\PyCharm 2023.3.3\\\\plugins\\\\python\\\\helpers-pro\\\\jupyter_debug', 'C:\\\\Program Files\\\\JetBrains\\\\PyCharm 2023.3.3\\\\plugins\\\\python\\\\helpers\\\\pydev', 'C:\\\\Users\\\\grant\\\\PycharmProjects\\\\neural-networks', 'C:\\\\Users\\\\grant\\\\AppData\\\\Local\\\\Programs\\\\Python\\\\Python312\\\\python312.zip', 'C:\\\\Users\\\\grant\\\\AppData\\\\Local\\\\Programs\\\\Python\\\\Python312\\\\DLLs', 'C:\\\\Users\\\\grant\\\\AppData\\\\Local\\\\Programs\\\\Python\\\\Python312\\\\Lib', 'C:\\\\Users\\\\grant\\\\AppData\\\\Local\\\\Programs\\\\Python\\\\Python312', '', 'C:\\\\Users\\\\grant\\\\AppData\\\\Local\\\\Programs\\\\Python\\\\Python312\\\\Lib\\\\site-packages', 'C:\\\\Users\\\\grant\\\\AppData\\\\Local\\\\Programs\\\\Python\\\\Python312\\\\Lib\\\\site-packages\\\\win32', 'C:\\\\Users\\\\grant\\\\AppData\\\\Local\\\\Programs\\\\Python\\\\Python312\\\\Lib\\\\site-packages\\\\win32\\\\lib', 'C:\\\\Users\\\\grant\\\\AppData\\\\Local\\\\Programs\\\\Python\\\\Python312\\\\Lib\\\\site-packages\\\\Pythonwin', 'C:\\\\Users\\\\grant\\\\AppData\\\\Local\\\\Programs\\\\Python\\\\Python312\\\\Lib\\\\site-packages\\\\setuptools\\\\_vendor']\n"
     ]
    }
   ],
   "source": [
    "import sys\n",
    "print(sys.path)\n"
   ]
  },
  {
   "cell_type": "code",
   "execution_count": 142,
   "metadata": {
    "ExecuteTime": {
     "end_time": "2024-09-22T23:48:57.116337Z",
     "start_time": "2024-09-22T23:48:57.070451Z"
    },
    "collapsed": false
   },
   "outputs": [],
   "source": [
    "import csv\n",
    "import random\n",
    "import numpy as np\n",
    "import pandas as pd\n",
    "from sklearn.model_selection import train_test_split\n",
    "from sklearn.metrics import accuracy_score\n",
    "\n",
    "pool = []\n",
    "training_data = []\n",
    "# create pool with players from 2019-2022\n",
    "with open('all_seasons.csv', mode = 'r') as file:\n",
    "    csvFile = csv.reader(file)\n",
    "    # ignore first line\n",
    "    next(csvFile)\n",
    "    for lines in csvFile:\n",
    "        training_data.append(lines)\n"
   ]
  },
  {
   "cell_type": "markdown",
   "metadata": {
    "collapsed": false
   },
   "source": [
    "## Optimal Team : Considerations\n",
    "For my optimal team, I will aim for:\n",
    "- 1 or more players in top 20% of shooting percentage.\n",
    "- Player in the top 5% out of the 100 for rebounds.\n",
    "- Player with a Defensive Rebound percentage bigger than 0.2\n",
    "- 3 or more players in top 20% of best net rating\n",
    "- 2 or more players with better than average assists"
   ]
  },
  {
   "cell_type": "code",
   "execution_count": 143,
   "metadata": {
    "ExecuteTime": {
     "end_time": "2024-09-22T23:48:57.122309Z",
     "start_time": "2024-09-22T23:48:57.117850Z"
    },
    "collapsed": false
   },
   "outputs": [],
   "source": [
    "def extract_features(player):\n",
    "    return {\n",
    "        'name': player[1],\n",
    "        'ts_pct': float(player[19]),\n",
    "        'reb': float(player[13]),\n",
    "        'dreb_pct': float(player[17]),\n",
    "        'rating': float(player[15]),\n",
    "        'ast': float(player[14])\n",
    "    }\n"
   ]
  },
  {
   "cell_type": "code",
   "execution_count": 144,
   "metadata": {
    "ExecuteTime": {
     "end_time": "2024-09-22T23:48:57.129533Z",
     "start_time": "2024-09-22T23:48:57.123318Z"
    },
    "collapsed": false
   },
   "outputs": [],
   "source": [
    "def team_score(team):\n",
    "    ts_pct = np.mean([player['ts_pct'] for player in team])\n",
    "    reb = np.sum([player['reb'] for player in team])\n",
    "    dreb_pct = np.max([player['dreb_pct'] for player in team])\n",
    "    rating = np.mean([player['rating'] for player in team])\n",
    "    ast = np.sum([player['ast'] for player in team])\n",
    "    # For my optimal team, the most important features are\n",
    "    # 1. True shooting percentage\n",
    "    # 2. Defensive rebound percentage\n",
    "    # 3. Rating\n",
    "    # 4. Assists/Rebounds\n",
    "    score = (ts_pct * 20 + reb * 0.5 + dreb_pct * 10 + rating + ast * 0.5) / 5\n",
    "    return score\n",
    "\n",
    "def select_optimal_team(pool, team_size=5):\n",
    "    player_features = [extract_features(player) for player in pool]\n",
    "    \n",
    "    best_team = None\n",
    "    best_score = -float('inf')\n",
    "\n",
    "    # Use a heuristic to find a good solution\n",
    "    for _ in range(1000):  # Number of iterations\n",
    "        team = random.sample(player_features, team_size)\n",
    "        score = team_score(team)\n",
    "        if score > best_score:\n",
    "            best_score = score\n",
    "            best_team = team\n",
    "\n",
    "    return best_team, best_score\n",
    "\n",
    "\n",
    "\n"
   ]
  },
  {
   "cell_type": "markdown",
   "metadata": {
    "collapsed": false
   },
   "source": [
    "## Model"
   ]
  },
  {
   "cell_type": "code",
   "execution_count": 145,
   "metadata": {
    "ExecuteTime": {
     "end_time": "2024-09-22T23:48:57.135464Z",
     "start_time": "2024-09-22T23:48:57.131540Z"
    },
    "collapsed": false
   },
   "outputs": [],
   "source": [
    "def extract_features(pool):\n",
    "    features_list = []\n",
    "    for player in pool:\n",
    "        # extract relevant features based on considerations above\n",
    "        features = {\n",
    "            'name': player[1],\n",
    "            'ts_pct': player[19],\n",
    "            'reb': player[13],\n",
    "            'dreb_pct': player[17],\n",
    "            'rating': player[15],\n",
    "            'ast': player[14]\n",
    "        }\n",
    "        features_list.append(features)\n",
    "    return features_list\n"
   ]
  },
  {
   "cell_type": "markdown",
   "metadata": {
    "collapsed": false
   },
   "source": [
    "## Simulate Training Data to train model"
   ]
  },
  {
   "cell_type": "code",
   "execution_count": 146,
   "metadata": {
    "ExecuteTime": {
     "end_time": "2024-09-22T23:48:57.141012Z",
     "start_time": "2024-09-22T23:48:57.136474Z"
    },
    "collapsed": false
   },
   "outputs": [],
   "source": [
    "def make_empty(player):\n",
    "    player['ts_pct'] = 0\n",
    "    player['reb'] = 0\n",
    "    player['dreb_pct'] = 0\n",
    "    player['rating'] = 0\n",
    "    player['ast'] = 0\n",
    "    return player"
   ]
  },
  {
   "cell_type": "markdown",
   "metadata": {
    "collapsed": false
   },
   "source": [
    "# Get Best Player for Category"
   ]
  },
  {
   "cell_type": "code",
   "execution_count": 147,
   "metadata": {
    "ExecuteTime": {
     "end_time": "2024-09-22T23:48:57.145923Z",
     "start_time": "2024-09-22T23:48:57.142020Z"
    },
    "collapsed": false
   },
   "outputs": [],
   "source": [
    "def get_best(players, category):\n",
    "    best_index = 0\n",
    "    for cur in range(len(players)):\n",
    "        if float(players[cur][category]) > float(players[best_index][category]):\n",
    "            best_index = cur\n",
    "    return best_index"
   ]
  },
  {
   "cell_type": "markdown",
   "metadata": {
    "collapsed": false
   },
   "source": [
    "# Pre Process the data"
   ]
  },
  {
   "cell_type": "code",
   "execution_count": 148,
   "metadata": {
    "ExecuteTime": {
     "end_time": "2024-09-22T23:48:57.179293Z",
     "start_time": "2024-09-22T23:48:57.147440Z"
    },
    "collapsed": false
   },
   "outputs": [
    {
     "name": "stdout",
     "output_type": "stream",
     "text": [
      "\n",
      "tempX1\n",
      "100\n",
      "[{'name': 'Chris Mills', 'ts_pct': '0.544', 'reb': '6.2', 'dreb_pct': '0.157', 'rating': '4.5', 'ast': '2.5'}, {'name': 'Chris Morris', 'ts_pct': '0.486', 'reb': '2.2', 'dreb_pct': '0.155', 'rating': '-7.3', 'ast': '0.6'}, {'name': 'Chris Mullin', 'ts_pct': 0, 'reb': 0, 'dreb_pct': 0, 'rating': 0, 'ast': 0}, {'name': 'Chris Robinson', 'ts_pct': '0.486', 'reb': '1.7', 'dreb_pct': '0.08800000000000001', 'rating': '-11.4', 'ast': '1.6'}, {'name': 'Chris Webber', 'ts_pct': '0.5539999999999999', 'reb': '10.3', 'dreb_pct': '0.207', 'rating': '3.4', 'ast': '4.6'}, {'name': 'Chris Whitney', 'ts_pct': '0.5660000000000001', 'reb': '1.3', 'dreb_pct': '0.09300000000000001', 'rating': '2.0', 'ast': '2.2'}, {'name': 'Christian Laettner', 'ts_pct': '0.562', 'reb': '8.8', 'dreb_pct': '0.18600000000000003', 'rating': '11.0', 'ast': '2.7'}, {'name': 'Chucky Brown', 'ts_pct': '0.552', 'reb': '2.1', 'dreb_pct': '0.177', 'rating': '-5.9', 'ast': '0.4'}, {'name': 'Chris Gatling', 'ts_pct': '0.58', 'reb': '7.9', 'dreb_pct': '0.21600000000000003', 'rating': '-4.1', 'ast': '0.6'}, {'name': 'Clar. Weatherspoon', 'ts_pct': '0.537', 'reb': '8.3', 'dreb_pct': '0.172', 'rating': '-8.3', 'ast': '1.7'}, {'name': 'Clifford Rozier', 'ts_pct': '0.47100000000000003', 'reb': '5.6', 'dreb_pct': '0.223', 'rating': '-6.3', 'ast': '0.7'}, {'name': 'Clyde Drexler', 'ts_pct': '0.5479999999999999', 'reb': '6.0', 'dreb_pct': '0.122', 'rating': '7.5', 'ast': '5.7'}, {'name': 'Corie Blount', 'ts_pct': '0.5589999999999999', 'reb': '4.8', 'dreb_pct': '0.182', 'rating': '2.0', 'ast': '0.6'}, {'name': 'Corliss Williamson', 'ts_pct': '0.535', 'reb': '4.1', 'dreb_pct': '0.11199999999999999', 'rating': '-4.2', 'ast': '1.6'}, {'name': 'Cory Alexander', 'ts_pct': '0.528', 'reb': '1.5', 'dreb_pct': '0.081', 'rating': '-8.8', 'ast': '3.2'}, {'name': 'Craig Ehlo', 'ts_pct': '0.41200000000000003', 'reb': '1.8', 'dreb_pct': '0.107', 'rating': '5.7', 'ast': '1.1'}, {'name': 'Cuonzo Martin', 'ts_pct': '0.0', 'reb': '0.3', 'dreb_pct': '0.0', 'rating': '-12.1', 'ast': '0.3'}, {'name': 'Dale Davis', 'ts_pct': '0.532', 'reb': '9.7', 'dreb_pct': '0.215', 'rating': '-0.2', 'ast': '0.7'}, {'name': 'Dale Ellis', 'ts_pct': '0.537', 'reb': '3.6', 'dreb_pct': '0.07400000000000001', 'rating': '-9.1', 'ast': '2.0'}, {'name': 'Clifford Robinson', 'ts_pct': '0.519', 'reb': '4.0', 'dreb_pct': '0.08800000000000001', 'rating': '4.4', 'ast': '3.2'}, {'name': 'Chris Dudley', 'ts_pct': '0.449', 'reb': '7.3', 'dreb_pct': '0.249', 'rating': '-0.2', 'ast': '0.5'}, {'name': 'Chris Childs', 'ts_pct': '0.526', 'reb': '2.9', 'dreb_pct': '0.094', 'rating': '5.2', 'ast': '6.1'}, {'name': 'Chris Carr', 'ts_pct': '0.5579999999999999', 'reb': '2.1', 'dreb_pct': '0.11599999999999999', 'rating': '3.8', 'ast': '0.9'}, {'name': 'Brian Evans', 'ts_pct': '0.455', 'reb': '0.6', 'dreb_pct': '0.121', 'rating': '-12.5', 'ast': '0.5'}, {'name': 'Brian Grant', 'ts_pct': '0.511', 'reb': '5.9', 'dreb_pct': '0.185', 'rating': '-7.7', 'ast': '1.2'}, {'name': 'Brian Shaw', 'ts_pct': '0.478', 'reb': '2.5', 'dreb_pct': '0.095', 'rating': '-10.5', 'ast': '4.1'}, {'name': 'Brooks Thompson', 'ts_pct': '0.526', 'reb': '1.4', 'dreb_pct': '0.087', 'rating': '-6.2', 'ast': '2.7'}, {'name': 'Bruce Bowen', 'ts_pct': 0, 'reb': 0, 'dreb_pct': 0, 'rating': 0, 'ast': 0}, {'name': 'Bryant Reeves', 'ts_pct': '0.523', 'reb': '8.1', 'dreb_pct': '0.185', 'rating': '-10.6', 'ast': '2.1'}, {'name': 'Bryant Stith', 'ts_pct': '0.5479999999999999', 'reb': '4.2', 'dreb_pct': '0.09', 'rating': '-5.6', 'ast': '2.6'}, {'name': 'Bryon Russell', 'ts_pct': '0.6', 'reb': '4.1', 'dreb_pct': '0.11800000000000001', 'rating': '13.5', 'ast': '1.5'}, {'name': 'Buck Williams', 'ts_pct': '0.574', 'reb': '5.4', 'dreb_pct': '0.184', 'rating': '6.9', 'ast': '0.7'}, {'name': 'Byron Scott', 'ts_pct': '0.59', 'reb': '1.5', 'dreb_pct': '0.075', 'rating': '6.7', 'ast': '1.3'}, {'name': 'Calbert Cheaney', 'ts_pct': '0.53', 'reb': '3.4', 'dreb_pct': '0.095', 'rating': '2.0', 'ast': '1.4'}, {'name': 'Carl Herrera', 'ts_pct': '0.46299999999999997', 'reb': '4.5', 'dreb_pct': '0.151', 'rating': '-9.7', 'ast': '0.7'}, {'name': 'Carl Thomas', 'ts_pct': '0.43', 'reb': '0.7', 'dreb_pct': '0.152', 'rating': '-8.9', 'ast': '0.4'}, {'name': 'Carlos Rogers', 'ts_pct': '0.575', 'reb': '5.4', 'dreb_pct': '0.154', 'rating': '-5.7', 'ast': '0.7'}, {'name': 'Cedric Ceballos', 'ts_pct': '0.522', 'reb': '6.6', 'dreb_pct': '0.18100000000000002', 'rating': '4.1', 'ast': '1.3'}, {'name': 'Charles Barkley', 'ts_pct': 0, 'reb': 0, 'dreb_pct': 0, 'rating': 0, 'ast': 0}, {'name': 'Charles Jones', 'ts_pct': '0.4', 'reb': '1.1', 'dreb_pct': '0.10300000000000001', 'rating': '2.6', 'ast': '0.3'}, {'name': 'Charles Oakley', 'ts_pct': '0.545', 'reb': '9.8', 'dreb_pct': '0.218', 'rating': '3.4', 'ast': '2.8'}, {'name': 'Charles Smith', 'ts_pct': '0.461', 'reb': '3.4', 'dreb_pct': '0.179', 'rating': '-4.9', 'ast': '0.7'}, {'name': 'Charlie Ward', 'ts_pct': '0.522', 'reb': '2.8', 'dreb_pct': '0.11599999999999999', 'rating': '4.0', 'ast': '4.1'}, {'name': 'Cherokee Parks', 'ts_pct': '0.535', 'reb': '2.6', 'dreb_pct': '0.135', 'rating': '-0.6', 'ast': '0.4'}, {'name': 'Damon Stoudamire', 'ts_pct': 0, 'reb': 0, 'dreb_pct': 0, 'rating': 0, 'ast': 0}, {'name': 'Dan Majerle', 'ts_pct': '0.523', 'reb': '4.5', 'dreb_pct': '0.111', 'rating': '4.7', 'ast': '3.2'}, {'name': 'Dan Schayes', 'ts_pct': '0.465', 'reb': '2.8', 'dreb_pct': '0.183', 'rating': '-1.5', 'ast': '0.3'}, {'name': 'Dana Barros', 'ts_pct': '0.552', 'reb': '2.0', 'dreb_pct': '0.07400000000000001', 'rating': '-10.0', 'ast': '3.4'}, {'name': 'Dexter Boney', 'ts_pct': '0.42200000000000004', 'reb': '0.8', 'dreb_pct': '0.071', 'rating': '-19.6', 'ast': '0.0'}, {'name': 'Dickey Simpkins', 'ts_pct': '0.41100000000000003', 'reb': '1.9', 'dreb_pct': '0.151', 'rating': '-0.9', 'ast': '0.6'}, {'name': 'Dikembe Mutombo', 'ts_pct': '0.584', 'reb': '11.6', 'dreb_pct': '0.256', 'rating': '8.1', 'ast': '1.4'}, {'name': 'Dino Radja', 'ts_pct': '0.47100000000000003', 'reb': '8.4', 'dreb_pct': '0.217', 'rating': '-3.3', 'ast': '1.9'}, {'name': 'Dominique Wilkins', 'ts_pct': '0.517', 'reb': '6.4', 'dreb_pct': '0.154', 'rating': '-10.3', 'ast': '1.9'}, {'name': 'Don MacLean', 'ts_pct': '0.493', 'reb': '3.8', 'dreb_pct': '0.152', 'rating': '-5.9', 'ast': '1.0'}, {'name': 'Don Reid', 'ts_pct': '0.523', 'reb': '2.1', 'dreb_pct': '0.159', 'rating': '-1.5', 'ast': '0.3'}, {'name': 'Donald Royal', 'ts_pct': '0.552', 'reb': '2.5', 'dreb_pct': '0.13699999999999998', 'rating': '-4.6', 'ast': '0.4'}, {'name': 'Donald Whiteside', 'ts_pct': '0.479', 'reb': '0.4', 'dreb_pct': '0.046', 'rating': '-12.4', 'ast': '1.3'}, {'name': 'Donnie Boyce', 'ts_pct': '0.37799999999999995', 'reb': '0.7', 'dreb_pct': '0.059000000000000004', 'rating': '-10.3', 'ast': '0.6'}, {'name': 'Donny Marshall', 'ts_pct': '0.47600000000000003', 'reb': '1.3', 'dreb_pct': '0.11800000000000001', 'rating': '-8.7', 'ast': '0.4'}, {'name': 'Dontonio Wingfield', 'ts_pct': '0.501', 'reb': '2.9', 'dreb_pct': '0.14400000000000002', 'rating': '1.3', 'ast': '1.0'}, {'name': 'Donyell Marshall', 'ts_pct': '0.478', 'reb': '4.5', 'dreb_pct': '0.21', 'rating': '-8.6', 'ast': '0.9'}, {'name': 'Doug Christie', 'ts_pct': '0.5429999999999999', 'reb': '5.3', 'dreb_pct': '0.135', 'rating': '-2.6', 'ast': '3.9'}, {'name': 'Doug Overton', 'ts_pct': '0.514', 'reb': '1.1', 'dreb_pct': '0.085', 'rating': '-1.3', 'ast': '1.7'}, {'name': 'Doug West', 'ts_pct': '0.505', 'reb': '2.2', 'dreb_pct': '0.07', 'rating': '-3.1', 'ast': '1.7'}, {'name': 'Duane Causwell', 'ts_pct': '0.535', 'reb': '2.8', 'dreb_pct': '0.14300000000000002', 'rating': '-11.8', 'ast': '0.4'}, {'name': 'Duane Ferrell', 'ts_pct': '0.521', 'reb': '2.3', 'dreb_pct': '0.091', 'rating': '2.3', 'ast': '1.1'}, {'name': 'Dwayne Schintzius', 'ts_pct': '0.43', 'reb': '1.5', 'dreb_pct': '0.151', 'rating': '12.3', 'ast': '0.3'}, {'name': 'Earl Cureton', 'ts_pct': '0.376', 'reb': '1.0', 'dreb_pct': '0.102', 'rating': '-2.1', 'ast': '0.4'}, {'name': \"Ed O'Bannon\", 'ts_pct': '0.39899999999999997', 'reb': '2.3', 'dreb_pct': '0.149', 'rating': '-8.7', 'ast': '0.6'}, {'name': 'Devin Gray', 'ts_pct': '0.319', 'reb': '2.3', 'dreb_pct': '0.25', 'rating': '-42.1', 'ast': '0.3'}, {'name': 'Jud Buechler', 'ts_pct': '0.423', 'reb': '1.7', 'dreb_pct': '0.121', 'rating': '5.4', 'ast': '0.8'}, {'name': 'Detlef Schrempf', 'ts_pct': '0.5920000000000001', 'reb': '6.5', 'dreb_pct': '0.166', 'rating': '12.2', 'ast': '4.4'}, {'name': 'Derrick Coleman', 'ts_pct': '0.518', 'reb': '10.1', 'dreb_pct': '0.225', 'rating': '-5.4', 'ast': '3.4'}, {'name': 'Danny Ferry', 'ts_pct': '0.523', 'reb': '4.1', 'dreb_pct': '0.134', 'rating': '2.3', 'ast': '1.8'}, {'name': 'Danny Manning', 'ts_pct': '0.574', 'reb': '6.1', 'dreb_pct': '0.184', 'rating': '3.1', 'ast': '2.2'}, {'name': 'Darrell Armstrong', 'ts_pct': '0.525', 'reb': '1.1', 'dreb_pct': '0.05', 'rating': '0.3', 'ast': '2.6'}, {'name': 'Darrick Martin', 'ts_pct': '0.539', 'reb': '1.4', 'dreb_pct': '0.06', 'rating': '-4.5', 'ast': '4.1'}, {'name': 'Darrin Hancock', 'ts_pct': '0.51', 'reb': '0.8', 'dreb_pct': '0.11800000000000001', 'rating': '-2.6', 'ast': '0.5'}, {'name': 'Darvin Ham', 'ts_pct': '0.536', 'reb': '1.6', 'dreb_pct': '0.09699999999999999', 'rating': '-2.0', 'ast': '0.4'}, {'name': 'David Robinson', 'ts_pct': '0.5589999999999999', 'reb': '8.5', 'dreb_pct': '0.237', 'rating': '9.6', 'ast': '1.3'}, {'name': 'David Vaughn', 'ts_pct': '0.475', 'reb': '2.7', 'dreb_pct': '0.21600000000000003', 'rating': '-7.5', 'ast': '0.2'}, {'name': 'David Wesley', 'ts_pct': '0.563', 'reb': '3.6', 'dreb_pct': '0.084', 'rating': '-7.4', 'ast': '7.3'}, {'name': 'David Wingate', 'ts_pct': '0.509', 'reb': '1.1', 'dreb_pct': '0.069', 'rating': '2.8', 'ast': '1.2'}, {'name': 'David Wood', 'ts_pct': '0.621', 'reb': '0.6', 'dreb_pct': '0.128', 'rating': '3.9', 'ast': '0.3'}, {'name': 'Dean Garrett', 'ts_pct': '0.603', 'reb': '7.3', 'dreb_pct': '0.247', 'rating': '1.2', 'ast': '0.6'}, {'name': 'Dee Brown', 'ts_pct': '0.455', 'reb': '2.3', 'dreb_pct': '0.095', 'rating': '-7.5', 'ast': '3.2'}, {'name': 'Dell Curry', 'ts_pct': '0.562', 'reb': '3.1', 'dreb_pct': '0.098', 'rating': '1.6', 'ast': '1.7'}, {'name': 'Dell Demps', 'ts_pct': '0.258', 'reb': '0.0', 'dreb_pct': '0.0', 'rating': '-53.7', 'ast': '0.0'}, {'name': 'Dennis Rodman', 'ts_pct': 0, 'reb': 0, 'dreb_pct': 0, 'rating': 0, 'ast': 0}, {'name': 'Dennis Scott', 'ts_pct': '0.519', 'reb': '3.1', 'dreb_pct': '0.092', 'rating': '1.9', 'ast': '2.1'}, {'name': 'Derek Fisher', 'ts_pct': '0.491', 'reb': '1.2', 'dreb_pct': '0.087', 'rating': '5.1', 'ast': '1.5'}, {'name': 'Derek Harper', 'ts_pct': '0.516', 'reb': '1.8', 'dreb_pct': '0.057', 'rating': '-7.7', 'ast': '4.3'}, {'name': 'Derek Strong', 'ts_pct': '0.513', 'reb': '6.3', 'dreb_pct': '0.20800000000000002', 'rating': '-0.7', 'ast': '0.9'}, {'name': 'Derrick Alston', 'ts_pct': '0.0', 'reb': '2.0', 'dreb_pct': '0.2', 'rating': '-39.9', 'ast': '0.0'}, {'name': 'Derrick McKey', 'ts_pct': '0.462', 'reb': '4.8', 'dreb_pct': '0.127', 'rating': '-0.2', 'ast': '2.7'}, {'name': 'Brett Szabo', 'ts_pct': '0.517', 'reb': '2.4', 'dreb_pct': '0.196', 'rating': '-11.1', 'ast': '0.2'}, {'name': 'Juwan Howard', 'ts_pct': '0.529', 'reb': '8.0', 'dreb_pct': '0.156', 'rating': '1.3', 'ast': '3.8'}, {'name': 'Keith Askins', 'ts_pct': '0.557', 'reb': '3.5', 'dreb_pct': '0.127', 'rating': '6.1', 'ast': '1.0'}, {'name': 'Scott Burrell', 'ts_pct': '0.485', 'reb': '2.8', 'dreb_pct': '0.134', 'rating': '1.4', 'ast': '1.3'}, {'name': 'Scott Williams', 'ts_pct': '0.529', 'reb': '6.4', 'dreb_pct': '0.205', 'rating': '-4.6', 'ast': '0.7'}]\n",
      "X2\n",
      "100\n",
      "[{'name': 'Chris Mills', 'ts_pct': '0.544', 'reb': '6.2', 'dreb_pct': '0.157', 'rating': '4.5', 'ast': '2.5'}, {'name': 'Chris Morris', 'ts_pct': '0.486', 'reb': '2.2', 'dreb_pct': '0.155', 'rating': '-7.3', 'ast': '0.6'}, {'name': 'Chris Mullin', 'ts_pct': 0, 'reb': 0, 'dreb_pct': 0, 'rating': 0, 'ast': 0}, {'name': 'Chris Robinson', 'ts_pct': '0.486', 'reb': '1.7', 'dreb_pct': '0.08800000000000001', 'rating': '-11.4', 'ast': '1.6'}, {'name': 'Chris Webber', 'ts_pct': '0.5539999999999999', 'reb': '10.3', 'dreb_pct': '0.207', 'rating': '3.4', 'ast': '4.6'}, {'name': 'Chris Whitney', 'ts_pct': '0.5660000000000001', 'reb': '1.3', 'dreb_pct': '0.09300000000000001', 'rating': '2.0', 'ast': '2.2'}, {'name': 'Christian Laettner', 'ts_pct': '0.562', 'reb': '8.8', 'dreb_pct': '0.18600000000000003', 'rating': '11.0', 'ast': '2.7'}, {'name': 'Chucky Brown', 'ts_pct': '0.552', 'reb': '2.1', 'dreb_pct': '0.177', 'rating': '-5.9', 'ast': '0.4'}, {'name': 'Chris Gatling', 'ts_pct': '0.58', 'reb': '7.9', 'dreb_pct': '0.21600000000000003', 'rating': '-4.1', 'ast': '0.6'}, {'name': 'Clar. Weatherspoon', 'ts_pct': '0.537', 'reb': '8.3', 'dreb_pct': '0.172', 'rating': '-8.3', 'ast': '1.7'}, {'name': 'Clifford Rozier', 'ts_pct': '0.47100000000000003', 'reb': '5.6', 'dreb_pct': '0.223', 'rating': '-6.3', 'ast': '0.7'}, {'name': 'Clyde Drexler', 'ts_pct': '0.5479999999999999', 'reb': '6.0', 'dreb_pct': '0.122', 'rating': '7.5', 'ast': '5.7'}, {'name': 'Corie Blount', 'ts_pct': '0.5589999999999999', 'reb': '4.8', 'dreb_pct': '0.182', 'rating': '2.0', 'ast': '0.6'}, {'name': 'Corliss Williamson', 'ts_pct': '0.535', 'reb': '4.1', 'dreb_pct': '0.11199999999999999', 'rating': '-4.2', 'ast': '1.6'}, {'name': 'Cory Alexander', 'ts_pct': '0.528', 'reb': '1.5', 'dreb_pct': '0.081', 'rating': '-8.8', 'ast': '3.2'}, {'name': 'Craig Ehlo', 'ts_pct': '0.41200000000000003', 'reb': '1.8', 'dreb_pct': '0.107', 'rating': '5.7', 'ast': '1.1'}, {'name': 'Cuonzo Martin', 'ts_pct': '0.0', 'reb': '0.3', 'dreb_pct': '0.0', 'rating': '-12.1', 'ast': '0.3'}, {'name': 'Dale Davis', 'ts_pct': '0.532', 'reb': '9.7', 'dreb_pct': '0.215', 'rating': '-0.2', 'ast': '0.7'}, {'name': 'Dale Ellis', 'ts_pct': '0.537', 'reb': '3.6', 'dreb_pct': '0.07400000000000001', 'rating': '-9.1', 'ast': '2.0'}, {'name': 'Clifford Robinson', 'ts_pct': '0.519', 'reb': '4.0', 'dreb_pct': '0.08800000000000001', 'rating': '4.4', 'ast': '3.2'}, {'name': 'Chris Dudley', 'ts_pct': '0.449', 'reb': '7.3', 'dreb_pct': '0.249', 'rating': '-0.2', 'ast': '0.5'}, {'name': 'Chris Childs', 'ts_pct': '0.526', 'reb': '2.9', 'dreb_pct': '0.094', 'rating': '5.2', 'ast': '6.1'}, {'name': 'Chris Carr', 'ts_pct': '0.5579999999999999', 'reb': '2.1', 'dreb_pct': '0.11599999999999999', 'rating': '3.8', 'ast': '0.9'}, {'name': 'Brian Evans', 'ts_pct': '0.455', 'reb': '0.6', 'dreb_pct': '0.121', 'rating': '-12.5', 'ast': '0.5'}, {'name': 'Brian Grant', 'ts_pct': '0.511', 'reb': '5.9', 'dreb_pct': '0.185', 'rating': '-7.7', 'ast': '1.2'}, {'name': 'Brian Shaw', 'ts_pct': '0.478', 'reb': '2.5', 'dreb_pct': '0.095', 'rating': '-10.5', 'ast': '4.1'}, {'name': 'Brooks Thompson', 'ts_pct': '0.526', 'reb': '1.4', 'dreb_pct': '0.087', 'rating': '-6.2', 'ast': '2.7'}, {'name': 'Bruce Bowen', 'ts_pct': 0, 'reb': 0, 'dreb_pct': 0, 'rating': 0, 'ast': 0}, {'name': 'Bryant Reeves', 'ts_pct': '0.523', 'reb': '8.1', 'dreb_pct': '0.185', 'rating': '-10.6', 'ast': '2.1'}, {'name': 'Bryant Stith', 'ts_pct': '0.5479999999999999', 'reb': '4.2', 'dreb_pct': '0.09', 'rating': '-5.6', 'ast': '2.6'}, {'name': 'Bryon Russell', 'ts_pct': '0.6', 'reb': '4.1', 'dreb_pct': '0.11800000000000001', 'rating': '13.5', 'ast': '1.5'}, {'name': 'Buck Williams', 'ts_pct': '0.574', 'reb': '5.4', 'dreb_pct': '0.184', 'rating': '6.9', 'ast': '0.7'}, {'name': 'Byron Scott', 'ts_pct': '0.59', 'reb': '1.5', 'dreb_pct': '0.075', 'rating': '6.7', 'ast': '1.3'}, {'name': 'Calbert Cheaney', 'ts_pct': '0.53', 'reb': '3.4', 'dreb_pct': '0.095', 'rating': '2.0', 'ast': '1.4'}, {'name': 'Carl Herrera', 'ts_pct': '0.46299999999999997', 'reb': '4.5', 'dreb_pct': '0.151', 'rating': '-9.7', 'ast': '0.7'}, {'name': 'Carl Thomas', 'ts_pct': '0.43', 'reb': '0.7', 'dreb_pct': '0.152', 'rating': '-8.9', 'ast': '0.4'}, {'name': 'Carlos Rogers', 'ts_pct': '0.575', 'reb': '5.4', 'dreb_pct': '0.154', 'rating': '-5.7', 'ast': '0.7'}, {'name': 'Cedric Ceballos', 'ts_pct': '0.522', 'reb': '6.6', 'dreb_pct': '0.18100000000000002', 'rating': '4.1', 'ast': '1.3'}, {'name': 'Charles Barkley', 'ts_pct': 0, 'reb': 0, 'dreb_pct': 0, 'rating': 0, 'ast': 0}, {'name': 'Charles Jones', 'ts_pct': '0.4', 'reb': '1.1', 'dreb_pct': '0.10300000000000001', 'rating': '2.6', 'ast': '0.3'}, {'name': 'Charles Oakley', 'ts_pct': '0.545', 'reb': '9.8', 'dreb_pct': '0.218', 'rating': '3.4', 'ast': '2.8'}, {'name': 'Charles Smith', 'ts_pct': '0.461', 'reb': '3.4', 'dreb_pct': '0.179', 'rating': '-4.9', 'ast': '0.7'}, {'name': 'Charlie Ward', 'ts_pct': '0.522', 'reb': '2.8', 'dreb_pct': '0.11599999999999999', 'rating': '4.0', 'ast': '4.1'}, {'name': 'Cherokee Parks', 'ts_pct': '0.535', 'reb': '2.6', 'dreb_pct': '0.135', 'rating': '-0.6', 'ast': '0.4'}, {'name': 'Damon Stoudamire', 'ts_pct': 0, 'reb': 0, 'dreb_pct': 0, 'rating': 0, 'ast': 0}, {'name': 'Dan Majerle', 'ts_pct': '0.523', 'reb': '4.5', 'dreb_pct': '0.111', 'rating': '4.7', 'ast': '3.2'}, {'name': 'Dan Schayes', 'ts_pct': '0.465', 'reb': '2.8', 'dreb_pct': '0.183', 'rating': '-1.5', 'ast': '0.3'}, {'name': 'Dana Barros', 'ts_pct': '0.552', 'reb': '2.0', 'dreb_pct': '0.07400000000000001', 'rating': '-10.0', 'ast': '3.4'}, {'name': 'Dexter Boney', 'ts_pct': '0.42200000000000004', 'reb': '0.8', 'dreb_pct': '0.071', 'rating': '-19.6', 'ast': '0.0'}, {'name': 'Dickey Simpkins', 'ts_pct': '0.41100000000000003', 'reb': '1.9', 'dreb_pct': '0.151', 'rating': '-0.9', 'ast': '0.6'}, {'name': 'Dikembe Mutombo', 'ts_pct': '0.584', 'reb': '11.6', 'dreb_pct': '0.256', 'rating': '8.1', 'ast': '1.4'}, {'name': 'Dino Radja', 'ts_pct': '0.47100000000000003', 'reb': '8.4', 'dreb_pct': '0.217', 'rating': '-3.3', 'ast': '1.9'}, {'name': 'Dominique Wilkins', 'ts_pct': '0.517', 'reb': '6.4', 'dreb_pct': '0.154', 'rating': '-10.3', 'ast': '1.9'}, {'name': 'Don MacLean', 'ts_pct': '0.493', 'reb': '3.8', 'dreb_pct': '0.152', 'rating': '-5.9', 'ast': '1.0'}, {'name': 'Don Reid', 'ts_pct': '0.523', 'reb': '2.1', 'dreb_pct': '0.159', 'rating': '-1.5', 'ast': '0.3'}, {'name': 'Donald Royal', 'ts_pct': '0.552', 'reb': '2.5', 'dreb_pct': '0.13699999999999998', 'rating': '-4.6', 'ast': '0.4'}, {'name': 'Donald Whiteside', 'ts_pct': '0.479', 'reb': '0.4', 'dreb_pct': '0.046', 'rating': '-12.4', 'ast': '1.3'}, {'name': 'Donnie Boyce', 'ts_pct': '0.37799999999999995', 'reb': '0.7', 'dreb_pct': '0.059000000000000004', 'rating': '-10.3', 'ast': '0.6'}, {'name': 'Donny Marshall', 'ts_pct': '0.47600000000000003', 'reb': '1.3', 'dreb_pct': '0.11800000000000001', 'rating': '-8.7', 'ast': '0.4'}, {'name': 'Dontonio Wingfield', 'ts_pct': '0.501', 'reb': '2.9', 'dreb_pct': '0.14400000000000002', 'rating': '1.3', 'ast': '1.0'}, {'name': 'Donyell Marshall', 'ts_pct': '0.478', 'reb': '4.5', 'dreb_pct': '0.21', 'rating': '-8.6', 'ast': '0.9'}, {'name': 'Doug Christie', 'ts_pct': '0.5429999999999999', 'reb': '5.3', 'dreb_pct': '0.135', 'rating': '-2.6', 'ast': '3.9'}, {'name': 'Doug Overton', 'ts_pct': '0.514', 'reb': '1.1', 'dreb_pct': '0.085', 'rating': '-1.3', 'ast': '1.7'}, {'name': 'Doug West', 'ts_pct': '0.505', 'reb': '2.2', 'dreb_pct': '0.07', 'rating': '-3.1', 'ast': '1.7'}, {'name': 'Duane Causwell', 'ts_pct': '0.535', 'reb': '2.8', 'dreb_pct': '0.14300000000000002', 'rating': '-11.8', 'ast': '0.4'}, {'name': 'Duane Ferrell', 'ts_pct': '0.521', 'reb': '2.3', 'dreb_pct': '0.091', 'rating': '2.3', 'ast': '1.1'}, {'name': 'Dwayne Schintzius', 'ts_pct': '0.43', 'reb': '1.5', 'dreb_pct': '0.151', 'rating': '12.3', 'ast': '0.3'}, {'name': 'Earl Cureton', 'ts_pct': '0.376', 'reb': '1.0', 'dreb_pct': '0.102', 'rating': '-2.1', 'ast': '0.4'}, {'name': \"Ed O'Bannon\", 'ts_pct': '0.39899999999999997', 'reb': '2.3', 'dreb_pct': '0.149', 'rating': '-8.7', 'ast': '0.6'}, {'name': 'Devin Gray', 'ts_pct': '0.319', 'reb': '2.3', 'dreb_pct': '0.25', 'rating': '-42.1', 'ast': '0.3'}, {'name': 'Jud Buechler', 'ts_pct': '0.423', 'reb': '1.7', 'dreb_pct': '0.121', 'rating': '5.4', 'ast': '0.8'}, {'name': 'Detlef Schrempf', 'ts_pct': '0.5920000000000001', 'reb': '6.5', 'dreb_pct': '0.166', 'rating': '12.2', 'ast': '4.4'}, {'name': 'Derrick Coleman', 'ts_pct': '0.518', 'reb': '10.1', 'dreb_pct': '0.225', 'rating': '-5.4', 'ast': '3.4'}, {'name': 'Danny Ferry', 'ts_pct': '0.523', 'reb': '4.1', 'dreb_pct': '0.134', 'rating': '2.3', 'ast': '1.8'}, {'name': 'Danny Manning', 'ts_pct': '0.574', 'reb': '6.1', 'dreb_pct': '0.184', 'rating': '3.1', 'ast': '2.2'}, {'name': 'Darrell Armstrong', 'ts_pct': '0.525', 'reb': '1.1', 'dreb_pct': '0.05', 'rating': '0.3', 'ast': '2.6'}, {'name': 'Darrick Martin', 'ts_pct': '0.539', 'reb': '1.4', 'dreb_pct': '0.06', 'rating': '-4.5', 'ast': '4.1'}, {'name': 'Darrin Hancock', 'ts_pct': '0.51', 'reb': '0.8', 'dreb_pct': '0.11800000000000001', 'rating': '-2.6', 'ast': '0.5'}, {'name': 'Darvin Ham', 'ts_pct': '0.536', 'reb': '1.6', 'dreb_pct': '0.09699999999999999', 'rating': '-2.0', 'ast': '0.4'}, {'name': 'David Robinson', 'ts_pct': '0.5589999999999999', 'reb': '8.5', 'dreb_pct': '0.237', 'rating': '9.6', 'ast': '1.3'}, {'name': 'David Vaughn', 'ts_pct': '0.475', 'reb': '2.7', 'dreb_pct': '0.21600000000000003', 'rating': '-7.5', 'ast': '0.2'}, {'name': 'David Wesley', 'ts_pct': '0.563', 'reb': '3.6', 'dreb_pct': '0.084', 'rating': '-7.4', 'ast': '7.3'}, {'name': 'David Wingate', 'ts_pct': '0.509', 'reb': '1.1', 'dreb_pct': '0.069', 'rating': '2.8', 'ast': '1.2'}, {'name': 'David Wood', 'ts_pct': '0.621', 'reb': '0.6', 'dreb_pct': '0.128', 'rating': '3.9', 'ast': '0.3'}, {'name': 'Dean Garrett', 'ts_pct': '0.603', 'reb': '7.3', 'dreb_pct': '0.247', 'rating': '1.2', 'ast': '0.6'}, {'name': 'Dee Brown', 'ts_pct': '0.455', 'reb': '2.3', 'dreb_pct': '0.095', 'rating': '-7.5', 'ast': '3.2'}, {'name': 'Dell Curry', 'ts_pct': '0.562', 'reb': '3.1', 'dreb_pct': '0.098', 'rating': '1.6', 'ast': '1.7'}, {'name': 'Dell Demps', 'ts_pct': '0.258', 'reb': '0.0', 'dreb_pct': '0.0', 'rating': '-53.7', 'ast': '0.0'}, {'name': 'Dennis Rodman', 'ts_pct': 0, 'reb': 0, 'dreb_pct': 0, 'rating': 0, 'ast': 0}, {'name': 'Dennis Scott', 'ts_pct': '0.519', 'reb': '3.1', 'dreb_pct': '0.092', 'rating': '1.9', 'ast': '2.1'}, {'name': 'Derek Fisher', 'ts_pct': '0.491', 'reb': '1.2', 'dreb_pct': '0.087', 'rating': '5.1', 'ast': '1.5'}, {'name': 'Derek Harper', 'ts_pct': '0.516', 'reb': '1.8', 'dreb_pct': '0.057', 'rating': '-7.7', 'ast': '4.3'}, {'name': 'Derek Strong', 'ts_pct': '0.513', 'reb': '6.3', 'dreb_pct': '0.20800000000000002', 'rating': '-0.7', 'ast': '0.9'}, {'name': 'Derrick Alston', 'ts_pct': '0.0', 'reb': '2.0', 'dreb_pct': '0.2', 'rating': '-39.9', 'ast': '0.0'}, {'name': 'Derrick McKey', 'ts_pct': '0.462', 'reb': '4.8', 'dreb_pct': '0.127', 'rating': '-0.2', 'ast': '2.7'}, {'name': 'Brett Szabo', 'ts_pct': '0.517', 'reb': '2.4', 'dreb_pct': '0.196', 'rating': '-11.1', 'ast': '0.2'}, {'name': 'Juwan Howard', 'ts_pct': '0.529', 'reb': '8.0', 'dreb_pct': '0.156', 'rating': '1.3', 'ast': '3.8'}, {'name': 'Keith Askins', 'ts_pct': '0.557', 'reb': '3.5', 'dreb_pct': '0.127', 'rating': '6.1', 'ast': '1.0'}, {'name': 'Scott Burrell', 'ts_pct': '0.485', 'reb': '2.8', 'dreb_pct': '0.134', 'rating': '1.4', 'ast': '1.3'}, {'name': 'Scott Williams', 'ts_pct': '0.529', 'reb': '6.4', 'dreb_pct': '0.205', 'rating': '-4.6', 'ast': '0.7'}]\n",
      "\n",
      "Y2\n",
      "100\n",
      "[0 0 1 0 0 0 0 0 0 0 0 0 0 0 0 0 0 0 0 0 0 0 0 0 0 0 0 1 0 0 0 0 0 0 0 0 0\n",
      " 0 1 0 0 0 0 0 1 0 0 0 0 0 0 0 0 0 0 0 0 0 0 0 0 0 0 0 0 0 0 0 0 0 0 0 0 0\n",
      " 0 0 0 0 0 0 0 0 0 0 0 0 0 0 1 0 0 0 0 0 0 0 0 0 0 0]\n",
      "\n",
      "tempX1\n",
      "100\n",
      "[{'name': 'Chris Mills', 'ts_pct': '0.544', 'reb': '6.2', 'dreb_pct': '0.157', 'rating': '4.5', 'ast': '2.5'}, {'name': 'Chris Morris', 'ts_pct': '0.486', 'reb': '2.2', 'dreb_pct': '0.155', 'rating': '-7.3', 'ast': '0.6'}, {'name': 'Chris Mullin', 'ts_pct': 0, 'reb': 0, 'dreb_pct': 0, 'rating': 0, 'ast': 0}, {'name': 'Chris Robinson', 'ts_pct': '0.486', 'reb': '1.7', 'dreb_pct': '0.08800000000000001', 'rating': '-11.4', 'ast': '1.6'}, {'name': 'Chris Webber', 'ts_pct': '0.5539999999999999', 'reb': '10.3', 'dreb_pct': '0.207', 'rating': '3.4', 'ast': '4.6'}, {'name': 'Chris Whitney', 'ts_pct': '0.5660000000000001', 'reb': '1.3', 'dreb_pct': '0.09300000000000001', 'rating': '2.0', 'ast': '2.2'}, {'name': 'Christian Laettner', 'ts_pct': '0.562', 'reb': '8.8', 'dreb_pct': '0.18600000000000003', 'rating': '11.0', 'ast': '2.7'}, {'name': 'Chucky Brown', 'ts_pct': '0.552', 'reb': '2.1', 'dreb_pct': '0.177', 'rating': '-5.9', 'ast': '0.4'}, {'name': 'Chris Gatling', 'ts_pct': '0.58', 'reb': '7.9', 'dreb_pct': '0.21600000000000003', 'rating': '-4.1', 'ast': '0.6'}, {'name': 'Clar. Weatherspoon', 'ts_pct': '0.537', 'reb': '8.3', 'dreb_pct': '0.172', 'rating': '-8.3', 'ast': '1.7'}, {'name': 'Clifford Rozier', 'ts_pct': '0.47100000000000003', 'reb': '5.6', 'dreb_pct': '0.223', 'rating': '-6.3', 'ast': '0.7'}, {'name': 'Clyde Drexler', 'ts_pct': '0.5479999999999999', 'reb': '6.0', 'dreb_pct': '0.122', 'rating': '7.5', 'ast': '5.7'}, {'name': 'Corie Blount', 'ts_pct': '0.5589999999999999', 'reb': '4.8', 'dreb_pct': '0.182', 'rating': '2.0', 'ast': '0.6'}, {'name': 'Corliss Williamson', 'ts_pct': '0.535', 'reb': '4.1', 'dreb_pct': '0.11199999999999999', 'rating': '-4.2', 'ast': '1.6'}, {'name': 'Cory Alexander', 'ts_pct': '0.528', 'reb': '1.5', 'dreb_pct': '0.081', 'rating': '-8.8', 'ast': '3.2'}, {'name': 'Craig Ehlo', 'ts_pct': '0.41200000000000003', 'reb': '1.8', 'dreb_pct': '0.107', 'rating': '5.7', 'ast': '1.1'}, {'name': 'Cuonzo Martin', 'ts_pct': '0.0', 'reb': '0.3', 'dreb_pct': '0.0', 'rating': '-12.1', 'ast': '0.3'}, {'name': 'Dale Davis', 'ts_pct': '0.532', 'reb': '9.7', 'dreb_pct': '0.215', 'rating': '-0.2', 'ast': '0.7'}, {'name': 'Dale Ellis', 'ts_pct': '0.537', 'reb': '3.6', 'dreb_pct': '0.07400000000000001', 'rating': '-9.1', 'ast': '2.0'}, {'name': 'Clifford Robinson', 'ts_pct': '0.519', 'reb': '4.0', 'dreb_pct': '0.08800000000000001', 'rating': '4.4', 'ast': '3.2'}, {'name': 'Chris Dudley', 'ts_pct': '0.449', 'reb': '7.3', 'dreb_pct': '0.249', 'rating': '-0.2', 'ast': '0.5'}, {'name': 'Chris Childs', 'ts_pct': '0.526', 'reb': '2.9', 'dreb_pct': '0.094', 'rating': '5.2', 'ast': '6.1'}, {'name': 'Chris Carr', 'ts_pct': '0.5579999999999999', 'reb': '2.1', 'dreb_pct': '0.11599999999999999', 'rating': '3.8', 'ast': '0.9'}, {'name': 'Brian Evans', 'ts_pct': '0.455', 'reb': '0.6', 'dreb_pct': '0.121', 'rating': '-12.5', 'ast': '0.5'}, {'name': 'Brian Grant', 'ts_pct': '0.511', 'reb': '5.9', 'dreb_pct': '0.185', 'rating': '-7.7', 'ast': '1.2'}, {'name': 'Brian Shaw', 'ts_pct': '0.478', 'reb': '2.5', 'dreb_pct': '0.095', 'rating': '-10.5', 'ast': '4.1'}, {'name': 'Brooks Thompson', 'ts_pct': '0.526', 'reb': '1.4', 'dreb_pct': '0.087', 'rating': '-6.2', 'ast': '2.7'}, {'name': 'Bruce Bowen', 'ts_pct': 0, 'reb': 0, 'dreb_pct': 0, 'rating': 0, 'ast': 0}, {'name': 'Bryant Reeves', 'ts_pct': '0.523', 'reb': '8.1', 'dreb_pct': '0.185', 'rating': '-10.6', 'ast': '2.1'}, {'name': 'Bryant Stith', 'ts_pct': '0.5479999999999999', 'reb': '4.2', 'dreb_pct': '0.09', 'rating': '-5.6', 'ast': '2.6'}, {'name': 'Bryon Russell', 'ts_pct': '0.6', 'reb': '4.1', 'dreb_pct': '0.11800000000000001', 'rating': '13.5', 'ast': '1.5'}, {'name': 'Buck Williams', 'ts_pct': '0.574', 'reb': '5.4', 'dreb_pct': '0.184', 'rating': '6.9', 'ast': '0.7'}, {'name': 'Byron Scott', 'ts_pct': '0.59', 'reb': '1.5', 'dreb_pct': '0.075', 'rating': '6.7', 'ast': '1.3'}, {'name': 'Calbert Cheaney', 'ts_pct': '0.53', 'reb': '3.4', 'dreb_pct': '0.095', 'rating': '2.0', 'ast': '1.4'}, {'name': 'Carl Herrera', 'ts_pct': '0.46299999999999997', 'reb': '4.5', 'dreb_pct': '0.151', 'rating': '-9.7', 'ast': '0.7'}, {'name': 'Carl Thomas', 'ts_pct': '0.43', 'reb': '0.7', 'dreb_pct': '0.152', 'rating': '-8.9', 'ast': '0.4'}, {'name': 'Carlos Rogers', 'ts_pct': '0.575', 'reb': '5.4', 'dreb_pct': '0.154', 'rating': '-5.7', 'ast': '0.7'}, {'name': 'Cedric Ceballos', 'ts_pct': '0.522', 'reb': '6.6', 'dreb_pct': '0.18100000000000002', 'rating': '4.1', 'ast': '1.3'}, {'name': 'Charles Barkley', 'ts_pct': 0, 'reb': 0, 'dreb_pct': 0, 'rating': 0, 'ast': 0}, {'name': 'Charles Jones', 'ts_pct': '0.4', 'reb': '1.1', 'dreb_pct': '0.10300000000000001', 'rating': '2.6', 'ast': '0.3'}, {'name': 'Charles Oakley', 'ts_pct': '0.545', 'reb': '9.8', 'dreb_pct': '0.218', 'rating': '3.4', 'ast': '2.8'}, {'name': 'Charles Smith', 'ts_pct': '0.461', 'reb': '3.4', 'dreb_pct': '0.179', 'rating': '-4.9', 'ast': '0.7'}, {'name': 'Charlie Ward', 'ts_pct': '0.522', 'reb': '2.8', 'dreb_pct': '0.11599999999999999', 'rating': '4.0', 'ast': '4.1'}, {'name': 'Cherokee Parks', 'ts_pct': '0.535', 'reb': '2.6', 'dreb_pct': '0.135', 'rating': '-0.6', 'ast': '0.4'}, {'name': 'Damon Stoudamire', 'ts_pct': 0, 'reb': 0, 'dreb_pct': 0, 'rating': 0, 'ast': 0}, {'name': 'Dan Majerle', 'ts_pct': '0.523', 'reb': '4.5', 'dreb_pct': '0.111', 'rating': '4.7', 'ast': '3.2'}, {'name': 'Dan Schayes', 'ts_pct': '0.465', 'reb': '2.8', 'dreb_pct': '0.183', 'rating': '-1.5', 'ast': '0.3'}, {'name': 'Dana Barros', 'ts_pct': '0.552', 'reb': '2.0', 'dreb_pct': '0.07400000000000001', 'rating': '-10.0', 'ast': '3.4'}, {'name': 'Dexter Boney', 'ts_pct': '0.42200000000000004', 'reb': '0.8', 'dreb_pct': '0.071', 'rating': '-19.6', 'ast': '0.0'}, {'name': 'Dickey Simpkins', 'ts_pct': '0.41100000000000003', 'reb': '1.9', 'dreb_pct': '0.151', 'rating': '-0.9', 'ast': '0.6'}, {'name': 'Dikembe Mutombo', 'ts_pct': '0.584', 'reb': '11.6', 'dreb_pct': '0.256', 'rating': '8.1', 'ast': '1.4'}, {'name': 'Dino Radja', 'ts_pct': '0.47100000000000003', 'reb': '8.4', 'dreb_pct': '0.217', 'rating': '-3.3', 'ast': '1.9'}, {'name': 'Dominique Wilkins', 'ts_pct': '0.517', 'reb': '6.4', 'dreb_pct': '0.154', 'rating': '-10.3', 'ast': '1.9'}, {'name': 'Don MacLean', 'ts_pct': '0.493', 'reb': '3.8', 'dreb_pct': '0.152', 'rating': '-5.9', 'ast': '1.0'}, {'name': 'Don Reid', 'ts_pct': '0.523', 'reb': '2.1', 'dreb_pct': '0.159', 'rating': '-1.5', 'ast': '0.3'}, {'name': 'Donald Royal', 'ts_pct': '0.552', 'reb': '2.5', 'dreb_pct': '0.13699999999999998', 'rating': '-4.6', 'ast': '0.4'}, {'name': 'Donald Whiteside', 'ts_pct': '0.479', 'reb': '0.4', 'dreb_pct': '0.046', 'rating': '-12.4', 'ast': '1.3'}, {'name': 'Donnie Boyce', 'ts_pct': '0.37799999999999995', 'reb': '0.7', 'dreb_pct': '0.059000000000000004', 'rating': '-10.3', 'ast': '0.6'}, {'name': 'Donny Marshall', 'ts_pct': '0.47600000000000003', 'reb': '1.3', 'dreb_pct': '0.11800000000000001', 'rating': '-8.7', 'ast': '0.4'}, {'name': 'Dontonio Wingfield', 'ts_pct': '0.501', 'reb': '2.9', 'dreb_pct': '0.14400000000000002', 'rating': '1.3', 'ast': '1.0'}, {'name': 'Donyell Marshall', 'ts_pct': '0.478', 'reb': '4.5', 'dreb_pct': '0.21', 'rating': '-8.6', 'ast': '0.9'}, {'name': 'Doug Christie', 'ts_pct': '0.5429999999999999', 'reb': '5.3', 'dreb_pct': '0.135', 'rating': '-2.6', 'ast': '3.9'}, {'name': 'Doug Overton', 'ts_pct': '0.514', 'reb': '1.1', 'dreb_pct': '0.085', 'rating': '-1.3', 'ast': '1.7'}, {'name': 'Doug West', 'ts_pct': '0.505', 'reb': '2.2', 'dreb_pct': '0.07', 'rating': '-3.1', 'ast': '1.7'}, {'name': 'Duane Causwell', 'ts_pct': '0.535', 'reb': '2.8', 'dreb_pct': '0.14300000000000002', 'rating': '-11.8', 'ast': '0.4'}, {'name': 'Duane Ferrell', 'ts_pct': '0.521', 'reb': '2.3', 'dreb_pct': '0.091', 'rating': '2.3', 'ast': '1.1'}, {'name': 'Dwayne Schintzius', 'ts_pct': '0.43', 'reb': '1.5', 'dreb_pct': '0.151', 'rating': '12.3', 'ast': '0.3'}, {'name': 'Earl Cureton', 'ts_pct': '0.376', 'reb': '1.0', 'dreb_pct': '0.102', 'rating': '-2.1', 'ast': '0.4'}, {'name': \"Ed O'Bannon\", 'ts_pct': '0.39899999999999997', 'reb': '2.3', 'dreb_pct': '0.149', 'rating': '-8.7', 'ast': '0.6'}, {'name': 'Devin Gray', 'ts_pct': '0.319', 'reb': '2.3', 'dreb_pct': '0.25', 'rating': '-42.1', 'ast': '0.3'}, {'name': 'Jud Buechler', 'ts_pct': '0.423', 'reb': '1.7', 'dreb_pct': '0.121', 'rating': '5.4', 'ast': '0.8'}, {'name': 'Detlef Schrempf', 'ts_pct': '0.5920000000000001', 'reb': '6.5', 'dreb_pct': '0.166', 'rating': '12.2', 'ast': '4.4'}, {'name': 'Derrick Coleman', 'ts_pct': '0.518', 'reb': '10.1', 'dreb_pct': '0.225', 'rating': '-5.4', 'ast': '3.4'}, {'name': 'Danny Ferry', 'ts_pct': '0.523', 'reb': '4.1', 'dreb_pct': '0.134', 'rating': '2.3', 'ast': '1.8'}, {'name': 'Danny Manning', 'ts_pct': '0.574', 'reb': '6.1', 'dreb_pct': '0.184', 'rating': '3.1', 'ast': '2.2'}, {'name': 'Darrell Armstrong', 'ts_pct': '0.525', 'reb': '1.1', 'dreb_pct': '0.05', 'rating': '0.3', 'ast': '2.6'}, {'name': 'Darrick Martin', 'ts_pct': '0.539', 'reb': '1.4', 'dreb_pct': '0.06', 'rating': '-4.5', 'ast': '4.1'}, {'name': 'Darrin Hancock', 'ts_pct': '0.51', 'reb': '0.8', 'dreb_pct': '0.11800000000000001', 'rating': '-2.6', 'ast': '0.5'}, {'name': 'Darvin Ham', 'ts_pct': '0.536', 'reb': '1.6', 'dreb_pct': '0.09699999999999999', 'rating': '-2.0', 'ast': '0.4'}, {'name': 'David Robinson', 'ts_pct': '0.5589999999999999', 'reb': '8.5', 'dreb_pct': '0.237', 'rating': '9.6', 'ast': '1.3'}, {'name': 'David Vaughn', 'ts_pct': '0.475', 'reb': '2.7', 'dreb_pct': '0.21600000000000003', 'rating': '-7.5', 'ast': '0.2'}, {'name': 'David Wesley', 'ts_pct': '0.563', 'reb': '3.6', 'dreb_pct': '0.084', 'rating': '-7.4', 'ast': '7.3'}, {'name': 'David Wingate', 'ts_pct': '0.509', 'reb': '1.1', 'dreb_pct': '0.069', 'rating': '2.8', 'ast': '1.2'}, {'name': 'David Wood', 'ts_pct': '0.621', 'reb': '0.6', 'dreb_pct': '0.128', 'rating': '3.9', 'ast': '0.3'}, {'name': 'Dean Garrett', 'ts_pct': '0.603', 'reb': '7.3', 'dreb_pct': '0.247', 'rating': '1.2', 'ast': '0.6'}, {'name': 'Dee Brown', 'ts_pct': '0.455', 'reb': '2.3', 'dreb_pct': '0.095', 'rating': '-7.5', 'ast': '3.2'}, {'name': 'Dell Curry', 'ts_pct': '0.562', 'reb': '3.1', 'dreb_pct': '0.098', 'rating': '1.6', 'ast': '1.7'}, {'name': 'Dell Demps', 'ts_pct': '0.258', 'reb': '0.0', 'dreb_pct': '0.0', 'rating': '-53.7', 'ast': '0.0'}, {'name': 'Dennis Rodman', 'ts_pct': 0, 'reb': 0, 'dreb_pct': 0, 'rating': 0, 'ast': 0}, {'name': 'Dennis Scott', 'ts_pct': '0.519', 'reb': '3.1', 'dreb_pct': '0.092', 'rating': '1.9', 'ast': '2.1'}, {'name': 'Derek Fisher', 'ts_pct': '0.491', 'reb': '1.2', 'dreb_pct': '0.087', 'rating': '5.1', 'ast': '1.5'}, {'name': 'Derek Harper', 'ts_pct': '0.516', 'reb': '1.8', 'dreb_pct': '0.057', 'rating': '-7.7', 'ast': '4.3'}, {'name': 'Derek Strong', 'ts_pct': '0.513', 'reb': '6.3', 'dreb_pct': '0.20800000000000002', 'rating': '-0.7', 'ast': '0.9'}, {'name': 'Derrick Alston', 'ts_pct': '0.0', 'reb': '2.0', 'dreb_pct': '0.2', 'rating': '-39.9', 'ast': '0.0'}, {'name': 'Derrick McKey', 'ts_pct': '0.462', 'reb': '4.8', 'dreb_pct': '0.127', 'rating': '-0.2', 'ast': '2.7'}, {'name': 'Brett Szabo', 'ts_pct': '0.517', 'reb': '2.4', 'dreb_pct': '0.196', 'rating': '-11.1', 'ast': '0.2'}, {'name': 'Juwan Howard', 'ts_pct': '0.529', 'reb': '8.0', 'dreb_pct': '0.156', 'rating': '1.3', 'ast': '3.8'}, {'name': 'Keith Askins', 'ts_pct': '0.557', 'reb': '3.5', 'dreb_pct': '0.127', 'rating': '6.1', 'ast': '1.0'}, {'name': 'Scott Burrell', 'ts_pct': '0.485', 'reb': '2.8', 'dreb_pct': '0.134', 'rating': '1.4', 'ast': '1.3'}, {'name': 'Scott Williams', 'ts_pct': '0.529', 'reb': '6.4', 'dreb_pct': '0.205', 'rating': '-4.6', 'ast': '0.7'}]\n",
      "\n",
      "tempX1\n",
      "100\n",
      "[{'name': 'Scottie Pippen', 'ts_pct': '0.5539999999999999', 'reb': '6.5', 'dreb_pct': '0.133', 'rating': '13.5', 'ast': '5.7'}, {'name': 'Sean Elliott', 'ts_pct': '0.529', 'reb': '4.9', 'dreb_pct': '0.126', 'rating': '-5.7', 'ast': '3.2'}, {'name': 'Sean Rooks', 'ts_pct': '0.547', 'reb': '2.4', 'dreb_pct': '0.166', 'rating': '1.3', 'ast': '0.6'}, {'name': 'Sedale Threatt', 'ts_pct': '0.451', 'reb': '1.1', 'dreb_pct': '0.063', 'rating': '-3.5', 'ast': '1.9'}, {'name': 'Shandon Anderson', 'ts_pct': '0.534', 'reb': '2.8', 'dreb_pct': '0.139', 'rating': '2.5', 'ast': '0.8'}, {'name': 'Shane Heal', 'ts_pct': '0.37799999999999995', 'reb': '0.4', 'dreb_pct': '0.075', 'rating': '-0.7', 'ast': '0.8'}, {'name': \"Shaquille O'Neal\", 'ts_pct': 0, 'reb': 0, 'dreb_pct': 0, 'rating': 0, 'ast': 0}, {'name': 'Scott Brooks', 'ts_pct': '0.625', 'reb': '0.5', 'dreb_pct': '0.057999999999999996', 'rating': '3.8', 'ast': '0.8'}, {'name': 'Shareef Abdur-Rahim', 'ts_pct': '0.518', 'reb': '6.9', 'dreb_pct': '0.142', 'rating': '-12.3', 'ast': '2.2'}, {'name': 'Shawn Bradley', 'ts_pct': '0.478', 'reb': '8.4', 'dreb_pct': '0.19699999999999998', 'rating': '-5.9', 'ast': '0.7'}, {'name': 'Shawn Kemp', 'ts_pct': '0.583', 'reb': '10.0', 'dreb_pct': '0.23', 'rating': '8.9', 'ast': '1.9'}, {'name': 'Shawn Respert', 'ts_pct': '0.551', 'reb': '1.0', 'dreb_pct': '0.065', 'rating': '-4.1', 'ast': '1.0'}, {'name': 'Shawnelle Scott', 'ts_pct': '0.48', 'reb': '1.0', 'dreb_pct': '0.222', 'rating': '6.8', 'ast': '0.0'}, {'name': 'Sherman Douglas', 'ts_pct': '0.557', 'reb': '2.4', 'dreb_pct': '0.069', 'rating': '-3.0', 'ast': '5.4'}, {'name': 'Stacey Augmon', 'ts_pct': '0.531', 'reb': '2.3', 'dreb_pct': '0.109', 'rating': '6.0', 'ast': '0.9'}, {'name': 'Stacey King', 'ts_pct': '0.478', 'reb': '2.5', 'dreb_pct': '0.23199999999999998', 'rating': '-18.7', 'ast': '0.1'}, {'name': 'Stanley Roberts', 'ts_pct': '0.485', 'reb': '5.1', 'dreb_pct': '0.218', 'rating': '2.6', 'ast': '0.5'}, {'name': 'Stephen Howard', 'ts_pct': '0.613', 'reb': '1.7', 'dreb_pct': '0.16399999999999998', 'rating': '0.1', 'ast': '0.2'}, {'name': 'Sharone Wright', 'ts_pct': '0.423', 'reb': '3.1', 'dreb_pct': '0.126', 'rating': '-9.3', 'ast': '0.5'}, {'name': 'Sasha Danilovic', 'ts_pct': '0.552', 'reb': '2.4', 'dreb_pct': '0.069', 'rating': '1.5', 'ast': '1.8'}, {'name': 'Sarunas Marciulionis', 'ts_pct': '0.496', 'reb': '1.8', 'dreb_pct': '0.086', 'rating': '-7.6', 'ast': '1.5'}, {'name': 'Samaki Walker', 'ts_pct': '0.485', 'reb': '3.4', 'dreb_pct': '0.198', 'rating': '-12.6', 'ast': '0.4'}, {'name': 'Rex Walters', 'ts_pct': '0.5710000000000001', 'reb': '1.8', 'dreb_pct': '0.09300000000000001', 'rating': '-11.1', 'ast': '1.9'}, {'name': 'Richard Manning', 'ts_pct': '0.425', 'reb': '1.5', 'dreb_pct': '0.136', 'rating': '-6.8', 'ast': '0.1'}, {'name': 'Rick Fox', 'ts_pct': '0.551', 'reb': '5.2', 'dreb_pct': '0.134', 'rating': '-6.9', 'ast': '3.8'}, {'name': 'Rick Mahorn', 'ts_pct': '0.44', 'reb': '2.4', 'dreb_pct': '0.192', 'rating': '-0.1', 'ast': '0.3'}, {'name': 'Ricky Pierce', 'ts_pct': '0.583', 'reb': '2.0', 'dreb_pct': '0.078', 'rating': '-1.6', 'ast': '1.3'}, {'name': 'Rik Smits', 'ts_pct': '0.535', 'reb': '6.9', 'dreb_pct': '0.201', 'rating': '1.4', 'ast': '1.3'}, {'name': 'Robert Horry', 'ts_pct': '0.529', 'reb': '4.4', 'dreb_pct': '0.14300000000000002', 'rating': '2.7', 'ast': '2.0'}, {'name': 'Robert Pack', 'ts_pct': '0.48200000000000004', 'reb': '2.7', 'dreb_pct': '0.078', 'rating': '-8.3', 'ast': '8.4'}, {'name': 'Robert Parish', 'ts_pct': '0.514', 'reb': '2.1', 'dreb_pct': '0.13', 'rating': '14.9', 'ast': '0.5'}, {'name': 'Robert Werdann', 'ts_pct': '0.541', 'reb': '1.0', 'dreb_pct': '0.14300000000000002', 'rating': '-14.5', 'ast': '0.0'}, {'name': 'Rod Strickland', 'ts_pct': 0, 'reb': 0, 'dreb_pct': 0, 'rating': 0, 'ast': 0}, {'name': 'Rodney Rogers', 'ts_pct': '0.53', 'reb': '5.1', 'dreb_pct': '0.132', 'rating': '-3.5', 'ast': '2.7'}, {'name': 'Ron Harper', 'ts_pct': '0.5429999999999999', 'reb': '2.5', 'dreb_pct': '0.091', 'rating': '14.0', 'ast': '2.5'}, {'name': 'Rony Seikaly', 'ts_pct': '0.5670000000000001', 'reb': '9.5', 'dreb_pct': '0.19699999999999998', 'rating': '-1.7', 'ast': '1.2'}, {'name': 'Roy Rogers', 'ts_pct': '0.518', 'reb': '4.7', 'dreb_pct': '0.155', 'rating': '-13.6', 'ast': '0.6'}, {'name': 'Ruben Nembhard', 'ts_pct': '0.483', 'reb': '0.8', 'dreb_pct': '0.054000000000000006', 'rating': '-0.3', 'ast': '1.7'}, {'name': 'Rumeal Robinson', 'ts_pct': '0.491', 'reb': '0.9', 'dreb_pct': '0.086', 'rating': '4.5', 'ast': '1.4'}, {'name': 'Sam Cassell', 'ts_pct': '0.541', 'reb': '3.0', 'dreb_pct': '0.08900000000000001', 'rating': '-1.7', 'ast': '5.0'}, {'name': 'Sam Mack', 'ts_pct': '0.521', 'reb': '2.0', 'dreb_pct': '0.10400000000000001', 'rating': '-1.7', 'ast': '1.1'}, {'name': 'Sam Mitchell', 'ts_pct': '0.523', 'reb': '4.0', 'dreb_pct': '0.124', 'rating': '-4.9', 'ast': '1.0'}, {'name': 'Sam Perkins', 'ts_pct': '0.584', 'reb': '3.7', 'dreb_pct': '0.145', 'rating': '10.6', 'ast': '1.3'}, {'name': 'Stephon Marbury', 'ts_pct': '0.519', 'reb': '2.7', 'dreb_pct': '0.066', 'rating': '-3.1', 'ast': '7.8'}, {'name': 'Rex Chapman', 'ts_pct': '0.551', 'reb': '2.8', 'dreb_pct': '0.099', 'rating': '2.7', 'ast': '2.8'}, {'name': 'Steve Hamer', 'ts_pct': '0.545', 'reb': '1.7', 'dreb_pct': '0.18100000000000002', 'rating': '-3.1', 'ast': '0.2'}, {'name': 'Steve Nash', 'ts_pct': '0.539', 'reb': '1.0', 'dreb_pct': '0.083', 'rating': '-8.5', 'ast': '2.1'}, {'name': 'Willie Anderson', 'ts_pct': '0.57', 'reb': '1.5', 'dreb_pct': '0.11800000000000001', 'rating': '-1.0', 'ast': '1.2'}, {'name': 'Will Perdue', 'ts_pct': 0, 'reb': 0, 'dreb_pct': 0, 'rating': 0, 'ast': 0}, {'name': 'Wesley Person', 'ts_pct': '0.5670000000000001', 'reb': '3.7', 'dreb_pct': '0.114', 'rating': '0.7', 'ast': '1.5'}, {'name': 'Wayman Tisdale', 'ts_pct': '0.441', 'reb': '2.3', 'dreb_pct': '0.127', 'rating': '-3.5', 'ast': '0.4'}, {'name': 'Walter McCarty', 'ts_pct': '0.431', 'reb': '0.7', 'dreb_pct': '0.08', 'rating': '3.2', 'ast': '0.4'}, {'name': 'Walt Williams', 'ts_pct': '0.551', 'reb': '5.0', 'dreb_pct': '0.122', 'rating': '-1.7', 'ast': '2.7'}, {'name': 'Voshon Lenard', 'ts_pct': '0.614', 'reb': '3.0', 'dreb_pct': '0.095', 'rating': '8.2', 'ast': '2.2'}, {'name': 'Vlade Divac', 'ts_pct': '0.5329999999999999', 'reb': '9.0', 'dreb_pct': '0.19699999999999998', 'rating': '5.4', 'ast': '3.7'}, {'name': 'Vitaly Potapenko', 'ts_pct': '0.486', 'reb': '2.7', 'dreb_pct': '0.11900000000000001', 'rating': '-0.2', 'ast': '0.5'}, {'name': 'Willie Burton', 'ts_pct': '0.507', 'reb': '1.7', 'dreb_pct': '0.09699999999999999', 'rating': '-4.8', 'ast': '0.5'}, {'name': 'Vinny Del Negro', 'ts_pct': '0.528', 'reb': '2.9', 'dreb_pct': '0.094', 'rating': '-8.1', 'ast': '3.2'}, {'name': 'Vin Baker', 'ts_pct': '0.5529999999999999', 'reb': '10.3', 'dreb_pct': '0.20600000000000002', 'rating': '-1.6', 'ast': '2.7'}, {'name': 'Vernon Maxwell', 'ts_pct': '0.47100000000000003', 'reb': '2.2', 'dreb_pct': '0.079', 'rating': '-7.0', 'ast': '2.1'}, {'name': 'Tyus Edney', 'ts_pct': '0.499', 'reb': '1.6', 'dreb_pct': '0.067', 'rating': '-2.0', 'ast': '3.2'}, {'name': 'Tyrone Hill', 'ts_pct': '0.626', 'reb': '9.9', 'dreb_pct': '0.245', 'rating': '5.3', 'ast': '1.2'}, {'name': 'Tyrone Corbin', 'ts_pct': '0.514', 'reb': '4.2', 'dreb_pct': '0.111', 'rating': '10.5', 'ast': '1.8'}, {'name': 'Travis Knight', 'ts_pct': '0.536', 'reb': '4.5', 'dreb_pct': '0.182', 'rating': '6.2', 'ast': '0.5'}, {'name': 'Travis Best', 'ts_pct': '0.5329999999999999', 'reb': '2.2', 'dreb_pct': '0.07400000000000001', 'rating': '2.5', 'ast': '4.2'}, {'name': 'Tracy Murray', 'ts_pct': '0.546', 'reb': '3.1', 'dreb_pct': '0.10800000000000001', 'rating': '1.9', 'ast': '1.0'}, {'name': 'Tracy Moore', 'ts_pct': '0.502', 'reb': '1.0', 'dreb_pct': '0.068', 'rating': '-7.7', 'ast': '0.7'}, {'name': 'Vincent Askew', 'ts_pct': '0.532', 'reb': '2.3', 'dreb_pct': '0.096', 'rating': '0.0', 'ast': '2.1'}, {'name': 'Xavier McDaniel', 'ts_pct': '0.439', 'reb': '5.1', 'dreb_pct': '0.182', 'rating': '-0.8', 'ast': '1.0'}, {'name': 'Yinka Dare', 'ts_pct': '0.406', 'reb': '2.0', 'dreb_pct': '0.191', 'rating': '-1.4', 'ast': '0.1'}, {'name': 'Zan Tabak', 'ts_pct': '0.501', 'reb': '3.8', 'dreb_pct': '0.135', 'rating': '-12.2', 'ast': '1.1'}, {'name': 'Steve Scheffler', 'ts_pct': 0, 'reb': 0, 'dreb_pct': 0, 'rating': 0, 'ast': 0}, {'name': 'Steven Smith', 'ts_pct': '0.5479999999999999', 'reb': '3.3', 'dreb_pct': '0.061', 'rating': '7.4', 'ast': '4.2'}, {'name': 'Stevin Smith', 'ts_pct': '0.38', 'reb': '1.3', 'dreb_pct': '0.157', 'rating': '-6.8', 'ast': '0.5'}, {'name': 'Stojko Vrankovic', 'ts_pct': '0.583', 'reb': '3.2', 'dreb_pct': '0.16899999999999998', 'rating': '-7.1', 'ast': '0.3'}, {'name': 'Terrell Brandon', 'ts_pct': '0.526', 'reb': '3.9', 'dreb_pct': '0.11900000000000001', 'rating': '2.7', 'ast': '6.3'}, {'name': 'Terry Cummings', 'ts_pct': '0.521', 'reb': '4.1', 'dreb_pct': '0.174', 'rating': '1.3', 'ast': '0.9'}, {'name': 'Terry Dehere', 'ts_pct': '0.524', 'reb': '1.3', 'dreb_pct': '0.08800000000000001', 'rating': '-0.5', 'ast': '2.2'}, {'name': 'Terry Mills', 'ts_pct': '0.585', 'reb': '4.8', 'dreb_pct': '0.188', 'rating': '11.4', 'ast': '1.3'}, {'name': 'Terry Porter', 'ts_pct': '0.544', 'reb': '2.1', 'dreb_pct': '0.109', 'rating': '2.1', 'ast': '3.6'}, {'name': 'Theo Ratliff', 'ts_pct': '0.5660000000000001', 'reb': '3.4', 'dreb_pct': '0.134', 'rating': '7.3', 'ast': '0.2'}, {'name': 'Tim Hardaway', 'ts_pct': '0.532', 'reb': '3.4', 'dreb_pct': '0.083', 'rating': '8.9', 'ast': '8.6'}, {'name': 'Tim Kempton', 'ts_pct': '0.34', 'reb': '0.8', 'dreb_pct': '0.08800000000000001', 'rating': '-6.2', 'ast': '0.2'}, {'name': 'Tim Legler', 'ts_pct': '0.431', 'reb': '1.4', 'dreb_pct': '0.133', 'rating': '-3.5', 'ast': '0.5'}, {'name': 'Todd Day', 'ts_pct': '0.514', 'reb': '4.1', 'dreb_pct': '0.122', 'rating': '-7.8', 'ast': '1.4'}, {'name': 'Todd Fuller', 'ts_pct': '0.48', 'reb': '3.3', 'dreb_pct': '0.171', 'rating': '-8.6', 'ast': '0.3'}, {'name': 'Tom Chambers', 'ts_pct': '0.29', 'reb': '1.2', 'dreb_pct': '0.16899999999999998', 'rating': '-33.6', 'ast': '0.3'}, {'name': 'Tom Gugliotta', 'ts_pct': '0.526', 'reb': '8.7', 'dreb_pct': '0.193', 'rating': '-2.0', 'ast': '4.1'}, {'name': 'Tom Hammonds', 'ts_pct': '0.534', 'reb': '5.0', 'dreb_pct': '0.172', 'rating': '-7.3', 'ast': '0.8'}, {'name': 'Toni Kukoc', 'ts_pct': '0.5529999999999999', 'reb': '4.6', 'dreb_pct': '0.12', 'rating': '15.2', 'ast': '4.5'}, {'name': 'Tony Delk', 'ts_pct': '0.596', 'reb': '1.6', 'dreb_pct': '0.09', 'rating': '0.9', 'ast': '1.6'}, {'name': 'Tony Dumas', 'ts_pct': '0.402', 'reb': '0.7', 'dreb_pct': '0.055', 'rating': '-4.1', 'ast': '1.0'}, {'name': 'Steve Kerr', 'ts_pct': '0.667', 'reb': '1.6', 'dreb_pct': '0.062', 'rating': '10.1', 'ast': '2.1'}, {'name': 'Reggie Williams', 'ts_pct': '0.46799999999999997', 'reb': '2.4', 'dreb_pct': '0.142', 'rating': '-12.8', 'ast': '0.8'}, {'name': 'Reggie Slater', 'ts_pct': '0.5579999999999999', 'reb': '3.7', 'dreb_pct': '0.163', 'rating': '1.5', 'ast': '0.8'}, {'name': 'Reggie Miller', 'ts_pct': '0.603', 'reb': '3.5', 'dreb_pct': '0.092', 'rating': '0.9', 'ast': '3.4'}, {'name': 'Lindsey Hunter', 'ts_pct': '0.515', 'reb': '2.8', 'dreb_pct': '0.071', 'rating': '5.1', 'ast': '1.9'}, {'name': 'Lionel Simmons', 'ts_pct': '0.442', 'reb': '2.5', 'dreb_pct': '0.17300000000000001', 'rating': '-10.5', 'ast': '1.4'}, {'name': 'Litterial Green', 'ts_pct': 0, 'reb': 0, 'dreb_pct': 0, 'rating': 0, 'ast': 0}, {'name': 'Tony Smith', 'ts_pct': '0.47700000000000004', 'reb': '1.4', 'dreb_pct': '0.051', 'rating': '0.7', 'ast': '2.2'}]\n"
     ]
    }
   ],
   "source": [
    "def get_datapool(segment):\n",
    "    # Make testing data sets\n",
    "    Xall = extract_features(training_data)\n",
    "    \n",
    "    # Create one training set\n",
    "    X1 = []\n",
    "    for i in range(100):\n",
    "        X1.append(Xall[i + segment * 100])\n",
    "    \n",
    "    tempX1 = X1.copy()\n",
    "    \n",
    "    # Create empty expected Y array to fill later\n",
    "    Y1 = np.empty_like(X1)\n",
    "    for i in range(len(Y1)):\n",
    "        Y1[i] = 0\n",
    "    \n",
    "    # Best ts_pct into Y1\n",
    "    cur = get_best(tempX1, 'ts_pct')\n",
    "    tempX1[cur] = make_empty(tempX1[cur]) # Prevent repeat\n",
    "    Y1[cur] = 1\n",
    "    \n",
    "    # Best reb into Y1\n",
    "    cur = get_best(tempX1, 'reb')\n",
    "    tempX1[cur] = make_empty(tempX1[cur]) # Prevent repeat\n",
    "    Y1[cur] = 1\n",
    "    \n",
    "    # Best dreb_pct into Y1\n",
    "    cur = get_best(tempX1, 'dreb_pct')\n",
    "    tempX1[cur] = make_empty(tempX1[cur]) # Prevent repeat\n",
    "    Y1[cur] = 1\n",
    "    \n",
    "    # Best rating into Y1\n",
    "    cur = get_best(tempX1, 'rating')\n",
    "    tempX1[cur] = make_empty(tempX1[cur]) # Prevent repeat\n",
    "    Y1[cur] = 1\n",
    "    \n",
    "    # Best ast into Y1\n",
    "    cur = get_best(tempX1, 'ast')\n",
    "    tempX1[cur] = make_empty(tempX1[cur]) # Prevent repeat\n",
    "    Y1[cur] = 1\n",
    "    \n",
    "    print()\n",
    "    print(\"tempX1\")\n",
    "    print(len(tempX1))\n",
    "    print(tempX1)\n",
    "    \n",
    "    return X1, Y1\n",
    "\n",
    "X2, Y2 = get_datapool(1)\n",
    "\n",
    "print(\"X2\")\n",
    "print(len(X2))\n",
    "print(X2)\n",
    "print()\n",
    "print(\"Y2\")\n",
    "print(len(Y2))\n",
    "print(Y2)\n",
    "\n",
    "X_train, y_train = get_datapool(1)\n",
    "X_test, y_test = get_datapool(2)\n",
    "\n",
    "X_train = np.array(X_train)\n",
    "y_train = np.array(y_train)\n",
    "X_test = np.array(X_test)\n",
    "y_test = np.array(y_test)"
   ]
  },
  {
   "cell_type": "markdown",
   "metadata": {
    "collapsed": false
   },
   "source": [
    "## Train Model\n",
    "Now that we have the training data, we can train the model."
   ]
  },
  {
   "cell_type": "code",
   "execution_count": 149,
   "metadata": {
    "ExecuteTime": {
     "end_time": "2024-09-22T23:48:57.209512Z",
     "start_time": "2024-09-22T23:48:57.180303Z"
    },
    "collapsed": false
   },
   "outputs": [
    {
     "ename": "IndexError",
     "evalue": "tuple index out of range",
     "output_type": "error",
     "traceback": [
      "\u001b[1;31m---------------------------------------------------------------------------\u001b[0m",
      "\u001b[1;31mIndexError\u001b[0m                                Traceback (most recent call last)",
      "Cell \u001b[1;32mIn[149], line 4\u001b[0m\n\u001b[0;32m      1\u001b[0m \u001b[38;5;66;03m# Build the model\u001b[39;00m\n\u001b[0;32m      2\u001b[0m \u001b[38;5;66;03m# Define the neural network architecture\u001b[39;00m\n\u001b[0;32m      3\u001b[0m \u001b[38;5;66;03m# Define the neural network architecture\u001b[39;00m\n\u001b[1;32m----> 4\u001b[0m input_size \u001b[38;5;241m=\u001b[39m \u001b[43mX_train\u001b[49m\u001b[38;5;241;43m.\u001b[39;49m\u001b[43mshape\u001b[49m\u001b[43m[\u001b[49m\u001b[38;5;241;43m1\u001b[39;49m\u001b[43m]\u001b[49m\n\u001b[0;32m      5\u001b[0m hidden_size \u001b[38;5;241m=\u001b[39m \u001b[38;5;241m64\u001b[39m\n\u001b[0;32m      6\u001b[0m output_size \u001b[38;5;241m=\u001b[39m \u001b[38;5;241m1\u001b[39m\n",
      "\u001b[1;31mIndexError\u001b[0m: tuple index out of range"
     ]
    }
   ],
   "source": [
    "# Build the model\n",
    "# Define the neural network architecture\n",
    "# Define the neural network architecture\n",
    "input_size = X_train.shape[1]\n",
    "hidden_size = 64\n",
    "output_size = 1\n",
    "learning_rate = 0.01\n",
    "epochs = 1000\n",
    "\n",
    "# Initialize weights and biases\n",
    "np.random.seed(42)\n",
    "W1 = np.random.randn(input_size, hidden_size) * 0.01\n",
    "b1 = np.zeros((1, hidden_size))\n",
    "W2 = np.random.randn(hidden_size, output_size) * 0.01\n",
    "b2 = np.zeros((1, output_size))\n",
    "\n",
    "# Activation function and its derivative\n",
    "def sigmoid(x):\n",
    "    return 1 / (1 + np.exp(-x))\n",
    "\n",
    "def sigmoid_derivative(x):\n",
    "    return x * (1 - x)\n",
    "\n",
    "# Forward propagation\n",
    "def forward_propagation(X):\n",
    "    Z1 = np.dot(X, W1) + b1\n",
    "    A1 = sigmoid(Z1)\n",
    "    Z2 = np.dot(A1, W2) + b2\n",
    "    A2 = sigmoid(Z2)\n",
    "    return Z1, A1, Z2, A2\n",
    "\n",
    "# Compute the cost\n",
    "def compute_cost(A2, y):\n",
    "    m = y.shape[0]\n",
    "    cost = -np.sum(y * np.log(A2) + (1 - y) * np.log(1 - A2)) / m\n",
    "    return cost\n",
    "\n",
    "# Backpropagation with gradient clipping\n",
    "def backward_propagation(X, y, Z1, A1, Z2, A2):\n",
    "    m = y.shape[0]\n",
    "    dZ2 = A2 - y.reshape(-1, 1)\n",
    "    dW2 = np.dot(A1.T, dZ2) / m\n",
    "    db2 = np.sum(dZ2, axis=0, keepdims=True) / m\n",
    "    dA1 = np.dot(dZ2, W2.T)\n",
    "    dZ1 = dA1 * sigmoid_derivative(A1)\n",
    "    dW1 = np.dot(X.T, dZ1) / m\n",
    "    db1 = np.sum(dZ1, axis=0, keepdims=True) / m\n",
    "\n",
    "    # Gradient clipping\n",
    "    clip_value = 1.0\n",
    "    dW1 = np.clip(dW1, -clip_value, clip_value)\n",
    "    db1 = np.clip(db1, -clip_value, clip_value)\n",
    "    dW2 = np.clip(dW2, -clip_value, clip_value)\n",
    "    db2 = np.clip(db2, -clip_value, clip_value)\n",
    "\n",
    "    return dW1, db1, dW2, db2\n",
    "\n",
    "# Update weights and biases\n",
    "def update_parameters(dW1, db1, dW2, db2):\n",
    "    global W1, b1, W2, b2\n",
    "    W1 -= learning_rate * dW1\n",
    "    b1 -= learning_rate * db1\n",
    "    W2 -= learning_rate * dW2\n",
    "    b2 -= learning_rate * db2\n",
    "\n",
    "# Train the model\n",
    "for epoch in range(epochs):\n",
    "    Z1, A1, Z2, A2 = forward_propagation(X_train)\n",
    "    cost = compute_cost(A2, y_train)\n",
    "    dW1, db1, dW2, db2 = backward_propagation(X_train, y_train, Z1, A1, Z2, A2)\n",
    "    update_parameters(dW1, db1, dW2, db2)\n",
    "    if epoch % 100 == 0:\n",
    "        print(f'Epoch {epoch}, Cost: {cost}')\n",
    "\n",
    "# Evaluate the model\n",
    "_, _, _, A2_test = forward_propagation(X_test)\n",
    "y_pred = (A2_test > 0.5).astype(int)\n",
    "accuracy = accuracy_score(y_test, y_pred)\n",
    "print(f'Accuracy: {accuracy}')"
   ]
  },
  {
   "cell_type": "markdown",
   "metadata": {},
   "source": [
    "## Explain your architecture and how the basketball player characteristics are used as inputs:\n",
    "\n",
    "1. Data Preparation:\n",
    "\n",
    "- Pool and Training Data:\n",
    "    - Separates data: \n",
    "        - `pool` holds 100 unique players (2019-2022) for potential future use.\n",
    "        - `training_data` stores up to 5000 players (2019-2022) for model training.\n",
    "\n",
    "2. Feature Extraction:\n",
    "\n",
    "- The `extract_features` function takes a list of players and creates a dictionary of features for each one. \n",
    "- These features include:\n",
    "    - Name (not used as input)\n",
    "    - True Shooting Percentage (ts_pct)\n",
    "    - Rebounds (reb)\n",
    "    - Defensive Rebound Percentage (dreb_pct)\n",
    "    - Net Rating (rating)\n",
    "    - Assists (ast)\n",
    "\n",
    "3. Simulating Data for Training:\n",
    "\n",
    "- The `simulate_data` function generates training data with labels indicating successful teams based on pre-defined criteria.\n",
    "- It takes a list of players (`sample`) and a number of simulations (`num_iter`).\n",
    "- Here's how player characteristics are used as inputs:\n",
    "    - Averages and percentiles are calculated for assists, shooting percentage, rebounds, and net rating from the `sample` data.\n",
    "    - Loops through `num_iter` simulations:\n",
    "        - Selects 5 random players.\n",
    "        - Extracts their features using `extract_features`.\n",
    "        - Assigns a label (0 or 1) based on the criteria defined above..\n",
    "\n",
    "4. Model Building and Training:\n",
    "\n",
    "TO-DO\n",
    "5. Evaluation:\n",
    "\n",
    "TO-DO\n"
   ]
  },
  {
   "cell_type": "markdown",
   "metadata": {},
   "source": [
    "## Interpret the output of your MLP in the context of selecting an optimal basketball team:\n",
    "\n",
    "This MLP is trained on the 'optimal' prediction, given the input features of the dataset-shooting percentage, rebounds, assists, and player ratings amongst others-a basketball lineup is optimal. These mentioned inputs provide key indications about player performance. The model will process it for a binary outcome; 1 stands for an optimum team, and 0 stands for a suboptimum team. It could be shown that the MLP model is currently trained to learn from historical data to understand whether a combination of players is strong or weak and thus provide insight into which lineups will perform likely perform.\n",
    "\n",
    "These could then inform the choice of an optimum basketball team, where the model shows which sets of players are statistically balanced in key performance metrics. The teams that are predicted as \"optimal\" will indicate that their set of players is effective, while those labeled \"suboptimal\" need adjustment. Coaches or team selectors would be able to play around with different mixes of players in order to fine-tune their strategy and ensure the team is great in a lot of aspects of the game: scoring, defense, teamwork, just to name a few.\n",
    "\n",
    "Besides the precision, recall is one of the metrics that signifies model reliability or accuracy. High accuracy means the model can discriminate between good and bad lineups well. While precision and recall give an indication of few false predictions or missing optimal teams, in the end, what an MLP model provides is a data-driven method of selection of the team so as to best ensure that the lineup chosen will perform better on the court."
   ]
  }
 ],
 "metadata": {
  "kernelspec": {
   "display_name": "Python 3",
   "language": "python",
   "name": "python3"
  },
  "language_info": {
   "codemirror_mode": {
    "name": "ipython",
    "version": 3
   },
   "file_extension": ".py",
   "mimetype": "text/x-python",
   "name": "python",
   "nbconvert_exporter": "python",
   "pygments_lexer": "ipython3",
   "version": "3.11.3"
  }
 },
 "nbformat": 4,
 "nbformat_minor": 2
}
