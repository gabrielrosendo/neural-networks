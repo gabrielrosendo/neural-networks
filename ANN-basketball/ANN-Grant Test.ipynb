{
 "cells": [
  {
   "cell_type": "markdown",
   "metadata": {},
   "source": [
    "Gabriel Marcelino, Grant Burk, and Eli Kaustinen\n",
    "September 2024\n",
    "Artificial Neural Network (ANN)"
   ]
  },
  {
   "cell_type": "markdown",
   "metadata": {},
   "source": [
    "## Import dependencies and load data"
   ]
  },
  {
   "cell_type": "code",
   "execution_count": 191,
   "metadata": {
    "collapsed": false,
    "ExecuteTime": {
     "end_time": "2024-09-23T03:15:33.404017Z",
     "start_time": "2024-09-23T03:15:33.399373Z"
    }
   },
   "outputs": [
    {
     "name": "stdout",
     "output_type": "stream",
     "text": [
      "['C:\\\\Program Files\\\\JetBrains\\\\PyCharm 2023.3.3\\\\plugins\\\\python\\\\helpers-pro\\\\jupyter_debug', 'C:\\\\Program Files\\\\JetBrains\\\\PyCharm 2023.3.3\\\\plugins\\\\python\\\\helpers\\\\pydev', 'C:\\\\Users\\\\grant\\\\PycharmProjects\\\\neural-networks', 'C:\\\\Users\\\\grant\\\\AppData\\\\Local\\\\Programs\\\\Python\\\\Python312\\\\python312.zip', 'C:\\\\Users\\\\grant\\\\AppData\\\\Local\\\\Programs\\\\Python\\\\Python312\\\\DLLs', 'C:\\\\Users\\\\grant\\\\AppData\\\\Local\\\\Programs\\\\Python\\\\Python312\\\\Lib', 'C:\\\\Users\\\\grant\\\\AppData\\\\Local\\\\Programs\\\\Python\\\\Python312', '', 'C:\\\\Users\\\\grant\\\\AppData\\\\Local\\\\Programs\\\\Python\\\\Python312\\\\Lib\\\\site-packages', 'C:\\\\Users\\\\grant\\\\AppData\\\\Local\\\\Programs\\\\Python\\\\Python312\\\\Lib\\\\site-packages\\\\win32', 'C:\\\\Users\\\\grant\\\\AppData\\\\Local\\\\Programs\\\\Python\\\\Python312\\\\Lib\\\\site-packages\\\\win32\\\\lib', 'C:\\\\Users\\\\grant\\\\AppData\\\\Local\\\\Programs\\\\Python\\\\Python312\\\\Lib\\\\site-packages\\\\Pythonwin', 'C:\\\\Users\\\\grant\\\\AppData\\\\Local\\\\Programs\\\\Python\\\\Python312\\\\Lib\\\\site-packages\\\\setuptools\\\\_vendor']\n"
     ]
    }
   ],
   "source": [
    "import sys\n",
    "print(sys.path)\n"
   ]
  },
  {
   "cell_type": "code",
   "execution_count": 192,
   "metadata": {
    "collapsed": false,
    "ExecuteTime": {
     "end_time": "2024-09-23T03:15:33.498930Z",
     "start_time": "2024-09-23T03:15:33.445184Z"
    }
   },
   "outputs": [],
   "source": [
    "import csv\n",
    "import random\n",
    "import numpy as np\n",
    "import pandas as pd\n",
    "from sklearn.model_selection import train_test_split\n",
    "from sklearn.metrics import accuracy_score\n",
    "import numpy as np\n",
    "import tensorflow as tf\n",
    "from sklearn.datasets import fetch_20newsgroups\n",
    "from sklearn.model_selection import train_test_split\n",
    "from sklearn.feature_extraction.text import TfidfVectorizer\n",
    "\n",
    "pool = []\n",
    "training_data = []\n",
    "# create pool with players from 2019-2022\n",
    "with open('all_seasons.csv', mode = 'r') as file:\n",
    "    csvFile = csv.reader(file)\n",
    "    # ignore first line\n",
    "    next(csvFile)\n",
    "    for lines in csvFile:\n",
    "        training_data.append(lines)\n"
   ]
  },
  {
   "cell_type": "markdown",
   "metadata": {
    "collapsed": false
   },
   "source": [
    "## Optimal Team : Considerations\n",
    "For my optimal team, I will aim for:\n",
    "- 1 or more players in top 20% of shooting percentage.\n",
    "- Player in the top 5% out of the 100 for rebounds.\n",
    "- Player with a Defensive Rebound percentage bigger than 0.2\n",
    "- 3 or more players in top 20% of best net rating\n",
    "- 2 or more players with better than average assists"
   ]
  },
  {
   "cell_type": "code",
   "execution_count": 193,
   "metadata": {
    "collapsed": false,
    "ExecuteTime": {
     "end_time": "2024-09-23T03:15:33.504447Z",
     "start_time": "2024-09-23T03:15:33.499940Z"
    }
   },
   "outputs": [],
   "source": [
    "def extract_features(player):\n",
    "    return {\n",
    "        'name': player[1],\n",
    "        'ts_pct': float(player[19]),\n",
    "        'reb': float(player[13]),\n",
    "        'dreb_pct': float(player[17]),\n",
    "        'rating': float(player[15]),\n",
    "        'ast': float(player[14])\n",
    "    }\n"
   ]
  },
  {
   "cell_type": "code",
   "execution_count": 194,
   "metadata": {
    "collapsed": false,
    "ExecuteTime": {
     "end_time": "2024-09-23T03:15:33.512382Z",
     "start_time": "2024-09-23T03:15:33.505456Z"
    }
   },
   "outputs": [],
   "source": [
    "def team_score(team):\n",
    "    ts_pct = np.mean([player['ts_pct'] for player in team])\n",
    "    reb = np.sum([player['reb'] for player in team])\n",
    "    dreb_pct = np.max([player['dreb_pct'] for player in team])\n",
    "    rating = np.mean([player['rating'] for player in team])\n",
    "    ast = np.sum([player['ast'] for player in team])\n",
    "    # For my optimal team, the most important features are\n",
    "    # 1. True shooting percentage\n",
    "    # 2. Defensive rebound percentage\n",
    "    # 3. Rating\n",
    "    # 4. Assists/Rebounds\n",
    "    score = (ts_pct * 20 + reb * 0.5 + dreb_pct * 10 + rating + ast * 0.5) / 5\n",
    "    return score\n",
    "\n",
    "def select_optimal_team(pool, team_size=5):\n",
    "    player_features = [extract_features(player) for player in pool]\n",
    "    \n",
    "    best_team = None\n",
    "    best_score = -float('inf')\n",
    "\n",
    "    # Use a heuristic to find a good solution\n",
    "    for _ in range(1000):  # Number of iterations\n",
    "        team = random.sample(player_features, team_size)\n",
    "        score = team_score(team)\n",
    "        if score > best_score:\n",
    "            best_score = score\n",
    "            best_team = team\n",
    "\n",
    "    return best_team, best_score\n",
    "\n",
    "\n",
    "\n"
   ]
  },
  {
   "cell_type": "markdown",
   "metadata": {
    "collapsed": false
   },
   "source": [
    "## Model"
   ]
  },
  {
   "cell_type": "code",
   "execution_count": 195,
   "metadata": {
    "collapsed": false,
    "ExecuteTime": {
     "end_time": "2024-09-23T03:15:33.518636Z",
     "start_time": "2024-09-23T03:15:33.513900Z"
    }
   },
   "outputs": [],
   "source": [
    "def extract_features(pool):\n",
    "    features_list = []\n",
    "    for player in pool:\n",
    "        # extract relevant features based on considerations above\n",
    "        features = {\n",
    "            'name': player[1],\n",
    "            'ts_pct': player[19],\n",
    "            'reb': player[13],\n",
    "            'dreb_pct': player[17],\n",
    "            'rating': player[15],\n",
    "            'ast': player[14]\n",
    "        }\n",
    "        features_list.append(features)\n",
    "    return features_list\n"
   ]
  },
  {
   "cell_type": "markdown",
   "metadata": {
    "collapsed": false
   },
   "source": [
    "## Simulate Training Data to train model"
   ]
  },
  {
   "cell_type": "code",
   "execution_count": 196,
   "metadata": {
    "collapsed": false,
    "ExecuteTime": {
     "end_time": "2024-09-23T03:15:33.523962Z",
     "start_time": "2024-09-23T03:15:33.519642Z"
    }
   },
   "outputs": [],
   "source": [
    "def make_empty(player):\n",
    "    player['ts_pct'] = 0\n",
    "    player['reb'] = 0\n",
    "    player['dreb_pct'] = 0\n",
    "    player['rating'] = 0\n",
    "    player['ast'] = 0\n",
    "    return player"
   ]
  },
  {
   "cell_type": "markdown",
   "metadata": {
    "collapsed": false
   },
   "source": [
    "# Get Best Player for Category"
   ]
  },
  {
   "cell_type": "code",
   "execution_count": 197,
   "metadata": {
    "collapsed": false,
    "ExecuteTime": {
     "end_time": "2024-09-23T03:15:33.529343Z",
     "start_time": "2024-09-23T03:15:33.524969Z"
    }
   },
   "outputs": [],
   "source": [
    "def get_best(players, category):\n",
    "    best_index = 0\n",
    "    for cur in range(len(players)):\n",
    "        if float(players[cur][category]) > float(players[best_index][category]):\n",
    "            best_index = cur\n",
    "    return best_index"
   ]
  },
  {
   "cell_type": "markdown",
   "metadata": {
    "collapsed": false
   },
   "source": [
    "# Pre Process the data"
   ]
  },
  {
   "cell_type": "code",
   "execution_count": 198,
   "metadata": {
    "collapsed": false,
    "ExecuteTime": {
     "end_time": "2024-09-23T03:15:34.017421Z",
     "start_time": "2024-09-23T03:15:33.530352Z"
    }
   },
   "outputs": [
    {
     "name": "stdout",
     "output_type": "stream",
     "text": [
      "\n",
      "tempX1\n",
      "100\n",
      "[{'name': 'Chris Mills', 'ts_pct': '0.544', 'reb': '6.2', 'dreb_pct': '0.157', 'rating': '4.5', 'ast': '2.5'}, {'name': 'Chris Morris', 'ts_pct': '0.486', 'reb': '2.2', 'dreb_pct': '0.155', 'rating': '-7.3', 'ast': '0.6'}, {'name': 'Chris Mullin', 'ts_pct': 0, 'reb': 0, 'dreb_pct': 0, 'rating': 0, 'ast': 0}, {'name': 'Chris Robinson', 'ts_pct': '0.486', 'reb': '1.7', 'dreb_pct': '0.08800000000000001', 'rating': '-11.4', 'ast': '1.6'}, {'name': 'Chris Webber', 'ts_pct': '0.5539999999999999', 'reb': '10.3', 'dreb_pct': '0.207', 'rating': '3.4', 'ast': '4.6'}, {'name': 'Chris Whitney', 'ts_pct': '0.5660000000000001', 'reb': '1.3', 'dreb_pct': '0.09300000000000001', 'rating': '2.0', 'ast': '2.2'}, {'name': 'Christian Laettner', 'ts_pct': '0.562', 'reb': '8.8', 'dreb_pct': '0.18600000000000003', 'rating': '11.0', 'ast': '2.7'}, {'name': 'Chucky Brown', 'ts_pct': '0.552', 'reb': '2.1', 'dreb_pct': '0.177', 'rating': '-5.9', 'ast': '0.4'}, {'name': 'Chris Gatling', 'ts_pct': '0.58', 'reb': '7.9', 'dreb_pct': '0.21600000000000003', 'rating': '-4.1', 'ast': '0.6'}, {'name': 'Clar. Weatherspoon', 'ts_pct': '0.537', 'reb': '8.3', 'dreb_pct': '0.172', 'rating': '-8.3', 'ast': '1.7'}, {'name': 'Clifford Rozier', 'ts_pct': '0.47100000000000003', 'reb': '5.6', 'dreb_pct': '0.223', 'rating': '-6.3', 'ast': '0.7'}, {'name': 'Clyde Drexler', 'ts_pct': '0.5479999999999999', 'reb': '6.0', 'dreb_pct': '0.122', 'rating': '7.5', 'ast': '5.7'}, {'name': 'Corie Blount', 'ts_pct': '0.5589999999999999', 'reb': '4.8', 'dreb_pct': '0.182', 'rating': '2.0', 'ast': '0.6'}, {'name': 'Corliss Williamson', 'ts_pct': '0.535', 'reb': '4.1', 'dreb_pct': '0.11199999999999999', 'rating': '-4.2', 'ast': '1.6'}, {'name': 'Cory Alexander', 'ts_pct': '0.528', 'reb': '1.5', 'dreb_pct': '0.081', 'rating': '-8.8', 'ast': '3.2'}, {'name': 'Craig Ehlo', 'ts_pct': '0.41200000000000003', 'reb': '1.8', 'dreb_pct': '0.107', 'rating': '5.7', 'ast': '1.1'}, {'name': 'Cuonzo Martin', 'ts_pct': '0.0', 'reb': '0.3', 'dreb_pct': '0.0', 'rating': '-12.1', 'ast': '0.3'}, {'name': 'Dale Davis', 'ts_pct': '0.532', 'reb': '9.7', 'dreb_pct': '0.215', 'rating': '-0.2', 'ast': '0.7'}, {'name': 'Dale Ellis', 'ts_pct': '0.537', 'reb': '3.6', 'dreb_pct': '0.07400000000000001', 'rating': '-9.1', 'ast': '2.0'}, {'name': 'Clifford Robinson', 'ts_pct': '0.519', 'reb': '4.0', 'dreb_pct': '0.08800000000000001', 'rating': '4.4', 'ast': '3.2'}, {'name': 'Chris Dudley', 'ts_pct': '0.449', 'reb': '7.3', 'dreb_pct': '0.249', 'rating': '-0.2', 'ast': '0.5'}, {'name': 'Chris Childs', 'ts_pct': '0.526', 'reb': '2.9', 'dreb_pct': '0.094', 'rating': '5.2', 'ast': '6.1'}, {'name': 'Chris Carr', 'ts_pct': '0.5579999999999999', 'reb': '2.1', 'dreb_pct': '0.11599999999999999', 'rating': '3.8', 'ast': '0.9'}, {'name': 'Brian Evans', 'ts_pct': '0.455', 'reb': '0.6', 'dreb_pct': '0.121', 'rating': '-12.5', 'ast': '0.5'}, {'name': 'Brian Grant', 'ts_pct': '0.511', 'reb': '5.9', 'dreb_pct': '0.185', 'rating': '-7.7', 'ast': '1.2'}, {'name': 'Brian Shaw', 'ts_pct': '0.478', 'reb': '2.5', 'dreb_pct': '0.095', 'rating': '-10.5', 'ast': '4.1'}, {'name': 'Brooks Thompson', 'ts_pct': '0.526', 'reb': '1.4', 'dreb_pct': '0.087', 'rating': '-6.2', 'ast': '2.7'}, {'name': 'Bruce Bowen', 'ts_pct': 0, 'reb': 0, 'dreb_pct': 0, 'rating': 0, 'ast': 0}, {'name': 'Bryant Reeves', 'ts_pct': '0.523', 'reb': '8.1', 'dreb_pct': '0.185', 'rating': '-10.6', 'ast': '2.1'}, {'name': 'Bryant Stith', 'ts_pct': '0.5479999999999999', 'reb': '4.2', 'dreb_pct': '0.09', 'rating': '-5.6', 'ast': '2.6'}, {'name': 'Bryon Russell', 'ts_pct': '0.6', 'reb': '4.1', 'dreb_pct': '0.11800000000000001', 'rating': '13.5', 'ast': '1.5'}, {'name': 'Buck Williams', 'ts_pct': '0.574', 'reb': '5.4', 'dreb_pct': '0.184', 'rating': '6.9', 'ast': '0.7'}, {'name': 'Byron Scott', 'ts_pct': '0.59', 'reb': '1.5', 'dreb_pct': '0.075', 'rating': '6.7', 'ast': '1.3'}, {'name': 'Calbert Cheaney', 'ts_pct': '0.53', 'reb': '3.4', 'dreb_pct': '0.095', 'rating': '2.0', 'ast': '1.4'}, {'name': 'Carl Herrera', 'ts_pct': '0.46299999999999997', 'reb': '4.5', 'dreb_pct': '0.151', 'rating': '-9.7', 'ast': '0.7'}, {'name': 'Carl Thomas', 'ts_pct': '0.43', 'reb': '0.7', 'dreb_pct': '0.152', 'rating': '-8.9', 'ast': '0.4'}, {'name': 'Carlos Rogers', 'ts_pct': '0.575', 'reb': '5.4', 'dreb_pct': '0.154', 'rating': '-5.7', 'ast': '0.7'}, {'name': 'Cedric Ceballos', 'ts_pct': '0.522', 'reb': '6.6', 'dreb_pct': '0.18100000000000002', 'rating': '4.1', 'ast': '1.3'}, {'name': 'Charles Barkley', 'ts_pct': 0, 'reb': 0, 'dreb_pct': 0, 'rating': 0, 'ast': 0}, {'name': 'Charles Jones', 'ts_pct': '0.4', 'reb': '1.1', 'dreb_pct': '0.10300000000000001', 'rating': '2.6', 'ast': '0.3'}, {'name': 'Charles Oakley', 'ts_pct': '0.545', 'reb': '9.8', 'dreb_pct': '0.218', 'rating': '3.4', 'ast': '2.8'}, {'name': 'Charles Smith', 'ts_pct': '0.461', 'reb': '3.4', 'dreb_pct': '0.179', 'rating': '-4.9', 'ast': '0.7'}, {'name': 'Charlie Ward', 'ts_pct': '0.522', 'reb': '2.8', 'dreb_pct': '0.11599999999999999', 'rating': '4.0', 'ast': '4.1'}, {'name': 'Cherokee Parks', 'ts_pct': '0.535', 'reb': '2.6', 'dreb_pct': '0.135', 'rating': '-0.6', 'ast': '0.4'}, {'name': 'Damon Stoudamire', 'ts_pct': 0, 'reb': 0, 'dreb_pct': 0, 'rating': 0, 'ast': 0}, {'name': 'Dan Majerle', 'ts_pct': '0.523', 'reb': '4.5', 'dreb_pct': '0.111', 'rating': '4.7', 'ast': '3.2'}, {'name': 'Dan Schayes', 'ts_pct': '0.465', 'reb': '2.8', 'dreb_pct': '0.183', 'rating': '-1.5', 'ast': '0.3'}, {'name': 'Dana Barros', 'ts_pct': '0.552', 'reb': '2.0', 'dreb_pct': '0.07400000000000001', 'rating': '-10.0', 'ast': '3.4'}, {'name': 'Dexter Boney', 'ts_pct': '0.42200000000000004', 'reb': '0.8', 'dreb_pct': '0.071', 'rating': '-19.6', 'ast': '0.0'}, {'name': 'Dickey Simpkins', 'ts_pct': '0.41100000000000003', 'reb': '1.9', 'dreb_pct': '0.151', 'rating': '-0.9', 'ast': '0.6'}, {'name': 'Dikembe Mutombo', 'ts_pct': '0.584', 'reb': '11.6', 'dreb_pct': '0.256', 'rating': '8.1', 'ast': '1.4'}, {'name': 'Dino Radja', 'ts_pct': '0.47100000000000003', 'reb': '8.4', 'dreb_pct': '0.217', 'rating': '-3.3', 'ast': '1.9'}, {'name': 'Dominique Wilkins', 'ts_pct': '0.517', 'reb': '6.4', 'dreb_pct': '0.154', 'rating': '-10.3', 'ast': '1.9'}, {'name': 'Don MacLean', 'ts_pct': '0.493', 'reb': '3.8', 'dreb_pct': '0.152', 'rating': '-5.9', 'ast': '1.0'}, {'name': 'Don Reid', 'ts_pct': '0.523', 'reb': '2.1', 'dreb_pct': '0.159', 'rating': '-1.5', 'ast': '0.3'}, {'name': 'Donald Royal', 'ts_pct': '0.552', 'reb': '2.5', 'dreb_pct': '0.13699999999999998', 'rating': '-4.6', 'ast': '0.4'}, {'name': 'Donald Whiteside', 'ts_pct': '0.479', 'reb': '0.4', 'dreb_pct': '0.046', 'rating': '-12.4', 'ast': '1.3'}, {'name': 'Donnie Boyce', 'ts_pct': '0.37799999999999995', 'reb': '0.7', 'dreb_pct': '0.059000000000000004', 'rating': '-10.3', 'ast': '0.6'}, {'name': 'Donny Marshall', 'ts_pct': '0.47600000000000003', 'reb': '1.3', 'dreb_pct': '0.11800000000000001', 'rating': '-8.7', 'ast': '0.4'}, {'name': 'Dontonio Wingfield', 'ts_pct': '0.501', 'reb': '2.9', 'dreb_pct': '0.14400000000000002', 'rating': '1.3', 'ast': '1.0'}, {'name': 'Donyell Marshall', 'ts_pct': '0.478', 'reb': '4.5', 'dreb_pct': '0.21', 'rating': '-8.6', 'ast': '0.9'}, {'name': 'Doug Christie', 'ts_pct': '0.5429999999999999', 'reb': '5.3', 'dreb_pct': '0.135', 'rating': '-2.6', 'ast': '3.9'}, {'name': 'Doug Overton', 'ts_pct': '0.514', 'reb': '1.1', 'dreb_pct': '0.085', 'rating': '-1.3', 'ast': '1.7'}, {'name': 'Doug West', 'ts_pct': '0.505', 'reb': '2.2', 'dreb_pct': '0.07', 'rating': '-3.1', 'ast': '1.7'}, {'name': 'Duane Causwell', 'ts_pct': '0.535', 'reb': '2.8', 'dreb_pct': '0.14300000000000002', 'rating': '-11.8', 'ast': '0.4'}, {'name': 'Duane Ferrell', 'ts_pct': '0.521', 'reb': '2.3', 'dreb_pct': '0.091', 'rating': '2.3', 'ast': '1.1'}, {'name': 'Dwayne Schintzius', 'ts_pct': '0.43', 'reb': '1.5', 'dreb_pct': '0.151', 'rating': '12.3', 'ast': '0.3'}, {'name': 'Earl Cureton', 'ts_pct': '0.376', 'reb': '1.0', 'dreb_pct': '0.102', 'rating': '-2.1', 'ast': '0.4'}, {'name': \"Ed O'Bannon\", 'ts_pct': '0.39899999999999997', 'reb': '2.3', 'dreb_pct': '0.149', 'rating': '-8.7', 'ast': '0.6'}, {'name': 'Devin Gray', 'ts_pct': '0.319', 'reb': '2.3', 'dreb_pct': '0.25', 'rating': '-42.1', 'ast': '0.3'}, {'name': 'Jud Buechler', 'ts_pct': '0.423', 'reb': '1.7', 'dreb_pct': '0.121', 'rating': '5.4', 'ast': '0.8'}, {'name': 'Detlef Schrempf', 'ts_pct': '0.5920000000000001', 'reb': '6.5', 'dreb_pct': '0.166', 'rating': '12.2', 'ast': '4.4'}, {'name': 'Derrick Coleman', 'ts_pct': '0.518', 'reb': '10.1', 'dreb_pct': '0.225', 'rating': '-5.4', 'ast': '3.4'}, {'name': 'Danny Ferry', 'ts_pct': '0.523', 'reb': '4.1', 'dreb_pct': '0.134', 'rating': '2.3', 'ast': '1.8'}, {'name': 'Danny Manning', 'ts_pct': '0.574', 'reb': '6.1', 'dreb_pct': '0.184', 'rating': '3.1', 'ast': '2.2'}, {'name': 'Darrell Armstrong', 'ts_pct': '0.525', 'reb': '1.1', 'dreb_pct': '0.05', 'rating': '0.3', 'ast': '2.6'}, {'name': 'Darrick Martin', 'ts_pct': '0.539', 'reb': '1.4', 'dreb_pct': '0.06', 'rating': '-4.5', 'ast': '4.1'}, {'name': 'Darrin Hancock', 'ts_pct': '0.51', 'reb': '0.8', 'dreb_pct': '0.11800000000000001', 'rating': '-2.6', 'ast': '0.5'}, {'name': 'Darvin Ham', 'ts_pct': '0.536', 'reb': '1.6', 'dreb_pct': '0.09699999999999999', 'rating': '-2.0', 'ast': '0.4'}, {'name': 'David Robinson', 'ts_pct': '0.5589999999999999', 'reb': '8.5', 'dreb_pct': '0.237', 'rating': '9.6', 'ast': '1.3'}, {'name': 'David Vaughn', 'ts_pct': '0.475', 'reb': '2.7', 'dreb_pct': '0.21600000000000003', 'rating': '-7.5', 'ast': '0.2'}, {'name': 'David Wesley', 'ts_pct': '0.563', 'reb': '3.6', 'dreb_pct': '0.084', 'rating': '-7.4', 'ast': '7.3'}, {'name': 'David Wingate', 'ts_pct': '0.509', 'reb': '1.1', 'dreb_pct': '0.069', 'rating': '2.8', 'ast': '1.2'}, {'name': 'David Wood', 'ts_pct': '0.621', 'reb': '0.6', 'dreb_pct': '0.128', 'rating': '3.9', 'ast': '0.3'}, {'name': 'Dean Garrett', 'ts_pct': '0.603', 'reb': '7.3', 'dreb_pct': '0.247', 'rating': '1.2', 'ast': '0.6'}, {'name': 'Dee Brown', 'ts_pct': '0.455', 'reb': '2.3', 'dreb_pct': '0.095', 'rating': '-7.5', 'ast': '3.2'}, {'name': 'Dell Curry', 'ts_pct': '0.562', 'reb': '3.1', 'dreb_pct': '0.098', 'rating': '1.6', 'ast': '1.7'}, {'name': 'Dell Demps', 'ts_pct': '0.258', 'reb': '0.0', 'dreb_pct': '0.0', 'rating': '-53.7', 'ast': '0.0'}, {'name': 'Dennis Rodman', 'ts_pct': 0, 'reb': 0, 'dreb_pct': 0, 'rating': 0, 'ast': 0}, {'name': 'Dennis Scott', 'ts_pct': '0.519', 'reb': '3.1', 'dreb_pct': '0.092', 'rating': '1.9', 'ast': '2.1'}, {'name': 'Derek Fisher', 'ts_pct': '0.491', 'reb': '1.2', 'dreb_pct': '0.087', 'rating': '5.1', 'ast': '1.5'}, {'name': 'Derek Harper', 'ts_pct': '0.516', 'reb': '1.8', 'dreb_pct': '0.057', 'rating': '-7.7', 'ast': '4.3'}, {'name': 'Derek Strong', 'ts_pct': '0.513', 'reb': '6.3', 'dreb_pct': '0.20800000000000002', 'rating': '-0.7', 'ast': '0.9'}, {'name': 'Derrick Alston', 'ts_pct': '0.0', 'reb': '2.0', 'dreb_pct': '0.2', 'rating': '-39.9', 'ast': '0.0'}, {'name': 'Derrick McKey', 'ts_pct': '0.462', 'reb': '4.8', 'dreb_pct': '0.127', 'rating': '-0.2', 'ast': '2.7'}, {'name': 'Brett Szabo', 'ts_pct': '0.517', 'reb': '2.4', 'dreb_pct': '0.196', 'rating': '-11.1', 'ast': '0.2'}, {'name': 'Juwan Howard', 'ts_pct': '0.529', 'reb': '8.0', 'dreb_pct': '0.156', 'rating': '1.3', 'ast': '3.8'}, {'name': 'Keith Askins', 'ts_pct': '0.557', 'reb': '3.5', 'dreb_pct': '0.127', 'rating': '6.1', 'ast': '1.0'}, {'name': 'Scott Burrell', 'ts_pct': '0.485', 'reb': '2.8', 'dreb_pct': '0.134', 'rating': '1.4', 'ast': '1.3'}, {'name': 'Scott Williams', 'ts_pct': '0.529', 'reb': '6.4', 'dreb_pct': '0.205', 'rating': '-4.6', 'ast': '0.7'}]\n",
      "[array([0.544, 6.2  , 0.157, 4.5  , 2.5  ]), array([ 0.486,  2.2  ,  0.155, -7.3  ,  0.6  ]), array([0., 0., 0., 0., 0.]), array([  0.486,   1.7  ,   0.088, -11.4  ,   1.6  ]), array([ 0.554, 10.3  ,  0.207,  3.4  ,  4.6  ]), array([0.566, 1.3  , 0.093, 2.   , 2.2  ]), array([ 0.562,  8.8  ,  0.186, 11.   ,  2.7  ]), array([ 0.552,  2.1  ,  0.177, -5.9  ,  0.4  ]), array([ 0.58 ,  7.9  ,  0.216, -4.1  ,  0.6  ]), array([ 0.537,  8.3  ,  0.172, -8.3  ,  1.7  ]), array([ 0.471,  5.6  ,  0.223, -6.3  ,  0.7  ]), array([0.548, 6.   , 0.122, 7.5  , 5.7  ]), array([0.559, 4.8  , 0.182, 2.   , 0.6  ]), array([ 0.535,  4.1  ,  0.112, -4.2  ,  1.6  ]), array([ 0.528,  1.5  ,  0.081, -8.8  ,  3.2  ]), array([0.412, 1.8  , 0.107, 5.7  , 1.1  ]), array([  0. ,   0.3,   0. , -12.1,   0.3]), array([ 0.532,  9.7  ,  0.215, -0.2  ,  0.7  ]), array([ 0.537,  3.6  ,  0.074, -9.1  ,  2.   ]), array([0.519, 4.   , 0.088, 4.4  , 3.2  ]), array([ 0.449,  7.3  ,  0.249, -0.2  ,  0.5  ]), array([0.526, 2.9  , 0.094, 5.2  , 6.1  ]), array([0.558, 2.1  , 0.116, 3.8  , 0.9  ]), array([  0.455,   0.6  ,   0.121, -12.5  ,   0.5  ]), array([ 0.511,  5.9  ,  0.185, -7.7  ,  1.2  ]), array([  0.478,   2.5  ,   0.095, -10.5  ,   4.1  ]), array([ 0.526,  1.4  ,  0.087, -6.2  ,  2.7  ]), array([0., 0., 0., 0., 0.]), array([  0.523,   8.1  ,   0.185, -10.6  ,   2.1  ]), array([ 0.548,  4.2  ,  0.09 , -5.6  ,  2.6  ]), array([ 0.6  ,  4.1  ,  0.118, 13.5  ,  1.5  ]), array([0.574, 5.4  , 0.184, 6.9  , 0.7  ]), array([0.59 , 1.5  , 0.075, 6.7  , 1.3  ]), array([0.53 , 3.4  , 0.095, 2.   , 1.4  ]), array([ 0.463,  4.5  ,  0.151, -9.7  ,  0.7  ]), array([ 0.43 ,  0.7  ,  0.152, -8.9  ,  0.4  ]), array([ 0.575,  5.4  ,  0.154, -5.7  ,  0.7  ]), array([0.522, 6.6  , 0.181, 4.1  , 1.3  ]), array([0., 0., 0., 0., 0.]), array([0.4  , 1.1  , 0.103, 2.6  , 0.3  ]), array([0.545, 9.8  , 0.218, 3.4  , 2.8  ]), array([ 0.461,  3.4  ,  0.179, -4.9  ,  0.7  ]), array([0.522, 2.8  , 0.116, 4.   , 4.1  ]), array([ 0.535,  2.6  ,  0.135, -0.6  ,  0.4  ]), array([0., 0., 0., 0., 0.]), array([0.523, 4.5  , 0.111, 4.7  , 3.2  ]), array([ 0.465,  2.8  ,  0.183, -1.5  ,  0.3  ]), array([  0.552,   2.   ,   0.074, -10.   ,   3.4  ]), array([  0.422,   0.8  ,   0.071, -19.6  ,   0.   ]), array([ 0.411,  1.9  ,  0.151, -0.9  ,  0.6  ]), array([ 0.584, 11.6  ,  0.256,  8.1  ,  1.4  ]), array([ 0.471,  8.4  ,  0.217, -3.3  ,  1.9  ]), array([  0.517,   6.4  ,   0.154, -10.3  ,   1.9  ]), array([ 0.493,  3.8  ,  0.152, -5.9  ,  1.   ]), array([ 0.523,  2.1  ,  0.159, -1.5  ,  0.3  ]), array([ 0.552,  2.5  ,  0.137, -4.6  ,  0.4  ]), array([  0.479,   0.4  ,   0.046, -12.4  ,   1.3  ]), array([  0.378,   0.7  ,   0.059, -10.3  ,   0.6  ]), array([ 0.476,  1.3  ,  0.118, -8.7  ,  0.4  ]), array([0.501, 2.9  , 0.144, 1.3  , 1.   ]), array([ 0.478,  4.5  ,  0.21 , -8.6  ,  0.9  ]), array([ 0.543,  5.3  ,  0.135, -2.6  ,  3.9  ]), array([ 0.514,  1.1  ,  0.085, -1.3  ,  1.7  ]), array([ 0.505,  2.2  ,  0.07 , -3.1  ,  1.7  ]), array([  0.535,   2.8  ,   0.143, -11.8  ,   0.4  ]), array([0.521, 2.3  , 0.091, 2.3  , 1.1  ]), array([ 0.43 ,  1.5  ,  0.151, 12.3  ,  0.3  ]), array([ 0.376,  1.   ,  0.102, -2.1  ,  0.4  ]), array([ 0.399,  2.3  ,  0.149, -8.7  ,  0.6  ]), array([  0.319,   2.3  ,   0.25 , -42.1  ,   0.3  ]), array([0.423, 1.7  , 0.121, 5.4  , 0.8  ]), array([ 0.592,  6.5  ,  0.166, 12.2  ,  4.4  ]), array([ 0.518, 10.1  ,  0.225, -5.4  ,  3.4  ]), array([0.523, 4.1  , 0.134, 2.3  , 1.8  ]), array([0.574, 6.1  , 0.184, 3.1  , 2.2  ]), array([0.525, 1.1  , 0.05 , 0.3  , 2.6  ]), array([ 0.539,  1.4  ,  0.06 , -4.5  ,  4.1  ]), array([ 0.51 ,  0.8  ,  0.118, -2.6  ,  0.5  ]), array([ 0.536,  1.6  ,  0.097, -2.   ,  0.4  ]), array([0.559, 8.5  , 0.237, 9.6  , 1.3  ]), array([ 0.475,  2.7  ,  0.216, -7.5  ,  0.2  ]), array([ 0.563,  3.6  ,  0.084, -7.4  ,  7.3  ]), array([0.509, 1.1  , 0.069, 2.8  , 1.2  ]), array([0.621, 0.6  , 0.128, 3.9  , 0.3  ]), array([0.603, 7.3  , 0.247, 1.2  , 0.6  ]), array([ 0.455,  2.3  ,  0.095, -7.5  ,  3.2  ]), array([0.562, 3.1  , 0.098, 1.6  , 1.7  ]), array([  0.258,   0.   ,   0.   , -53.7  ,   0.   ]), array([0., 0., 0., 0., 0.]), array([0.519, 3.1  , 0.092, 1.9  , 2.1  ]), array([0.491, 1.2  , 0.087, 5.1  , 1.5  ]), array([ 0.516,  1.8  ,  0.057, -7.7  ,  4.3  ]), array([ 0.513,  6.3  ,  0.208, -0.7  ,  0.9  ]), array([  0. ,   2. ,   0.2, -39.9,   0. ]), array([ 0.462,  4.8  ,  0.127, -0.2  ,  2.7  ]), array([  0.517,   2.4  ,   0.196, -11.1  ,   0.2  ]), array([0.529, 8.   , 0.156, 1.3  , 3.8  ]), array([0.557, 3.5  , 0.127, 6.1  , 1.   ]), array([0.485, 2.8  , 0.134, 1.4  , 1.3  ]), array([ 0.529,  6.4  ,  0.205, -4.6  ,  0.7  ])]\n",
      "\n",
      "Xval\n",
      "100\n",
      "tf.Tensor(\n",
      "[0. 0. 1. 0. 0. 0. 0. 0. 0. 0. 0. 0. 0. 0. 0. 0. 0. 0. 0. 0. 0. 0. 0. 0.\n",
      " 0. 0. 0. 1. 0. 0. 0. 0. 0. 0. 0. 0. 0. 0. 1. 0. 0. 0. 0. 0. 1. 0. 0. 0.\n",
      " 0. 0. 0. 0. 0. 0. 0. 0. 0. 0. 0. 0. 0. 0. 0. 0. 0. 0. 0. 0. 0. 0. 0. 0.\n",
      " 0. 0. 0. 0. 0. 0. 0. 0. 0. 0. 0. 0. 0. 0. 0. 0. 1. 0. 0. 0. 0. 0. 0. 0.\n",
      " 0. 0. 0. 0.], shape=(100,), dtype=float32)\n",
      "X2\n",
      "100\n",
      "tf.Tensor(\n",
      "[0. 0. 1. 0. 0. 0. 0. 0. 0. 0. 0. 0. 0. 0. 0. 0. 0. 0. 0. 0. 0. 0. 0. 0.\n",
      " 0. 0. 0. 1. 0. 0. 0. 0. 0. 0. 0. 0. 0. 0. 1. 0. 0. 0. 0. 0. 1. 0. 0. 0.\n",
      " 0. 0. 0. 0. 0. 0. 0. 0. 0. 0. 0. 0. 0. 0. 0. 0. 0. 0. 0. 0. 0. 0. 0. 0.\n",
      " 0. 0. 0. 0. 0. 0. 0. 0. 0. 0. 0. 0. 0. 0. 0. 0. 1. 0. 0. 0. 0. 0. 0. 0.\n",
      " 0. 0. 0. 0.], shape=(100,), dtype=float32)\n",
      "\n",
      "Y2\n",
      "100\n",
      "tf.Tensor(\n",
      "[0. 0. 1. 0. 0. 0. 0. 0. 0. 0. 0. 0. 0. 0. 0. 0. 0. 0. 0. 0. 0. 0. 0. 0.\n",
      " 0. 0. 0. 1. 0. 0. 0. 0. 0. 0. 0. 0. 0. 0. 1. 0. 0. 0. 0. 0. 1. 0. 0. 0.\n",
      " 0. 0. 0. 0. 0. 0. 0. 0. 0. 0. 0. 0. 0. 0. 0. 0. 0. 0. 0. 0. 0. 0. 0. 0.\n",
      " 0. 0. 0. 0. 0. 0. 0. 0. 0. 0. 0. 0. 0. 0. 0. 0. 1. 0. 0. 0. 0. 0. 0. 0.\n",
      " 0. 0. 0. 0.], shape=(100,), dtype=float32)\n",
      "\n",
      "tempX1\n",
      "100\n",
      "[{'name': 'Chris Mills', 'ts_pct': '0.544', 'reb': '6.2', 'dreb_pct': '0.157', 'rating': '4.5', 'ast': '2.5'}, {'name': 'Chris Morris', 'ts_pct': '0.486', 'reb': '2.2', 'dreb_pct': '0.155', 'rating': '-7.3', 'ast': '0.6'}, {'name': 'Chris Mullin', 'ts_pct': 0, 'reb': 0, 'dreb_pct': 0, 'rating': 0, 'ast': 0}, {'name': 'Chris Robinson', 'ts_pct': '0.486', 'reb': '1.7', 'dreb_pct': '0.08800000000000001', 'rating': '-11.4', 'ast': '1.6'}, {'name': 'Chris Webber', 'ts_pct': '0.5539999999999999', 'reb': '10.3', 'dreb_pct': '0.207', 'rating': '3.4', 'ast': '4.6'}, {'name': 'Chris Whitney', 'ts_pct': '0.5660000000000001', 'reb': '1.3', 'dreb_pct': '0.09300000000000001', 'rating': '2.0', 'ast': '2.2'}, {'name': 'Christian Laettner', 'ts_pct': '0.562', 'reb': '8.8', 'dreb_pct': '0.18600000000000003', 'rating': '11.0', 'ast': '2.7'}, {'name': 'Chucky Brown', 'ts_pct': '0.552', 'reb': '2.1', 'dreb_pct': '0.177', 'rating': '-5.9', 'ast': '0.4'}, {'name': 'Chris Gatling', 'ts_pct': '0.58', 'reb': '7.9', 'dreb_pct': '0.21600000000000003', 'rating': '-4.1', 'ast': '0.6'}, {'name': 'Clar. Weatherspoon', 'ts_pct': '0.537', 'reb': '8.3', 'dreb_pct': '0.172', 'rating': '-8.3', 'ast': '1.7'}, {'name': 'Clifford Rozier', 'ts_pct': '0.47100000000000003', 'reb': '5.6', 'dreb_pct': '0.223', 'rating': '-6.3', 'ast': '0.7'}, {'name': 'Clyde Drexler', 'ts_pct': '0.5479999999999999', 'reb': '6.0', 'dreb_pct': '0.122', 'rating': '7.5', 'ast': '5.7'}, {'name': 'Corie Blount', 'ts_pct': '0.5589999999999999', 'reb': '4.8', 'dreb_pct': '0.182', 'rating': '2.0', 'ast': '0.6'}, {'name': 'Corliss Williamson', 'ts_pct': '0.535', 'reb': '4.1', 'dreb_pct': '0.11199999999999999', 'rating': '-4.2', 'ast': '1.6'}, {'name': 'Cory Alexander', 'ts_pct': '0.528', 'reb': '1.5', 'dreb_pct': '0.081', 'rating': '-8.8', 'ast': '3.2'}, {'name': 'Craig Ehlo', 'ts_pct': '0.41200000000000003', 'reb': '1.8', 'dreb_pct': '0.107', 'rating': '5.7', 'ast': '1.1'}, {'name': 'Cuonzo Martin', 'ts_pct': '0.0', 'reb': '0.3', 'dreb_pct': '0.0', 'rating': '-12.1', 'ast': '0.3'}, {'name': 'Dale Davis', 'ts_pct': '0.532', 'reb': '9.7', 'dreb_pct': '0.215', 'rating': '-0.2', 'ast': '0.7'}, {'name': 'Dale Ellis', 'ts_pct': '0.537', 'reb': '3.6', 'dreb_pct': '0.07400000000000001', 'rating': '-9.1', 'ast': '2.0'}, {'name': 'Clifford Robinson', 'ts_pct': '0.519', 'reb': '4.0', 'dreb_pct': '0.08800000000000001', 'rating': '4.4', 'ast': '3.2'}, {'name': 'Chris Dudley', 'ts_pct': '0.449', 'reb': '7.3', 'dreb_pct': '0.249', 'rating': '-0.2', 'ast': '0.5'}, {'name': 'Chris Childs', 'ts_pct': '0.526', 'reb': '2.9', 'dreb_pct': '0.094', 'rating': '5.2', 'ast': '6.1'}, {'name': 'Chris Carr', 'ts_pct': '0.5579999999999999', 'reb': '2.1', 'dreb_pct': '0.11599999999999999', 'rating': '3.8', 'ast': '0.9'}, {'name': 'Brian Evans', 'ts_pct': '0.455', 'reb': '0.6', 'dreb_pct': '0.121', 'rating': '-12.5', 'ast': '0.5'}, {'name': 'Brian Grant', 'ts_pct': '0.511', 'reb': '5.9', 'dreb_pct': '0.185', 'rating': '-7.7', 'ast': '1.2'}, {'name': 'Brian Shaw', 'ts_pct': '0.478', 'reb': '2.5', 'dreb_pct': '0.095', 'rating': '-10.5', 'ast': '4.1'}, {'name': 'Brooks Thompson', 'ts_pct': '0.526', 'reb': '1.4', 'dreb_pct': '0.087', 'rating': '-6.2', 'ast': '2.7'}, {'name': 'Bruce Bowen', 'ts_pct': 0, 'reb': 0, 'dreb_pct': 0, 'rating': 0, 'ast': 0}, {'name': 'Bryant Reeves', 'ts_pct': '0.523', 'reb': '8.1', 'dreb_pct': '0.185', 'rating': '-10.6', 'ast': '2.1'}, {'name': 'Bryant Stith', 'ts_pct': '0.5479999999999999', 'reb': '4.2', 'dreb_pct': '0.09', 'rating': '-5.6', 'ast': '2.6'}, {'name': 'Bryon Russell', 'ts_pct': '0.6', 'reb': '4.1', 'dreb_pct': '0.11800000000000001', 'rating': '13.5', 'ast': '1.5'}, {'name': 'Buck Williams', 'ts_pct': '0.574', 'reb': '5.4', 'dreb_pct': '0.184', 'rating': '6.9', 'ast': '0.7'}, {'name': 'Byron Scott', 'ts_pct': '0.59', 'reb': '1.5', 'dreb_pct': '0.075', 'rating': '6.7', 'ast': '1.3'}, {'name': 'Calbert Cheaney', 'ts_pct': '0.53', 'reb': '3.4', 'dreb_pct': '0.095', 'rating': '2.0', 'ast': '1.4'}, {'name': 'Carl Herrera', 'ts_pct': '0.46299999999999997', 'reb': '4.5', 'dreb_pct': '0.151', 'rating': '-9.7', 'ast': '0.7'}, {'name': 'Carl Thomas', 'ts_pct': '0.43', 'reb': '0.7', 'dreb_pct': '0.152', 'rating': '-8.9', 'ast': '0.4'}, {'name': 'Carlos Rogers', 'ts_pct': '0.575', 'reb': '5.4', 'dreb_pct': '0.154', 'rating': '-5.7', 'ast': '0.7'}, {'name': 'Cedric Ceballos', 'ts_pct': '0.522', 'reb': '6.6', 'dreb_pct': '0.18100000000000002', 'rating': '4.1', 'ast': '1.3'}, {'name': 'Charles Barkley', 'ts_pct': 0, 'reb': 0, 'dreb_pct': 0, 'rating': 0, 'ast': 0}, {'name': 'Charles Jones', 'ts_pct': '0.4', 'reb': '1.1', 'dreb_pct': '0.10300000000000001', 'rating': '2.6', 'ast': '0.3'}, {'name': 'Charles Oakley', 'ts_pct': '0.545', 'reb': '9.8', 'dreb_pct': '0.218', 'rating': '3.4', 'ast': '2.8'}, {'name': 'Charles Smith', 'ts_pct': '0.461', 'reb': '3.4', 'dreb_pct': '0.179', 'rating': '-4.9', 'ast': '0.7'}, {'name': 'Charlie Ward', 'ts_pct': '0.522', 'reb': '2.8', 'dreb_pct': '0.11599999999999999', 'rating': '4.0', 'ast': '4.1'}, {'name': 'Cherokee Parks', 'ts_pct': '0.535', 'reb': '2.6', 'dreb_pct': '0.135', 'rating': '-0.6', 'ast': '0.4'}, {'name': 'Damon Stoudamire', 'ts_pct': 0, 'reb': 0, 'dreb_pct': 0, 'rating': 0, 'ast': 0}, {'name': 'Dan Majerle', 'ts_pct': '0.523', 'reb': '4.5', 'dreb_pct': '0.111', 'rating': '4.7', 'ast': '3.2'}, {'name': 'Dan Schayes', 'ts_pct': '0.465', 'reb': '2.8', 'dreb_pct': '0.183', 'rating': '-1.5', 'ast': '0.3'}, {'name': 'Dana Barros', 'ts_pct': '0.552', 'reb': '2.0', 'dreb_pct': '0.07400000000000001', 'rating': '-10.0', 'ast': '3.4'}, {'name': 'Dexter Boney', 'ts_pct': '0.42200000000000004', 'reb': '0.8', 'dreb_pct': '0.071', 'rating': '-19.6', 'ast': '0.0'}, {'name': 'Dickey Simpkins', 'ts_pct': '0.41100000000000003', 'reb': '1.9', 'dreb_pct': '0.151', 'rating': '-0.9', 'ast': '0.6'}, {'name': 'Dikembe Mutombo', 'ts_pct': '0.584', 'reb': '11.6', 'dreb_pct': '0.256', 'rating': '8.1', 'ast': '1.4'}, {'name': 'Dino Radja', 'ts_pct': '0.47100000000000003', 'reb': '8.4', 'dreb_pct': '0.217', 'rating': '-3.3', 'ast': '1.9'}, {'name': 'Dominique Wilkins', 'ts_pct': '0.517', 'reb': '6.4', 'dreb_pct': '0.154', 'rating': '-10.3', 'ast': '1.9'}, {'name': 'Don MacLean', 'ts_pct': '0.493', 'reb': '3.8', 'dreb_pct': '0.152', 'rating': '-5.9', 'ast': '1.0'}, {'name': 'Don Reid', 'ts_pct': '0.523', 'reb': '2.1', 'dreb_pct': '0.159', 'rating': '-1.5', 'ast': '0.3'}, {'name': 'Donald Royal', 'ts_pct': '0.552', 'reb': '2.5', 'dreb_pct': '0.13699999999999998', 'rating': '-4.6', 'ast': '0.4'}, {'name': 'Donald Whiteside', 'ts_pct': '0.479', 'reb': '0.4', 'dreb_pct': '0.046', 'rating': '-12.4', 'ast': '1.3'}, {'name': 'Donnie Boyce', 'ts_pct': '0.37799999999999995', 'reb': '0.7', 'dreb_pct': '0.059000000000000004', 'rating': '-10.3', 'ast': '0.6'}, {'name': 'Donny Marshall', 'ts_pct': '0.47600000000000003', 'reb': '1.3', 'dreb_pct': '0.11800000000000001', 'rating': '-8.7', 'ast': '0.4'}, {'name': 'Dontonio Wingfield', 'ts_pct': '0.501', 'reb': '2.9', 'dreb_pct': '0.14400000000000002', 'rating': '1.3', 'ast': '1.0'}, {'name': 'Donyell Marshall', 'ts_pct': '0.478', 'reb': '4.5', 'dreb_pct': '0.21', 'rating': '-8.6', 'ast': '0.9'}, {'name': 'Doug Christie', 'ts_pct': '0.5429999999999999', 'reb': '5.3', 'dreb_pct': '0.135', 'rating': '-2.6', 'ast': '3.9'}, {'name': 'Doug Overton', 'ts_pct': '0.514', 'reb': '1.1', 'dreb_pct': '0.085', 'rating': '-1.3', 'ast': '1.7'}, {'name': 'Doug West', 'ts_pct': '0.505', 'reb': '2.2', 'dreb_pct': '0.07', 'rating': '-3.1', 'ast': '1.7'}, {'name': 'Duane Causwell', 'ts_pct': '0.535', 'reb': '2.8', 'dreb_pct': '0.14300000000000002', 'rating': '-11.8', 'ast': '0.4'}, {'name': 'Duane Ferrell', 'ts_pct': '0.521', 'reb': '2.3', 'dreb_pct': '0.091', 'rating': '2.3', 'ast': '1.1'}, {'name': 'Dwayne Schintzius', 'ts_pct': '0.43', 'reb': '1.5', 'dreb_pct': '0.151', 'rating': '12.3', 'ast': '0.3'}, {'name': 'Earl Cureton', 'ts_pct': '0.376', 'reb': '1.0', 'dreb_pct': '0.102', 'rating': '-2.1', 'ast': '0.4'}, {'name': \"Ed O'Bannon\", 'ts_pct': '0.39899999999999997', 'reb': '2.3', 'dreb_pct': '0.149', 'rating': '-8.7', 'ast': '0.6'}, {'name': 'Devin Gray', 'ts_pct': '0.319', 'reb': '2.3', 'dreb_pct': '0.25', 'rating': '-42.1', 'ast': '0.3'}, {'name': 'Jud Buechler', 'ts_pct': '0.423', 'reb': '1.7', 'dreb_pct': '0.121', 'rating': '5.4', 'ast': '0.8'}, {'name': 'Detlef Schrempf', 'ts_pct': '0.5920000000000001', 'reb': '6.5', 'dreb_pct': '0.166', 'rating': '12.2', 'ast': '4.4'}, {'name': 'Derrick Coleman', 'ts_pct': '0.518', 'reb': '10.1', 'dreb_pct': '0.225', 'rating': '-5.4', 'ast': '3.4'}, {'name': 'Danny Ferry', 'ts_pct': '0.523', 'reb': '4.1', 'dreb_pct': '0.134', 'rating': '2.3', 'ast': '1.8'}, {'name': 'Danny Manning', 'ts_pct': '0.574', 'reb': '6.1', 'dreb_pct': '0.184', 'rating': '3.1', 'ast': '2.2'}, {'name': 'Darrell Armstrong', 'ts_pct': '0.525', 'reb': '1.1', 'dreb_pct': '0.05', 'rating': '0.3', 'ast': '2.6'}, {'name': 'Darrick Martin', 'ts_pct': '0.539', 'reb': '1.4', 'dreb_pct': '0.06', 'rating': '-4.5', 'ast': '4.1'}, {'name': 'Darrin Hancock', 'ts_pct': '0.51', 'reb': '0.8', 'dreb_pct': '0.11800000000000001', 'rating': '-2.6', 'ast': '0.5'}, {'name': 'Darvin Ham', 'ts_pct': '0.536', 'reb': '1.6', 'dreb_pct': '0.09699999999999999', 'rating': '-2.0', 'ast': '0.4'}, {'name': 'David Robinson', 'ts_pct': '0.5589999999999999', 'reb': '8.5', 'dreb_pct': '0.237', 'rating': '9.6', 'ast': '1.3'}, {'name': 'David Vaughn', 'ts_pct': '0.475', 'reb': '2.7', 'dreb_pct': '0.21600000000000003', 'rating': '-7.5', 'ast': '0.2'}, {'name': 'David Wesley', 'ts_pct': '0.563', 'reb': '3.6', 'dreb_pct': '0.084', 'rating': '-7.4', 'ast': '7.3'}, {'name': 'David Wingate', 'ts_pct': '0.509', 'reb': '1.1', 'dreb_pct': '0.069', 'rating': '2.8', 'ast': '1.2'}, {'name': 'David Wood', 'ts_pct': '0.621', 'reb': '0.6', 'dreb_pct': '0.128', 'rating': '3.9', 'ast': '0.3'}, {'name': 'Dean Garrett', 'ts_pct': '0.603', 'reb': '7.3', 'dreb_pct': '0.247', 'rating': '1.2', 'ast': '0.6'}, {'name': 'Dee Brown', 'ts_pct': '0.455', 'reb': '2.3', 'dreb_pct': '0.095', 'rating': '-7.5', 'ast': '3.2'}, {'name': 'Dell Curry', 'ts_pct': '0.562', 'reb': '3.1', 'dreb_pct': '0.098', 'rating': '1.6', 'ast': '1.7'}, {'name': 'Dell Demps', 'ts_pct': '0.258', 'reb': '0.0', 'dreb_pct': '0.0', 'rating': '-53.7', 'ast': '0.0'}, {'name': 'Dennis Rodman', 'ts_pct': 0, 'reb': 0, 'dreb_pct': 0, 'rating': 0, 'ast': 0}, {'name': 'Dennis Scott', 'ts_pct': '0.519', 'reb': '3.1', 'dreb_pct': '0.092', 'rating': '1.9', 'ast': '2.1'}, {'name': 'Derek Fisher', 'ts_pct': '0.491', 'reb': '1.2', 'dreb_pct': '0.087', 'rating': '5.1', 'ast': '1.5'}, {'name': 'Derek Harper', 'ts_pct': '0.516', 'reb': '1.8', 'dreb_pct': '0.057', 'rating': '-7.7', 'ast': '4.3'}, {'name': 'Derek Strong', 'ts_pct': '0.513', 'reb': '6.3', 'dreb_pct': '0.20800000000000002', 'rating': '-0.7', 'ast': '0.9'}, {'name': 'Derrick Alston', 'ts_pct': '0.0', 'reb': '2.0', 'dreb_pct': '0.2', 'rating': '-39.9', 'ast': '0.0'}, {'name': 'Derrick McKey', 'ts_pct': '0.462', 'reb': '4.8', 'dreb_pct': '0.127', 'rating': '-0.2', 'ast': '2.7'}, {'name': 'Brett Szabo', 'ts_pct': '0.517', 'reb': '2.4', 'dreb_pct': '0.196', 'rating': '-11.1', 'ast': '0.2'}, {'name': 'Juwan Howard', 'ts_pct': '0.529', 'reb': '8.0', 'dreb_pct': '0.156', 'rating': '1.3', 'ast': '3.8'}, {'name': 'Keith Askins', 'ts_pct': '0.557', 'reb': '3.5', 'dreb_pct': '0.127', 'rating': '6.1', 'ast': '1.0'}, {'name': 'Scott Burrell', 'ts_pct': '0.485', 'reb': '2.8', 'dreb_pct': '0.134', 'rating': '1.4', 'ast': '1.3'}, {'name': 'Scott Williams', 'ts_pct': '0.529', 'reb': '6.4', 'dreb_pct': '0.205', 'rating': '-4.6', 'ast': '0.7'}]\n",
      "[array([0.544, 6.2  , 0.157, 4.5  , 2.5  ]), array([ 0.486,  2.2  ,  0.155, -7.3  ,  0.6  ]), array([0., 0., 0., 0., 0.]), array([  0.486,   1.7  ,   0.088, -11.4  ,   1.6  ]), array([ 0.554, 10.3  ,  0.207,  3.4  ,  4.6  ]), array([0.566, 1.3  , 0.093, 2.   , 2.2  ]), array([ 0.562,  8.8  ,  0.186, 11.   ,  2.7  ]), array([ 0.552,  2.1  ,  0.177, -5.9  ,  0.4  ]), array([ 0.58 ,  7.9  ,  0.216, -4.1  ,  0.6  ]), array([ 0.537,  8.3  ,  0.172, -8.3  ,  1.7  ]), array([ 0.471,  5.6  ,  0.223, -6.3  ,  0.7  ]), array([0.548, 6.   , 0.122, 7.5  , 5.7  ]), array([0.559, 4.8  , 0.182, 2.   , 0.6  ]), array([ 0.535,  4.1  ,  0.112, -4.2  ,  1.6  ]), array([ 0.528,  1.5  ,  0.081, -8.8  ,  3.2  ]), array([0.412, 1.8  , 0.107, 5.7  , 1.1  ]), array([  0. ,   0.3,   0. , -12.1,   0.3]), array([ 0.532,  9.7  ,  0.215, -0.2  ,  0.7  ]), array([ 0.537,  3.6  ,  0.074, -9.1  ,  2.   ]), array([0.519, 4.   , 0.088, 4.4  , 3.2  ]), array([ 0.449,  7.3  ,  0.249, -0.2  ,  0.5  ]), array([0.526, 2.9  , 0.094, 5.2  , 6.1  ]), array([0.558, 2.1  , 0.116, 3.8  , 0.9  ]), array([  0.455,   0.6  ,   0.121, -12.5  ,   0.5  ]), array([ 0.511,  5.9  ,  0.185, -7.7  ,  1.2  ]), array([  0.478,   2.5  ,   0.095, -10.5  ,   4.1  ]), array([ 0.526,  1.4  ,  0.087, -6.2  ,  2.7  ]), array([0., 0., 0., 0., 0.]), array([  0.523,   8.1  ,   0.185, -10.6  ,   2.1  ]), array([ 0.548,  4.2  ,  0.09 , -5.6  ,  2.6  ]), array([ 0.6  ,  4.1  ,  0.118, 13.5  ,  1.5  ]), array([0.574, 5.4  , 0.184, 6.9  , 0.7  ]), array([0.59 , 1.5  , 0.075, 6.7  , 1.3  ]), array([0.53 , 3.4  , 0.095, 2.   , 1.4  ]), array([ 0.463,  4.5  ,  0.151, -9.7  ,  0.7  ]), array([ 0.43 ,  0.7  ,  0.152, -8.9  ,  0.4  ]), array([ 0.575,  5.4  ,  0.154, -5.7  ,  0.7  ]), array([0.522, 6.6  , 0.181, 4.1  , 1.3  ]), array([0., 0., 0., 0., 0.]), array([0.4  , 1.1  , 0.103, 2.6  , 0.3  ]), array([0.545, 9.8  , 0.218, 3.4  , 2.8  ]), array([ 0.461,  3.4  ,  0.179, -4.9  ,  0.7  ]), array([0.522, 2.8  , 0.116, 4.   , 4.1  ]), array([ 0.535,  2.6  ,  0.135, -0.6  ,  0.4  ]), array([0., 0., 0., 0., 0.]), array([0.523, 4.5  , 0.111, 4.7  , 3.2  ]), array([ 0.465,  2.8  ,  0.183, -1.5  ,  0.3  ]), array([  0.552,   2.   ,   0.074, -10.   ,   3.4  ]), array([  0.422,   0.8  ,   0.071, -19.6  ,   0.   ]), array([ 0.411,  1.9  ,  0.151, -0.9  ,  0.6  ]), array([ 0.584, 11.6  ,  0.256,  8.1  ,  1.4  ]), array([ 0.471,  8.4  ,  0.217, -3.3  ,  1.9  ]), array([  0.517,   6.4  ,   0.154, -10.3  ,   1.9  ]), array([ 0.493,  3.8  ,  0.152, -5.9  ,  1.   ]), array([ 0.523,  2.1  ,  0.159, -1.5  ,  0.3  ]), array([ 0.552,  2.5  ,  0.137, -4.6  ,  0.4  ]), array([  0.479,   0.4  ,   0.046, -12.4  ,   1.3  ]), array([  0.378,   0.7  ,   0.059, -10.3  ,   0.6  ]), array([ 0.476,  1.3  ,  0.118, -8.7  ,  0.4  ]), array([0.501, 2.9  , 0.144, 1.3  , 1.   ]), array([ 0.478,  4.5  ,  0.21 , -8.6  ,  0.9  ]), array([ 0.543,  5.3  ,  0.135, -2.6  ,  3.9  ]), array([ 0.514,  1.1  ,  0.085, -1.3  ,  1.7  ]), array([ 0.505,  2.2  ,  0.07 , -3.1  ,  1.7  ]), array([  0.535,   2.8  ,   0.143, -11.8  ,   0.4  ]), array([0.521, 2.3  , 0.091, 2.3  , 1.1  ]), array([ 0.43 ,  1.5  ,  0.151, 12.3  ,  0.3  ]), array([ 0.376,  1.   ,  0.102, -2.1  ,  0.4  ]), array([ 0.399,  2.3  ,  0.149, -8.7  ,  0.6  ]), array([  0.319,   2.3  ,   0.25 , -42.1  ,   0.3  ]), array([0.423, 1.7  , 0.121, 5.4  , 0.8  ]), array([ 0.592,  6.5  ,  0.166, 12.2  ,  4.4  ]), array([ 0.518, 10.1  ,  0.225, -5.4  ,  3.4  ]), array([0.523, 4.1  , 0.134, 2.3  , 1.8  ]), array([0.574, 6.1  , 0.184, 3.1  , 2.2  ]), array([0.525, 1.1  , 0.05 , 0.3  , 2.6  ]), array([ 0.539,  1.4  ,  0.06 , -4.5  ,  4.1  ]), array([ 0.51 ,  0.8  ,  0.118, -2.6  ,  0.5  ]), array([ 0.536,  1.6  ,  0.097, -2.   ,  0.4  ]), array([0.559, 8.5  , 0.237, 9.6  , 1.3  ]), array([ 0.475,  2.7  ,  0.216, -7.5  ,  0.2  ]), array([ 0.563,  3.6  ,  0.084, -7.4  ,  7.3  ]), array([0.509, 1.1  , 0.069, 2.8  , 1.2  ]), array([0.621, 0.6  , 0.128, 3.9  , 0.3  ]), array([0.603, 7.3  , 0.247, 1.2  , 0.6  ]), array([ 0.455,  2.3  ,  0.095, -7.5  ,  3.2  ]), array([0.562, 3.1  , 0.098, 1.6  , 1.7  ]), array([  0.258,   0.   ,   0.   , -53.7  ,   0.   ]), array([0., 0., 0., 0., 0.]), array([0.519, 3.1  , 0.092, 1.9  , 2.1  ]), array([0.491, 1.2  , 0.087, 5.1  , 1.5  ]), array([ 0.516,  1.8  ,  0.057, -7.7  ,  4.3  ]), array([ 0.513,  6.3  ,  0.208, -0.7  ,  0.9  ]), array([  0. ,   2. ,   0.2, -39.9,   0. ]), array([ 0.462,  4.8  ,  0.127, -0.2  ,  2.7  ]), array([  0.517,   2.4  ,   0.196, -11.1  ,   0.2  ]), array([0.529, 8.   , 0.156, 1.3  , 3.8  ]), array([0.557, 3.5  , 0.127, 6.1  , 1.   ]), array([0.485, 2.8  , 0.134, 1.4  , 1.3  ]), array([ 0.529,  6.4  ,  0.205, -4.6  ,  0.7  ])]\n",
      "\n",
      "Xval\n",
      "100\n",
      "tf.Tensor(\n",
      "[0. 0. 1. 0. 0. 0. 0. 0. 0. 0. 0. 0. 0. 0. 0. 0. 0. 0. 0. 0. 0. 0. 0. 0.\n",
      " 0. 0. 0. 1. 0. 0. 0. 0. 0. 0. 0. 0. 0. 0. 1. 0. 0. 0. 0. 0. 1. 0. 0. 0.\n",
      " 0. 0. 0. 0. 0. 0. 0. 0. 0. 0. 0. 0. 0. 0. 0. 0. 0. 0. 0. 0. 0. 0. 0. 0.\n",
      " 0. 0. 0. 0. 0. 0. 0. 0. 0. 0. 0. 0. 0. 0. 0. 0. 1. 0. 0. 0. 0. 0. 0. 0.\n",
      " 0. 0. 0. 0.], shape=(100,), dtype=float32)\n",
      "\n",
      "tempX1\n",
      "100\n",
      "[{'name': 'Scottie Pippen', 'ts_pct': '0.5539999999999999', 'reb': '6.5', 'dreb_pct': '0.133', 'rating': '13.5', 'ast': '5.7'}, {'name': 'Sean Elliott', 'ts_pct': '0.529', 'reb': '4.9', 'dreb_pct': '0.126', 'rating': '-5.7', 'ast': '3.2'}, {'name': 'Sean Rooks', 'ts_pct': '0.547', 'reb': '2.4', 'dreb_pct': '0.166', 'rating': '1.3', 'ast': '0.6'}, {'name': 'Sedale Threatt', 'ts_pct': '0.451', 'reb': '1.1', 'dreb_pct': '0.063', 'rating': '-3.5', 'ast': '1.9'}, {'name': 'Shandon Anderson', 'ts_pct': '0.534', 'reb': '2.8', 'dreb_pct': '0.139', 'rating': '2.5', 'ast': '0.8'}, {'name': 'Shane Heal', 'ts_pct': '0.37799999999999995', 'reb': '0.4', 'dreb_pct': '0.075', 'rating': '-0.7', 'ast': '0.8'}, {'name': \"Shaquille O'Neal\", 'ts_pct': 0, 'reb': 0, 'dreb_pct': 0, 'rating': 0, 'ast': 0}, {'name': 'Scott Brooks', 'ts_pct': '0.625', 'reb': '0.5', 'dreb_pct': '0.057999999999999996', 'rating': '3.8', 'ast': '0.8'}, {'name': 'Shareef Abdur-Rahim', 'ts_pct': '0.518', 'reb': '6.9', 'dreb_pct': '0.142', 'rating': '-12.3', 'ast': '2.2'}, {'name': 'Shawn Bradley', 'ts_pct': '0.478', 'reb': '8.4', 'dreb_pct': '0.19699999999999998', 'rating': '-5.9', 'ast': '0.7'}, {'name': 'Shawn Kemp', 'ts_pct': '0.583', 'reb': '10.0', 'dreb_pct': '0.23', 'rating': '8.9', 'ast': '1.9'}, {'name': 'Shawn Respert', 'ts_pct': '0.551', 'reb': '1.0', 'dreb_pct': '0.065', 'rating': '-4.1', 'ast': '1.0'}, {'name': 'Shawnelle Scott', 'ts_pct': '0.48', 'reb': '1.0', 'dreb_pct': '0.222', 'rating': '6.8', 'ast': '0.0'}, {'name': 'Sherman Douglas', 'ts_pct': '0.557', 'reb': '2.4', 'dreb_pct': '0.069', 'rating': '-3.0', 'ast': '5.4'}, {'name': 'Stacey Augmon', 'ts_pct': '0.531', 'reb': '2.3', 'dreb_pct': '0.109', 'rating': '6.0', 'ast': '0.9'}, {'name': 'Stacey King', 'ts_pct': '0.478', 'reb': '2.5', 'dreb_pct': '0.23199999999999998', 'rating': '-18.7', 'ast': '0.1'}, {'name': 'Stanley Roberts', 'ts_pct': '0.485', 'reb': '5.1', 'dreb_pct': '0.218', 'rating': '2.6', 'ast': '0.5'}, {'name': 'Stephen Howard', 'ts_pct': '0.613', 'reb': '1.7', 'dreb_pct': '0.16399999999999998', 'rating': '0.1', 'ast': '0.2'}, {'name': 'Sharone Wright', 'ts_pct': '0.423', 'reb': '3.1', 'dreb_pct': '0.126', 'rating': '-9.3', 'ast': '0.5'}, {'name': 'Sasha Danilovic', 'ts_pct': '0.552', 'reb': '2.4', 'dreb_pct': '0.069', 'rating': '1.5', 'ast': '1.8'}, {'name': 'Sarunas Marciulionis', 'ts_pct': '0.496', 'reb': '1.8', 'dreb_pct': '0.086', 'rating': '-7.6', 'ast': '1.5'}, {'name': 'Samaki Walker', 'ts_pct': '0.485', 'reb': '3.4', 'dreb_pct': '0.198', 'rating': '-12.6', 'ast': '0.4'}, {'name': 'Rex Walters', 'ts_pct': '0.5710000000000001', 'reb': '1.8', 'dreb_pct': '0.09300000000000001', 'rating': '-11.1', 'ast': '1.9'}, {'name': 'Richard Manning', 'ts_pct': '0.425', 'reb': '1.5', 'dreb_pct': '0.136', 'rating': '-6.8', 'ast': '0.1'}, {'name': 'Rick Fox', 'ts_pct': '0.551', 'reb': '5.2', 'dreb_pct': '0.134', 'rating': '-6.9', 'ast': '3.8'}, {'name': 'Rick Mahorn', 'ts_pct': '0.44', 'reb': '2.4', 'dreb_pct': '0.192', 'rating': '-0.1', 'ast': '0.3'}, {'name': 'Ricky Pierce', 'ts_pct': '0.583', 'reb': '2.0', 'dreb_pct': '0.078', 'rating': '-1.6', 'ast': '1.3'}, {'name': 'Rik Smits', 'ts_pct': '0.535', 'reb': '6.9', 'dreb_pct': '0.201', 'rating': '1.4', 'ast': '1.3'}, {'name': 'Robert Horry', 'ts_pct': '0.529', 'reb': '4.4', 'dreb_pct': '0.14300000000000002', 'rating': '2.7', 'ast': '2.0'}, {'name': 'Robert Pack', 'ts_pct': '0.48200000000000004', 'reb': '2.7', 'dreb_pct': '0.078', 'rating': '-8.3', 'ast': '8.4'}, {'name': 'Robert Parish', 'ts_pct': '0.514', 'reb': '2.1', 'dreb_pct': '0.13', 'rating': '14.9', 'ast': '0.5'}, {'name': 'Robert Werdann', 'ts_pct': '0.541', 'reb': '1.0', 'dreb_pct': '0.14300000000000002', 'rating': '-14.5', 'ast': '0.0'}, {'name': 'Rod Strickland', 'ts_pct': 0, 'reb': 0, 'dreb_pct': 0, 'rating': 0, 'ast': 0}, {'name': 'Rodney Rogers', 'ts_pct': '0.53', 'reb': '5.1', 'dreb_pct': '0.132', 'rating': '-3.5', 'ast': '2.7'}, {'name': 'Ron Harper', 'ts_pct': '0.5429999999999999', 'reb': '2.5', 'dreb_pct': '0.091', 'rating': '14.0', 'ast': '2.5'}, {'name': 'Rony Seikaly', 'ts_pct': '0.5670000000000001', 'reb': '9.5', 'dreb_pct': '0.19699999999999998', 'rating': '-1.7', 'ast': '1.2'}, {'name': 'Roy Rogers', 'ts_pct': '0.518', 'reb': '4.7', 'dreb_pct': '0.155', 'rating': '-13.6', 'ast': '0.6'}, {'name': 'Ruben Nembhard', 'ts_pct': '0.483', 'reb': '0.8', 'dreb_pct': '0.054000000000000006', 'rating': '-0.3', 'ast': '1.7'}, {'name': 'Rumeal Robinson', 'ts_pct': '0.491', 'reb': '0.9', 'dreb_pct': '0.086', 'rating': '4.5', 'ast': '1.4'}, {'name': 'Sam Cassell', 'ts_pct': '0.541', 'reb': '3.0', 'dreb_pct': '0.08900000000000001', 'rating': '-1.7', 'ast': '5.0'}, {'name': 'Sam Mack', 'ts_pct': '0.521', 'reb': '2.0', 'dreb_pct': '0.10400000000000001', 'rating': '-1.7', 'ast': '1.1'}, {'name': 'Sam Mitchell', 'ts_pct': '0.523', 'reb': '4.0', 'dreb_pct': '0.124', 'rating': '-4.9', 'ast': '1.0'}, {'name': 'Sam Perkins', 'ts_pct': '0.584', 'reb': '3.7', 'dreb_pct': '0.145', 'rating': '10.6', 'ast': '1.3'}, {'name': 'Stephon Marbury', 'ts_pct': '0.519', 'reb': '2.7', 'dreb_pct': '0.066', 'rating': '-3.1', 'ast': '7.8'}, {'name': 'Rex Chapman', 'ts_pct': '0.551', 'reb': '2.8', 'dreb_pct': '0.099', 'rating': '2.7', 'ast': '2.8'}, {'name': 'Steve Hamer', 'ts_pct': '0.545', 'reb': '1.7', 'dreb_pct': '0.18100000000000002', 'rating': '-3.1', 'ast': '0.2'}, {'name': 'Steve Nash', 'ts_pct': '0.539', 'reb': '1.0', 'dreb_pct': '0.083', 'rating': '-8.5', 'ast': '2.1'}, {'name': 'Willie Anderson', 'ts_pct': '0.57', 'reb': '1.5', 'dreb_pct': '0.11800000000000001', 'rating': '-1.0', 'ast': '1.2'}, {'name': 'Will Perdue', 'ts_pct': 0, 'reb': 0, 'dreb_pct': 0, 'rating': 0, 'ast': 0}, {'name': 'Wesley Person', 'ts_pct': '0.5670000000000001', 'reb': '3.7', 'dreb_pct': '0.114', 'rating': '0.7', 'ast': '1.5'}, {'name': 'Wayman Tisdale', 'ts_pct': '0.441', 'reb': '2.3', 'dreb_pct': '0.127', 'rating': '-3.5', 'ast': '0.4'}, {'name': 'Walter McCarty', 'ts_pct': '0.431', 'reb': '0.7', 'dreb_pct': '0.08', 'rating': '3.2', 'ast': '0.4'}, {'name': 'Walt Williams', 'ts_pct': '0.551', 'reb': '5.0', 'dreb_pct': '0.122', 'rating': '-1.7', 'ast': '2.7'}, {'name': 'Voshon Lenard', 'ts_pct': '0.614', 'reb': '3.0', 'dreb_pct': '0.095', 'rating': '8.2', 'ast': '2.2'}, {'name': 'Vlade Divac', 'ts_pct': '0.5329999999999999', 'reb': '9.0', 'dreb_pct': '0.19699999999999998', 'rating': '5.4', 'ast': '3.7'}, {'name': 'Vitaly Potapenko', 'ts_pct': '0.486', 'reb': '2.7', 'dreb_pct': '0.11900000000000001', 'rating': '-0.2', 'ast': '0.5'}, {'name': 'Willie Burton', 'ts_pct': '0.507', 'reb': '1.7', 'dreb_pct': '0.09699999999999999', 'rating': '-4.8', 'ast': '0.5'}, {'name': 'Vinny Del Negro', 'ts_pct': '0.528', 'reb': '2.9', 'dreb_pct': '0.094', 'rating': '-8.1', 'ast': '3.2'}, {'name': 'Vin Baker', 'ts_pct': '0.5529999999999999', 'reb': '10.3', 'dreb_pct': '0.20600000000000002', 'rating': '-1.6', 'ast': '2.7'}, {'name': 'Vernon Maxwell', 'ts_pct': '0.47100000000000003', 'reb': '2.2', 'dreb_pct': '0.079', 'rating': '-7.0', 'ast': '2.1'}, {'name': 'Tyus Edney', 'ts_pct': '0.499', 'reb': '1.6', 'dreb_pct': '0.067', 'rating': '-2.0', 'ast': '3.2'}, {'name': 'Tyrone Hill', 'ts_pct': '0.626', 'reb': '9.9', 'dreb_pct': '0.245', 'rating': '5.3', 'ast': '1.2'}, {'name': 'Tyrone Corbin', 'ts_pct': '0.514', 'reb': '4.2', 'dreb_pct': '0.111', 'rating': '10.5', 'ast': '1.8'}, {'name': 'Travis Knight', 'ts_pct': '0.536', 'reb': '4.5', 'dreb_pct': '0.182', 'rating': '6.2', 'ast': '0.5'}, {'name': 'Travis Best', 'ts_pct': '0.5329999999999999', 'reb': '2.2', 'dreb_pct': '0.07400000000000001', 'rating': '2.5', 'ast': '4.2'}, {'name': 'Tracy Murray', 'ts_pct': '0.546', 'reb': '3.1', 'dreb_pct': '0.10800000000000001', 'rating': '1.9', 'ast': '1.0'}, {'name': 'Tracy Moore', 'ts_pct': '0.502', 'reb': '1.0', 'dreb_pct': '0.068', 'rating': '-7.7', 'ast': '0.7'}, {'name': 'Vincent Askew', 'ts_pct': '0.532', 'reb': '2.3', 'dreb_pct': '0.096', 'rating': '0.0', 'ast': '2.1'}, {'name': 'Xavier McDaniel', 'ts_pct': '0.439', 'reb': '5.1', 'dreb_pct': '0.182', 'rating': '-0.8', 'ast': '1.0'}, {'name': 'Yinka Dare', 'ts_pct': '0.406', 'reb': '2.0', 'dreb_pct': '0.191', 'rating': '-1.4', 'ast': '0.1'}, {'name': 'Zan Tabak', 'ts_pct': '0.501', 'reb': '3.8', 'dreb_pct': '0.135', 'rating': '-12.2', 'ast': '1.1'}, {'name': 'Steve Scheffler', 'ts_pct': 0, 'reb': 0, 'dreb_pct': 0, 'rating': 0, 'ast': 0}, {'name': 'Steven Smith', 'ts_pct': '0.5479999999999999', 'reb': '3.3', 'dreb_pct': '0.061', 'rating': '7.4', 'ast': '4.2'}, {'name': 'Stevin Smith', 'ts_pct': '0.38', 'reb': '1.3', 'dreb_pct': '0.157', 'rating': '-6.8', 'ast': '0.5'}, {'name': 'Stojko Vrankovic', 'ts_pct': '0.583', 'reb': '3.2', 'dreb_pct': '0.16899999999999998', 'rating': '-7.1', 'ast': '0.3'}, {'name': 'Terrell Brandon', 'ts_pct': '0.526', 'reb': '3.9', 'dreb_pct': '0.11900000000000001', 'rating': '2.7', 'ast': '6.3'}, {'name': 'Terry Cummings', 'ts_pct': '0.521', 'reb': '4.1', 'dreb_pct': '0.174', 'rating': '1.3', 'ast': '0.9'}, {'name': 'Terry Dehere', 'ts_pct': '0.524', 'reb': '1.3', 'dreb_pct': '0.08800000000000001', 'rating': '-0.5', 'ast': '2.2'}, {'name': 'Terry Mills', 'ts_pct': '0.585', 'reb': '4.8', 'dreb_pct': '0.188', 'rating': '11.4', 'ast': '1.3'}, {'name': 'Terry Porter', 'ts_pct': '0.544', 'reb': '2.1', 'dreb_pct': '0.109', 'rating': '2.1', 'ast': '3.6'}, {'name': 'Theo Ratliff', 'ts_pct': '0.5660000000000001', 'reb': '3.4', 'dreb_pct': '0.134', 'rating': '7.3', 'ast': '0.2'}, {'name': 'Tim Hardaway', 'ts_pct': '0.532', 'reb': '3.4', 'dreb_pct': '0.083', 'rating': '8.9', 'ast': '8.6'}, {'name': 'Tim Kempton', 'ts_pct': '0.34', 'reb': '0.8', 'dreb_pct': '0.08800000000000001', 'rating': '-6.2', 'ast': '0.2'}, {'name': 'Tim Legler', 'ts_pct': '0.431', 'reb': '1.4', 'dreb_pct': '0.133', 'rating': '-3.5', 'ast': '0.5'}, {'name': 'Todd Day', 'ts_pct': '0.514', 'reb': '4.1', 'dreb_pct': '0.122', 'rating': '-7.8', 'ast': '1.4'}, {'name': 'Todd Fuller', 'ts_pct': '0.48', 'reb': '3.3', 'dreb_pct': '0.171', 'rating': '-8.6', 'ast': '0.3'}, {'name': 'Tom Chambers', 'ts_pct': '0.29', 'reb': '1.2', 'dreb_pct': '0.16899999999999998', 'rating': '-33.6', 'ast': '0.3'}, {'name': 'Tom Gugliotta', 'ts_pct': '0.526', 'reb': '8.7', 'dreb_pct': '0.193', 'rating': '-2.0', 'ast': '4.1'}, {'name': 'Tom Hammonds', 'ts_pct': '0.534', 'reb': '5.0', 'dreb_pct': '0.172', 'rating': '-7.3', 'ast': '0.8'}, {'name': 'Toni Kukoc', 'ts_pct': '0.5529999999999999', 'reb': '4.6', 'dreb_pct': '0.12', 'rating': '15.2', 'ast': '4.5'}, {'name': 'Tony Delk', 'ts_pct': '0.596', 'reb': '1.6', 'dreb_pct': '0.09', 'rating': '0.9', 'ast': '1.6'}, {'name': 'Tony Dumas', 'ts_pct': '0.402', 'reb': '0.7', 'dreb_pct': '0.055', 'rating': '-4.1', 'ast': '1.0'}, {'name': 'Steve Kerr', 'ts_pct': '0.667', 'reb': '1.6', 'dreb_pct': '0.062', 'rating': '10.1', 'ast': '2.1'}, {'name': 'Reggie Williams', 'ts_pct': '0.46799999999999997', 'reb': '2.4', 'dreb_pct': '0.142', 'rating': '-12.8', 'ast': '0.8'}, {'name': 'Reggie Slater', 'ts_pct': '0.5579999999999999', 'reb': '3.7', 'dreb_pct': '0.163', 'rating': '1.5', 'ast': '0.8'}, {'name': 'Reggie Miller', 'ts_pct': '0.603', 'reb': '3.5', 'dreb_pct': '0.092', 'rating': '0.9', 'ast': '3.4'}, {'name': 'Lindsey Hunter', 'ts_pct': '0.515', 'reb': '2.8', 'dreb_pct': '0.071', 'rating': '5.1', 'ast': '1.9'}, {'name': 'Lionel Simmons', 'ts_pct': '0.442', 'reb': '2.5', 'dreb_pct': '0.17300000000000001', 'rating': '-10.5', 'ast': '1.4'}, {'name': 'Litterial Green', 'ts_pct': 0, 'reb': 0, 'dreb_pct': 0, 'rating': 0, 'ast': 0}, {'name': 'Tony Smith', 'ts_pct': '0.47700000000000004', 'reb': '1.4', 'dreb_pct': '0.051', 'rating': '0.7', 'ast': '2.2'}]\n",
      "[array([ 0.554,  6.5  ,  0.133, 13.5  ,  5.7  ]), array([ 0.529,  4.9  ,  0.126, -5.7  ,  3.2  ]), array([0.547, 2.4  , 0.166, 1.3  , 0.6  ]), array([ 0.451,  1.1  ,  0.063, -3.5  ,  1.9  ]), array([0.534, 2.8  , 0.139, 2.5  , 0.8  ]), array([ 0.378,  0.4  ,  0.075, -0.7  ,  0.8  ]), array([0., 0., 0., 0., 0.]), array([0.625, 0.5  , 0.058, 3.8  , 0.8  ]), array([  0.518,   6.9  ,   0.142, -12.3  ,   2.2  ]), array([ 0.478,  8.4  ,  0.197, -5.9  ,  0.7  ]), array([ 0.583, 10.   ,  0.23 ,  8.9  ,  1.9  ]), array([ 0.551,  1.   ,  0.065, -4.1  ,  1.   ]), array([0.48 , 1.   , 0.222, 6.8  , 0.   ]), array([ 0.557,  2.4  ,  0.069, -3.   ,  5.4  ]), array([0.531, 2.3  , 0.109, 6.   , 0.9  ]), array([  0.478,   2.5  ,   0.232, -18.7  ,   0.1  ]), array([0.485, 5.1  , 0.218, 2.6  , 0.5  ]), array([0.613, 1.7  , 0.164, 0.1  , 0.2  ]), array([ 0.423,  3.1  ,  0.126, -9.3  ,  0.5  ]), array([0.552, 2.4  , 0.069, 1.5  , 1.8  ]), array([ 0.496,  1.8  ,  0.086, -7.6  ,  1.5  ]), array([  0.485,   3.4  ,   0.198, -12.6  ,   0.4  ]), array([  0.571,   1.8  ,   0.093, -11.1  ,   1.9  ]), array([ 0.425,  1.5  ,  0.136, -6.8  ,  0.1  ]), array([ 0.551,  5.2  ,  0.134, -6.9  ,  3.8  ]), array([ 0.44 ,  2.4  ,  0.192, -0.1  ,  0.3  ]), array([ 0.583,  2.   ,  0.078, -1.6  ,  1.3  ]), array([0.535, 6.9  , 0.201, 1.4  , 1.3  ]), array([0.529, 4.4  , 0.143, 2.7  , 2.   ]), array([ 0.482,  2.7  ,  0.078, -8.3  ,  8.4  ]), array([ 0.514,  2.1  ,  0.13 , 14.9  ,  0.5  ]), array([  0.541,   1.   ,   0.143, -14.5  ,   0.   ]), array([0., 0., 0., 0., 0.]), array([ 0.53 ,  5.1  ,  0.132, -3.5  ,  2.7  ]), array([ 0.543,  2.5  ,  0.091, 14.   ,  2.5  ]), array([ 0.567,  9.5  ,  0.197, -1.7  ,  1.2  ]), array([  0.518,   4.7  ,   0.155, -13.6  ,   0.6  ]), array([ 0.483,  0.8  ,  0.054, -0.3  ,  1.7  ]), array([0.491, 0.9  , 0.086, 4.5  , 1.4  ]), array([ 0.541,  3.   ,  0.089, -1.7  ,  5.   ]), array([ 0.521,  2.   ,  0.104, -1.7  ,  1.1  ]), array([ 0.523,  4.   ,  0.124, -4.9  ,  1.   ]), array([ 0.584,  3.7  ,  0.145, 10.6  ,  1.3  ]), array([ 0.519,  2.7  ,  0.066, -3.1  ,  7.8  ]), array([0.551, 2.8  , 0.099, 2.7  , 2.8  ]), array([ 0.545,  1.7  ,  0.181, -3.1  ,  0.2  ]), array([ 0.539,  1.   ,  0.083, -8.5  ,  2.1  ]), array([ 0.57 ,  1.5  ,  0.118, -1.   ,  1.2  ]), array([0., 0., 0., 0., 0.]), array([0.567, 3.7  , 0.114, 0.7  , 1.5  ]), array([ 0.441,  2.3  ,  0.127, -3.5  ,  0.4  ]), array([0.431, 0.7  , 0.08 , 3.2  , 0.4  ]), array([ 0.551,  5.   ,  0.122, -1.7  ,  2.7  ]), array([0.614, 3.   , 0.095, 8.2  , 2.2  ]), array([0.533, 9.   , 0.197, 5.4  , 3.7  ]), array([ 0.486,  2.7  ,  0.119, -0.2  ,  0.5  ]), array([ 0.507,  1.7  ,  0.097, -4.8  ,  0.5  ]), array([ 0.528,  2.9  ,  0.094, -8.1  ,  3.2  ]), array([ 0.553, 10.3  ,  0.206, -1.6  ,  2.7  ]), array([ 0.471,  2.2  ,  0.079, -7.   ,  2.1  ]), array([ 0.499,  1.6  ,  0.067, -2.   ,  3.2  ]), array([0.626, 9.9  , 0.245, 5.3  , 1.2  ]), array([ 0.514,  4.2  ,  0.111, 10.5  ,  1.8  ]), array([0.536, 4.5  , 0.182, 6.2  , 0.5  ]), array([0.533, 2.2  , 0.074, 2.5  , 4.2  ]), array([0.546, 3.1  , 0.108, 1.9  , 1.   ]), array([ 0.502,  1.   ,  0.068, -7.7  ,  0.7  ]), array([0.532, 2.3  , 0.096, 0.   , 2.1  ]), array([ 0.439,  5.1  ,  0.182, -0.8  ,  1.   ]), array([ 0.406,  2.   ,  0.191, -1.4  ,  0.1  ]), array([  0.501,   3.8  ,   0.135, -12.2  ,   1.1  ]), array([0., 0., 0., 0., 0.]), array([0.548, 3.3  , 0.061, 7.4  , 4.2  ]), array([ 0.38 ,  1.3  ,  0.157, -6.8  ,  0.5  ]), array([ 0.583,  3.2  ,  0.169, -7.1  ,  0.3  ]), array([0.526, 3.9  , 0.119, 2.7  , 6.3  ]), array([0.521, 4.1  , 0.174, 1.3  , 0.9  ]), array([ 0.524,  1.3  ,  0.088, -0.5  ,  2.2  ]), array([ 0.585,  4.8  ,  0.188, 11.4  ,  1.3  ]), array([0.544, 2.1  , 0.109, 2.1  , 3.6  ]), array([0.566, 3.4  , 0.134, 7.3  , 0.2  ]), array([0.532, 3.4  , 0.083, 8.9  , 8.6  ]), array([ 0.34 ,  0.8  ,  0.088, -6.2  ,  0.2  ]), array([ 0.431,  1.4  ,  0.133, -3.5  ,  0.5  ]), array([ 0.514,  4.1  ,  0.122, -7.8  ,  1.4  ]), array([ 0.48 ,  3.3  ,  0.171, -8.6  ,  0.3  ]), array([  0.29 ,   1.2  ,   0.169, -33.6  ,   0.3  ]), array([ 0.526,  8.7  ,  0.193, -2.   ,  4.1  ]), array([ 0.534,  5.   ,  0.172, -7.3  ,  0.8  ]), array([ 0.553,  4.6  ,  0.12 , 15.2  ,  4.5  ]), array([0.596, 1.6  , 0.09 , 0.9  , 1.6  ]), array([ 0.402,  0.7  ,  0.055, -4.1  ,  1.   ]), array([ 0.667,  1.6  ,  0.062, 10.1  ,  2.1  ]), array([  0.468,   2.4  ,   0.142, -12.8  ,   0.8  ]), array([0.558, 3.7  , 0.163, 1.5  , 0.8  ]), array([0.603, 3.5  , 0.092, 0.9  , 3.4  ]), array([0.515, 2.8  , 0.071, 5.1  , 1.9  ]), array([  0.442,   2.5  ,   0.173, -10.5  ,   1.4  ]), array([0., 0., 0., 0., 0.]), array([0.477, 1.4  , 0.051, 0.7  , 2.2  ])]\n",
      "\n",
      "Xval\n",
      "100\n",
      "tf.Tensor(\n",
      "[0. 0. 0. 0. 0. 0. 1. 0. 0. 0. 0. 0. 0. 0. 0. 0. 0. 0. 0. 0. 0. 0. 0. 0.\n",
      " 0. 0. 0. 0. 0. 0. 0. 0. 1. 0. 0. 0. 0. 0. 0. 0. 0. 0. 0. 0. 0. 0. 0. 0.\n",
      " 1. 0. 0. 0. 0. 0. 0. 0. 0. 0. 0. 0. 0. 0. 0. 0. 0. 0. 0. 0. 0. 0. 0. 1.\n",
      " 0. 0. 0. 0. 0. 0. 0. 0. 0. 0. 0. 0. 0. 0. 0. 0. 0. 0. 0. 0. 0. 0. 0. 0.\n",
      " 0. 0. 1. 0.], shape=(100,), dtype=float32)\n"
     ]
    }
   ],
   "source": [
    "def get_datapool(segment):\n",
    "    # Make testing data sets\n",
    "    Xall = extract_features(training_data)\n",
    "    \n",
    "    # Create one training set\n",
    "    X1 = []\n",
    "    for i in range(100):\n",
    "        X1.append(Xall[i + segment * 100])\n",
    "    \n",
    "    tempX1 = X1.copy()\n",
    "    \n",
    "    # Create empty expected Y array to fill later\n",
    "    Y1 = np.empty_like(X1)\n",
    "    for i in range(len(Y1)):\n",
    "        Y1[i] = 0\n",
    "    \n",
    "    # Best ts_pct into Y1\n",
    "    cur = get_best(tempX1, 'ts_pct')\n",
    "    tempX1[cur] = make_empty(tempX1[cur]) # Prevent repeat\n",
    "    Y1[cur] = 1\n",
    "    \n",
    "    # Best reb into Y1\n",
    "    cur = get_best(tempX1, 'reb')\n",
    "    tempX1[cur] = make_empty(tempX1[cur]) # Prevent repeat\n",
    "    Y1[cur] = 1\n",
    "    \n",
    "    # Best dreb_pct into Y1\n",
    "    cur = get_best(tempX1, 'dreb_pct')\n",
    "    tempX1[cur] = make_empty(tempX1[cur]) # Prevent repeat\n",
    "    Y1[cur] = 1\n",
    "    \n",
    "    # Best rating into Y1\n",
    "    cur = get_best(tempX1, 'rating')\n",
    "    tempX1[cur] = make_empty(tempX1[cur]) # Prevent repeat\n",
    "    Y1[cur] = 1\n",
    "    \n",
    "    # Best ast into Y1\n",
    "    cur = get_best(tempX1, 'ast')\n",
    "    tempX1[cur] = make_empty(tempX1[cur]) # Prevent repeat\n",
    "    Y1[cur] = 1\n",
    "    \n",
    "    print()\n",
    "    print(\"tempX1\")\n",
    "    print(len(tempX1))\n",
    "    print(tempX1)\n",
    "    \n",
    "    Xval = []\n",
    "    for player in X1:\n",
    "        Xval.append(np.array([float(player['ts_pct']), float(player['reb']), float(player['dreb_pct']), float(player['rating']), float(player['ast'])]))\n",
    "        \n",
    "    print(Xval)\n",
    "    Xval = np.array(Xval)\n",
    "    Xval = tf.convert_to_tensor(Y1, dtype=tf.float32)\n",
    "    \n",
    "    Y1 = tf.convert_to_tensor(Y1, dtype=tf.float32)\n",
    "    \n",
    "    print()\n",
    "    print(\"Xval\")\n",
    "    print(len(Xval))\n",
    "    print(Xval)\n",
    "    \n",
    "    return X1, Xval, Y1 # return raw X (X1), processed X (Xval), and Y value (Y1\n",
    "\n",
    "_, X2, Y2 = get_datapool(1)\n",
    "\n",
    "print(\"X2\")\n",
    "print(len(X2))\n",
    "print(X2)\n",
    "print()\n",
    "print(\"Y2\")\n",
    "print(len(Y2))\n",
    "print(Y2)\n",
    "\n",
    "X_raw_train, X_train, y_train = get_datapool(1)\n",
    "X_raw_test, X_test, y_test = get_datapool(2)"
   ]
  },
  {
   "cell_type": "markdown",
   "metadata": {
    "collapsed": false
   },
   "source": [
    "## Train Model\n",
    "Now that we have the training data, we can train the model."
   ]
  },
  {
   "cell_type": "code",
   "execution_count": 199,
   "metadata": {
    "collapsed": false,
    "ExecuteTime": {
     "end_time": "2024-09-23T03:15:34.051618Z",
     "start_time": "2024-09-23T03:15:34.018449Z"
    }
   },
   "outputs": [
    {
     "ename": "IndexError",
     "evalue": "tuple index out of range",
     "output_type": "error",
     "traceback": [
      "\u001B[1;31m---------------------------------------------------------------------------\u001B[0m",
      "\u001B[1;31mIndexError\u001B[0m                                Traceback (most recent call last)",
      "Cell \u001B[1;32mIn[199], line 6\u001B[0m\n\u001B[0;32m      1\u001B[0m \u001B[38;5;66;03m# 3. Neural Network Model\u001B[39;00m\n\u001B[0;32m      2\u001B[0m model \u001B[38;5;241m=\u001B[39m tf\u001B[38;5;241m.\u001B[39mkeras\u001B[38;5;241m.\u001B[39mmodels\u001B[38;5;241m.\u001B[39mSequential([\n\u001B[0;32m      3\u001B[0m     \u001B[38;5;66;03m# Input Layer (implicitly present by specifying input_shape)\u001B[39;00m\n\u001B[0;32m      4\u001B[0m     \n\u001B[0;32m      5\u001B[0m     \u001B[38;5;66;03m# Hidden Layer 1\u001B[39;00m\n\u001B[1;32m----> 6\u001B[0m     tf\u001B[38;5;241m.\u001B[39mkeras\u001B[38;5;241m.\u001B[39mlayers\u001B[38;5;241m.\u001B[39mDense(\u001B[38;5;241m128\u001B[39m, activation\u001B[38;5;241m=\u001B[39m\u001B[38;5;124m'\u001B[39m\u001B[38;5;124mrelu\u001B[39m\u001B[38;5;124m'\u001B[39m, input_shape\u001B[38;5;241m=\u001B[39m(\u001B[43mX_train\u001B[49m\u001B[38;5;241;43m.\u001B[39;49m\u001B[43mshape\u001B[49m\u001B[43m[\u001B[49m\u001B[38;5;241;43m1\u001B[39;49m\u001B[43m]\u001B[49m,)),\n\u001B[0;32m      7\u001B[0m     \n\u001B[0;32m      8\u001B[0m     \u001B[38;5;66;03m# Hidden Layer 2\u001B[39;00m\n\u001B[0;32m      9\u001B[0m     tf\u001B[38;5;241m.\u001B[39mkeras\u001B[38;5;241m.\u001B[39mlayers\u001B[38;5;241m.\u001B[39mDense(\u001B[38;5;241m64\u001B[39m, activation\u001B[38;5;241m=\u001B[39m\u001B[38;5;124m'\u001B[39m\u001B[38;5;124mrelu\u001B[39m\u001B[38;5;124m'\u001B[39m),\n\u001B[0;32m     10\u001B[0m     \n\u001B[0;32m     11\u001B[0m     \u001B[38;5;66;03m# Output Layer\u001B[39;00m\n\u001B[0;32m     12\u001B[0m     tf\u001B[38;5;241m.\u001B[39mkeras\u001B[38;5;241m.\u001B[39mlayers\u001B[38;5;241m.\u001B[39mDense(\u001B[38;5;241m2\u001B[39m, activation\u001B[38;5;241m=\u001B[39m\u001B[38;5;124m'\u001B[39m\u001B[38;5;124msoftmax\u001B[39m\u001B[38;5;124m'\u001B[39m)  \u001B[38;5;66;03m# Two categories\u001B[39;00m\n\u001B[0;32m     13\u001B[0m ])\n\u001B[0;32m     15\u001B[0m \u001B[38;5;66;03m# 4. Compile the Model\u001B[39;00m\n\u001B[0;32m     16\u001B[0m model\u001B[38;5;241m.\u001B[39mcompile(optimizer\u001B[38;5;241m=\u001B[39m\u001B[38;5;124m'\u001B[39m\u001B[38;5;124madam\u001B[39m\u001B[38;5;124m'\u001B[39m, loss\u001B[38;5;241m=\u001B[39m\u001B[38;5;124m'\u001B[39m\u001B[38;5;124msparse_categorical_crossentropy\u001B[39m\u001B[38;5;124m'\u001B[39m, metrics\u001B[38;5;241m=\u001B[39m[\u001B[38;5;124m'\u001B[39m\u001B[38;5;124maccuracy\u001B[39m\u001B[38;5;124m'\u001B[39m])\n",
      "File \u001B[1;32m~\\AppData\\Local\\Programs\\Python\\Python312\\Lib\\site-packages\\tensorflow\\python\\framework\\tensor_shape.py:962\u001B[0m, in \u001B[0;36mTensorShape.__getitem__\u001B[1;34m(self, key)\u001B[0m\n\u001B[0;32m    960\u001B[0m \u001B[38;5;28;01melse\u001B[39;00m:\n\u001B[0;32m    961\u001B[0m   \u001B[38;5;28;01mif\u001B[39;00m \u001B[38;5;28mself\u001B[39m\u001B[38;5;241m.\u001B[39m_v2_behavior:\n\u001B[1;32m--> 962\u001B[0m     \u001B[38;5;28;01mreturn\u001B[39;00m \u001B[38;5;28;43mself\u001B[39;49m\u001B[38;5;241;43m.\u001B[39;49m\u001B[43m_dims\u001B[49m\u001B[43m[\u001B[49m\u001B[43mkey\u001B[49m\u001B[43m]\u001B[49m\n\u001B[0;32m    963\u001B[0m   \u001B[38;5;28;01melse\u001B[39;00m:\n\u001B[0;32m    964\u001B[0m     \u001B[38;5;28;01mreturn\u001B[39;00m \u001B[38;5;28mself\u001B[39m\u001B[38;5;241m.\u001B[39mdims[key]\n",
      "\u001B[1;31mIndexError\u001B[0m: tuple index out of range"
     ]
    }
   ],
   "source": [
    "# 3. Neural Network Model\n",
    "model = tf.keras.models.Sequential([\n",
    "    # Input Layer (implicitly present by specifying input_shape)\n",
    "    \n",
    "    # Hidden Layer 1\n",
    "    tf.keras.layers.Dense(128, activation='relu', input_shape=(X_train.shape[1],)),\n",
    "    \n",
    "    # Hidden Layer 2\n",
    "    tf.keras.layers.Dense(64, activation='relu'),\n",
    "    \n",
    "    # Output Layer\n",
    "    tf.keras.layers.Dense(2, activation='softmax')  # Two categories\n",
    "])\n",
    "\n",
    "# 4. Compile the Model\n",
    "model.compile(optimizer='adam', loss='sparse_categorical_crossentropy', metrics=['accuracy'])\n",
    "\n",
    "# 5. Train the Model\n",
    "model.fit(X_train, y_train, epochs=10, batch_size=32, validation_data=(X_test, y_test))\n"
   ]
  },
  {
   "cell_type": "markdown",
   "metadata": {},
   "source": [
    "## Explain your architecture and how the basketball player characteristics are used as inputs:\n",
    "\n",
    "1. Data Preparation:\n",
    "\n",
    "- Pool and Training Data:\n",
    "    - Separates data: \n",
    "        - `pool` holds 100 unique players (2019-2022) for potential future use.\n",
    "        - `training_data` stores up to 5000 players (2019-2022) for model training.\n",
    "\n",
    "2. Feature Extraction:\n",
    "\n",
    "- The `extract_features` function takes a list of players and creates a dictionary of features for each one. \n",
    "- These features include:\n",
    "    - Name (not used as input)\n",
    "    - True Shooting Percentage (ts_pct)\n",
    "    - Rebounds (reb)\n",
    "    - Defensive Rebound Percentage (dreb_pct)\n",
    "    - Net Rating (rating)\n",
    "    - Assists (ast)\n",
    "\n",
    "3. Simulating Data for Training:\n",
    "\n",
    "- The `simulate_data` function generates training data with labels indicating successful teams based on pre-defined criteria.\n",
    "- It takes a list of players (`sample`) and a number of simulations (`num_iter`).\n",
    "- Here's how player characteristics are used as inputs:\n",
    "    - Averages and percentiles are calculated for assists, shooting percentage, rebounds, and net rating from the `sample` data.\n",
    "    - Loops through `num_iter` simulations:\n",
    "        - Selects 5 random players.\n",
    "        - Extracts their features using `extract_features`.\n",
    "        - Assigns a label (0 or 1) based on the criteria defined above..\n",
    "\n",
    "4. Model Building and Training:\n",
    "\n",
    "TO-DO\n",
    "5. Evaluation:\n",
    "\n",
    "TO-DO\n"
   ]
  },
  {
   "cell_type": "markdown",
   "metadata": {},
   "source": [
    "## Interpret the output of your MLP in the context of selecting an optimal basketball team:\n",
    "\n",
    "This MLP is trained on the 'optimal' prediction, given the input features of the dataset-shooting percentage, rebounds, assists, and player ratings amongst others-a basketball lineup is optimal. These mentioned inputs provide key indications about player performance. The model will process it for a binary outcome; 1 stands for an optimum team, and 0 stands for a suboptimum team. It could be shown that the MLP model is currently trained to learn from historical data to understand whether a combination of players is strong or weak and thus provide insight into which lineups will perform likely perform.\n",
    "\n",
    "These could then inform the choice of an optimum basketball team, where the model shows which sets of players are statistically balanced in key performance metrics. The teams that are predicted as \"optimal\" will indicate that their set of players is effective, while those labeled \"suboptimal\" need adjustment. Coaches or team selectors would be able to play around with different mixes of players in order to fine-tune their strategy and ensure the team is great in a lot of aspects of the game: scoring, defense, teamwork, just to name a few.\n",
    "\n",
    "Besides the precision, recall is one of the metrics that signifies model reliability or accuracy. High accuracy means the model can discriminate between good and bad lineups well. While precision and recall give an indication of few false predictions or missing optimal teams, in the end, what an MLP model provides is a data-driven method of selection of the team so as to best ensure that the lineup chosen will perform better on the court."
   ]
  }
 ],
 "metadata": {
  "kernelspec": {
   "display_name": "Python 3",
   "language": "python",
   "name": "python3"
  },
  "language_info": {
   "codemirror_mode": {
    "name": "ipython",
    "version": 3
   },
   "file_extension": ".py",
   "mimetype": "text/x-python",
   "name": "python",
   "nbconvert_exporter": "python",
   "pygments_lexer": "ipython3",
   "version": "3.11.2"
  }
 },
 "nbformat": 4,
 "nbformat_minor": 2
}
