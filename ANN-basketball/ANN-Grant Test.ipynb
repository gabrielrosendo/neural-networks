{
 "cells": [
  {
   "cell_type": "markdown",
   "metadata": {},
   "source": [
    "Gabriel Marcelino, Grant Burk, and Eli Kaustinen\n",
    "September 2024\n",
    "Artificial Neural Network (ANN)"
   ]
  },
  {
   "cell_type": "markdown",
   "metadata": {},
   "source": [
    "## Import dependencies and load data"
   ]
  },
  {
   "cell_type": "code",
   "outputs": [
    {
     "name": "stdout",
     "output_type": "stream",
     "text": [
      "['C:\\\\Program Files\\\\JetBrains\\\\PyCharm 2023.3.3\\\\plugins\\\\python\\\\helpers-pro\\\\jupyter_debug', 'C:\\\\Program Files\\\\JetBrains\\\\PyCharm 2023.3.3\\\\plugins\\\\python\\\\helpers\\\\pydev', 'C:\\\\Users\\\\grant\\\\PycharmProjects\\\\neural-networks', 'C:\\\\Users\\\\grant\\\\AppData\\\\Local\\\\Programs\\\\Python\\\\Python312\\\\python312.zip', 'C:\\\\Users\\\\grant\\\\AppData\\\\Local\\\\Programs\\\\Python\\\\Python312\\\\DLLs', 'C:\\\\Users\\\\grant\\\\AppData\\\\Local\\\\Programs\\\\Python\\\\Python312\\\\Lib', 'C:\\\\Users\\\\grant\\\\AppData\\\\Local\\\\Programs\\\\Python\\\\Python312', '', 'C:\\\\Users\\\\grant\\\\AppData\\\\Local\\\\Programs\\\\Python\\\\Python312\\\\Lib\\\\site-packages', 'C:\\\\Users\\\\grant\\\\AppData\\\\Local\\\\Programs\\\\Python\\\\Python312\\\\Lib\\\\site-packages\\\\win32', 'C:\\\\Users\\\\grant\\\\AppData\\\\Local\\\\Programs\\\\Python\\\\Python312\\\\Lib\\\\site-packages\\\\win32\\\\lib', 'C:\\\\Users\\\\grant\\\\AppData\\\\Local\\\\Programs\\\\Python\\\\Python312\\\\Lib\\\\site-packages\\\\Pythonwin', 'C:\\\\Users\\\\grant\\\\AppData\\\\Local\\\\Programs\\\\Python\\\\Python312\\\\Lib\\\\site-packages\\\\setuptools\\\\_vendor']\n"
     ]
    }
   ],
   "source": [
    "import sys\n",
    "print(sys.path)\n"
   ],
   "metadata": {
    "collapsed": false,
    "ExecuteTime": {
     "end_time": "2024-09-22T23:46:11.815292Z",
     "start_time": "2024-09-22T23:46:11.811562Z"
    }
   },
   "execution_count": 106
  },
  {
   "cell_type": "code",
   "outputs": [],
   "source": [
    "import csv\n",
    "import random\n",
    "import numpy as np\n",
    "import pandas as pd\n",
    "from sklearn.model_selection import train_test_split\n",
    "from sklearn.metrics import accuracy_score\n",
    "\n",
    "pool = []\n",
    "training_data = []\n",
    "# create pool with players from 2019-2022\n",
    "with open('all_seasons.csv', mode = 'r') as file:\n",
    "    csvFile = csv.reader(file)\n",
    "    # ignore first line\n",
    "    next(csvFile)\n",
    "    for lines in csvFile:\n",
    "        training_data.append(lines)\n"
   ],
   "metadata": {
    "collapsed": false,
    "ExecuteTime": {
     "end_time": "2024-09-22T23:46:11.923667Z",
     "start_time": "2024-09-22T23:46:11.858651Z"
    }
   },
   "execution_count": 107
  },
  {
   "cell_type": "markdown",
   "source": [
    "## Optimal Team : Considerations\n",
    "For my optimal team, I will aim for:\n",
    "- 1 or more players in top 20% of shooting percentage.\n",
    "- Player in the top 5% out of the 100 for rebounds.\n",
    "- Player with a Defensive Rebound percentage bigger than 0.2\n",
    "- 3 or more players in top 20% of best net rating\n",
    "- 2 or more players with better than average assists"
   ],
   "metadata": {
    "collapsed": false
   }
  },
  {
   "cell_type": "code",
   "outputs": [],
   "source": [
    "def extract_features(player):\n",
    "    return {\n",
    "        'name': player[1],\n",
    "        'ts_pct': float(player[19]),\n",
    "        'reb': float(player[13]),\n",
    "        'dreb_pct': float(player[17]),\n",
    "        'rating': float(player[15]),\n",
    "        'ast': float(player[14])\n",
    "    }\n"
   ],
   "metadata": {
    "collapsed": false,
    "ExecuteTime": {
     "end_time": "2024-09-22T23:46:11.930490Z",
     "start_time": "2024-09-22T23:46:11.925673Z"
    }
   },
   "execution_count": 108
  },
  {
   "cell_type": "code",
   "outputs": [],
   "source": [
    "def team_score(team):\n",
    "    ts_pct = np.mean([player['ts_pct'] for player in team])\n",
    "    reb = np.sum([player['reb'] for player in team])\n",
    "    dreb_pct = np.max([player['dreb_pct'] for player in team])\n",
    "    rating = np.mean([player['rating'] for player in team])\n",
    "    ast = np.sum([player['ast'] for player in team])\n",
    "    # For my optimal team, the most important features are\n",
    "    # 1. True shooting percentage\n",
    "    # 2. Defensive rebound percentage\n",
    "    # 3. Rating\n",
    "    # 4. Assists/Rebounds\n",
    "    score = (ts_pct * 20 + reb * 0.5 + dreb_pct * 10 + rating + ast * 0.5) / 5\n",
    "    return score\n",
    "\n",
    "def select_optimal_team(pool, team_size=5):\n",
    "    player_features = [extract_features(player) for player in pool]\n",
    "    \n",
    "    best_team = None\n",
    "    best_score = -float('inf')\n",
    "\n",
    "    # Use a heuristic to find a good solution\n",
    "    for _ in range(1000):  # Number of iterations\n",
    "        team = random.sample(player_features, team_size)\n",
    "        score = team_score(team)\n",
    "        if score > best_score:\n",
    "            best_score = score\n",
    "            best_team = team\n",
    "\n",
    "    return best_team, best_score\n",
    "\n",
    "\n",
    "\n"
   ],
   "metadata": {
    "collapsed": false,
    "ExecuteTime": {
     "end_time": "2024-09-22T23:46:11.951439Z",
     "start_time": "2024-09-22T23:46:11.939938Z"
    }
   },
   "execution_count": 109
  },
  {
   "cell_type": "markdown",
   "source": [
    "## Model"
   ],
   "metadata": {
    "collapsed": false
   }
  },
  {
   "cell_type": "code",
   "outputs": [],
   "source": [
    "def extract_features(pool):\n",
    "    features_list = []\n",
    "    for player in pool:\n",
    "        # extract relevant features based on considerations above\n",
    "        features = {\n",
    "            'name': player[1],\n",
    "            'ts_pct': player[19],\n",
    "            'reb': player[13],\n",
    "            'dreb_pct': player[17],\n",
    "            'rating': player[15],\n",
    "            'ast': player[14]\n",
    "        }\n",
    "        features_list.append(features)\n",
    "    return features_list\n"
   ],
   "metadata": {
    "collapsed": false,
    "ExecuteTime": {
     "end_time": "2024-09-22T23:46:11.959503Z",
     "start_time": "2024-09-22T23:46:11.954171Z"
    }
   },
   "execution_count": 110
  },
  {
   "cell_type": "markdown",
   "source": [
    "## Simulate Training Data to train model"
   ],
   "metadata": {
    "collapsed": false
   }
  },
  {
   "cell_type": "code",
   "outputs": [],
   "source": [
    "def make_empty(player):\n",
    "    player['ts_pct'] = 0\n",
    "    player['reb'] = 0\n",
    "    player['dreb_pct'] = 0\n",
    "    player['rating'] = 0\n",
    "    player['ast'] = 0\n",
    "    return player"
   ],
   "metadata": {
    "collapsed": false,
    "ExecuteTime": {
     "end_time": "2024-09-22T23:46:11.966589Z",
     "start_time": "2024-09-22T23:46:11.961873Z"
    }
   },
   "execution_count": 111
  },
  {
   "cell_type": "markdown",
   "source": [
    "# Get Best Player for Category"
   ],
   "metadata": {
    "collapsed": false
   }
  },
  {
   "cell_type": "code",
   "outputs": [],
   "source": [
    "def get_best(players, category):\n",
    "    best_index = 0\n",
    "    for cur in range(len(players)):\n",
    "        if float(players[cur][category]) > float(players[best_index][category]):\n",
    "            best_index = cur\n",
    "    return best_index"
   ],
   "metadata": {
    "collapsed": false,
    "ExecuteTime": {
     "end_time": "2024-09-22T23:46:11.985252Z",
     "start_time": "2024-09-22T23:46:11.981483Z"
    }
   },
   "execution_count": 112
  },
  {
   "cell_type": "markdown",
   "source": [
    "# Pre Process the data"
   ],
   "metadata": {
    "collapsed": false
   }
  },
  {
   "cell_type": "code",
   "outputs": [
    {
     "name": "stdout",
     "output_type": "stream",
     "text": [
      "\n",
      "tempX1\n",
      "100\n",
      "[{'name': 'Chris Mills', 'ts_pct': '0.544', 'reb': '6.2', 'dreb_pct': '0.157', 'rating': '4.5', 'ast': '2.5'}, {'name': 'Chris Morris', 'ts_pct': '0.486', 'reb': '2.2', 'dreb_pct': '0.155', 'rating': '-7.3', 'ast': '0.6'}, {'name': 'Chris Mullin', 'ts_pct': 0, 'reb': 0, 'dreb_pct': 0, 'rating': 0, 'ast': 0}, {'name': 'Chris Robinson', 'ts_pct': '0.486', 'reb': '1.7', 'dreb_pct': '0.08800000000000001', 'rating': '-11.4', 'ast': '1.6'}, {'name': 'Chris Webber', 'ts_pct': '0.5539999999999999', 'reb': '10.3', 'dreb_pct': '0.207', 'rating': '3.4', 'ast': '4.6'}, {'name': 'Chris Whitney', 'ts_pct': '0.5660000000000001', 'reb': '1.3', 'dreb_pct': '0.09300000000000001', 'rating': '2.0', 'ast': '2.2'}, {'name': 'Christian Laettner', 'ts_pct': '0.562', 'reb': '8.8', 'dreb_pct': '0.18600000000000003', 'rating': '11.0', 'ast': '2.7'}, {'name': 'Chucky Brown', 'ts_pct': '0.552', 'reb': '2.1', 'dreb_pct': '0.177', 'rating': '-5.9', 'ast': '0.4'}, {'name': 'Chris Gatling', 'ts_pct': '0.58', 'reb': '7.9', 'dreb_pct': '0.21600000000000003', 'rating': '-4.1', 'ast': '0.6'}, {'name': 'Clar. Weatherspoon', 'ts_pct': '0.537', 'reb': '8.3', 'dreb_pct': '0.172', 'rating': '-8.3', 'ast': '1.7'}, {'name': 'Clifford Rozier', 'ts_pct': '0.47100000000000003', 'reb': '5.6', 'dreb_pct': '0.223', 'rating': '-6.3', 'ast': '0.7'}, {'name': 'Clyde Drexler', 'ts_pct': '0.5479999999999999', 'reb': '6.0', 'dreb_pct': '0.122', 'rating': '7.5', 'ast': '5.7'}, {'name': 'Corie Blount', 'ts_pct': '0.5589999999999999', 'reb': '4.8', 'dreb_pct': '0.182', 'rating': '2.0', 'ast': '0.6'}, {'name': 'Corliss Williamson', 'ts_pct': '0.535', 'reb': '4.1', 'dreb_pct': '0.11199999999999999', 'rating': '-4.2', 'ast': '1.6'}, {'name': 'Cory Alexander', 'ts_pct': '0.528', 'reb': '1.5', 'dreb_pct': '0.081', 'rating': '-8.8', 'ast': '3.2'}, {'name': 'Craig Ehlo', 'ts_pct': '0.41200000000000003', 'reb': '1.8', 'dreb_pct': '0.107', 'rating': '5.7', 'ast': '1.1'}, {'name': 'Cuonzo Martin', 'ts_pct': '0.0', 'reb': '0.3', 'dreb_pct': '0.0', 'rating': '-12.1', 'ast': '0.3'}, {'name': 'Dale Davis', 'ts_pct': '0.532', 'reb': '9.7', 'dreb_pct': '0.215', 'rating': '-0.2', 'ast': '0.7'}, {'name': 'Dale Ellis', 'ts_pct': '0.537', 'reb': '3.6', 'dreb_pct': '0.07400000000000001', 'rating': '-9.1', 'ast': '2.0'}, {'name': 'Clifford Robinson', 'ts_pct': '0.519', 'reb': '4.0', 'dreb_pct': '0.08800000000000001', 'rating': '4.4', 'ast': '3.2'}, {'name': 'Chris Dudley', 'ts_pct': '0.449', 'reb': '7.3', 'dreb_pct': '0.249', 'rating': '-0.2', 'ast': '0.5'}, {'name': 'Chris Childs', 'ts_pct': '0.526', 'reb': '2.9', 'dreb_pct': '0.094', 'rating': '5.2', 'ast': '6.1'}, {'name': 'Chris Carr', 'ts_pct': '0.5579999999999999', 'reb': '2.1', 'dreb_pct': '0.11599999999999999', 'rating': '3.8', 'ast': '0.9'}, {'name': 'Brian Evans', 'ts_pct': '0.455', 'reb': '0.6', 'dreb_pct': '0.121', 'rating': '-12.5', 'ast': '0.5'}, {'name': 'Brian Grant', 'ts_pct': '0.511', 'reb': '5.9', 'dreb_pct': '0.185', 'rating': '-7.7', 'ast': '1.2'}, {'name': 'Brian Shaw', 'ts_pct': '0.478', 'reb': '2.5', 'dreb_pct': '0.095', 'rating': '-10.5', 'ast': '4.1'}, {'name': 'Brooks Thompson', 'ts_pct': '0.526', 'reb': '1.4', 'dreb_pct': '0.087', 'rating': '-6.2', 'ast': '2.7'}, {'name': 'Bruce Bowen', 'ts_pct': '0.0', 'reb': '0.0', 'dreb_pct': '0.0', 'rating': '300.0', 'ast': '0.0'}, {'name': 'Bryant Reeves', 'ts_pct': '0.523', 'reb': '8.1', 'dreb_pct': '0.185', 'rating': '-10.6', 'ast': '2.1'}, {'name': 'Bryant Stith', 'ts_pct': '0.5479999999999999', 'reb': '4.2', 'dreb_pct': '0.09', 'rating': '-5.6', 'ast': '2.6'}, {'name': 'Bryon Russell', 'ts_pct': '0.6', 'reb': '4.1', 'dreb_pct': '0.11800000000000001', 'rating': '13.5', 'ast': '1.5'}, {'name': 'Buck Williams', 'ts_pct': '0.574', 'reb': '5.4', 'dreb_pct': '0.184', 'rating': '6.9', 'ast': '0.7'}, {'name': 'Byron Scott', 'ts_pct': '0.59', 'reb': '1.5', 'dreb_pct': '0.075', 'rating': '6.7', 'ast': '1.3'}, {'name': 'Calbert Cheaney', 'ts_pct': '0.53', 'reb': '3.4', 'dreb_pct': '0.095', 'rating': '2.0', 'ast': '1.4'}, {'name': 'Carl Herrera', 'ts_pct': '0.46299999999999997', 'reb': '4.5', 'dreb_pct': '0.151', 'rating': '-9.7', 'ast': '0.7'}, {'name': 'Carl Thomas', 'ts_pct': '0.43', 'reb': '0.7', 'dreb_pct': '0.152', 'rating': '-8.9', 'ast': '0.4'}, {'name': 'Carlos Rogers', 'ts_pct': '0.575', 'reb': '5.4', 'dreb_pct': '0.154', 'rating': '-5.7', 'ast': '0.7'}, {'name': 'Cedric Ceballos', 'ts_pct': '0.522', 'reb': '6.6', 'dreb_pct': '0.18100000000000002', 'rating': '4.1', 'ast': '1.3'}, {'name': 'Charles Barkley', 'ts_pct': '0.581', 'reb': '13.5', 'dreb_pct': '0.28', 'rating': '7.5', 'ast': '4.7'}, {'name': 'Charles Jones', 'ts_pct': '0.4', 'reb': '1.1', 'dreb_pct': '0.10300000000000001', 'rating': '2.6', 'ast': '0.3'}, {'name': 'Charles Oakley', 'ts_pct': '0.545', 'reb': '9.8', 'dreb_pct': '0.218', 'rating': '3.4', 'ast': '2.8'}, {'name': 'Charles Smith', 'ts_pct': '0.461', 'reb': '3.4', 'dreb_pct': '0.179', 'rating': '-4.9', 'ast': '0.7'}, {'name': 'Charlie Ward', 'ts_pct': '0.522', 'reb': '2.8', 'dreb_pct': '0.11599999999999999', 'rating': '4.0', 'ast': '4.1'}, {'name': 'Cherokee Parks', 'ts_pct': '0.535', 'reb': '2.6', 'dreb_pct': '0.135', 'rating': '-0.6', 'ast': '0.4'}, {'name': 'Damon Stoudamire', 'ts_pct': '0.516', 'reb': '4.1', 'dreb_pct': '0.09', 'rating': '-3.7', 'ast': '8.8'}, {'name': 'Dan Majerle', 'ts_pct': '0.523', 'reb': '4.5', 'dreb_pct': '0.111', 'rating': '4.7', 'ast': '3.2'}, {'name': 'Dan Schayes', 'ts_pct': '0.465', 'reb': '2.8', 'dreb_pct': '0.183', 'rating': '-1.5', 'ast': '0.3'}, {'name': 'Dana Barros', 'ts_pct': '0.552', 'reb': '2.0', 'dreb_pct': '0.07400000000000001', 'rating': '-10.0', 'ast': '3.4'}, {'name': 'Dexter Boney', 'ts_pct': '0.42200000000000004', 'reb': '0.8', 'dreb_pct': '0.071', 'rating': '-19.6', 'ast': '0.0'}, {'name': 'Dickey Simpkins', 'ts_pct': '0.41100000000000003', 'reb': '1.9', 'dreb_pct': '0.151', 'rating': '-0.9', 'ast': '0.6'}, {'name': 'Dikembe Mutombo', 'ts_pct': '0.584', 'reb': '11.6', 'dreb_pct': '0.256', 'rating': '8.1', 'ast': '1.4'}, {'name': 'Dino Radja', 'ts_pct': '0.47100000000000003', 'reb': '8.4', 'dreb_pct': '0.217', 'rating': '-3.3', 'ast': '1.9'}, {'name': 'Dominique Wilkins', 'ts_pct': '0.517', 'reb': '6.4', 'dreb_pct': '0.154', 'rating': '-10.3', 'ast': '1.9'}, {'name': 'Don MacLean', 'ts_pct': '0.493', 'reb': '3.8', 'dreb_pct': '0.152', 'rating': '-5.9', 'ast': '1.0'}, {'name': 'Don Reid', 'ts_pct': '0.523', 'reb': '2.1', 'dreb_pct': '0.159', 'rating': '-1.5', 'ast': '0.3'}, {'name': 'Donald Royal', 'ts_pct': '0.552', 'reb': '2.5', 'dreb_pct': '0.13699999999999998', 'rating': '-4.6', 'ast': '0.4'}, {'name': 'Donald Whiteside', 'ts_pct': '0.479', 'reb': '0.4', 'dreb_pct': '0.046', 'rating': '-12.4', 'ast': '1.3'}, {'name': 'Donnie Boyce', 'ts_pct': '0.37799999999999995', 'reb': '0.7', 'dreb_pct': '0.059000000000000004', 'rating': '-10.3', 'ast': '0.6'}, {'name': 'Donny Marshall', 'ts_pct': '0.47600000000000003', 'reb': '1.3', 'dreb_pct': '0.11800000000000001', 'rating': '-8.7', 'ast': '0.4'}, {'name': 'Dontonio Wingfield', 'ts_pct': '0.501', 'reb': '2.9', 'dreb_pct': '0.14400000000000002', 'rating': '1.3', 'ast': '1.0'}, {'name': 'Donyell Marshall', 'ts_pct': '0.478', 'reb': '4.5', 'dreb_pct': '0.21', 'rating': '-8.6', 'ast': '0.9'}, {'name': 'Doug Christie', 'ts_pct': '0.5429999999999999', 'reb': '5.3', 'dreb_pct': '0.135', 'rating': '-2.6', 'ast': '3.9'}, {'name': 'Doug Overton', 'ts_pct': '0.514', 'reb': '1.1', 'dreb_pct': '0.085', 'rating': '-1.3', 'ast': '1.7'}, {'name': 'Doug West', 'ts_pct': '0.505', 'reb': '2.2', 'dreb_pct': '0.07', 'rating': '-3.1', 'ast': '1.7'}, {'name': 'Duane Causwell', 'ts_pct': '0.535', 'reb': '2.8', 'dreb_pct': '0.14300000000000002', 'rating': '-11.8', 'ast': '0.4'}, {'name': 'Duane Ferrell', 'ts_pct': '0.521', 'reb': '2.3', 'dreb_pct': '0.091', 'rating': '2.3', 'ast': '1.1'}, {'name': 'Dwayne Schintzius', 'ts_pct': '0.43', 'reb': '1.5', 'dreb_pct': '0.151', 'rating': '12.3', 'ast': '0.3'}, {'name': 'Earl Cureton', 'ts_pct': '0.376', 'reb': '1.0', 'dreb_pct': '0.102', 'rating': '-2.1', 'ast': '0.4'}, {'name': \"Ed O'Bannon\", 'ts_pct': '0.39899999999999997', 'reb': '2.3', 'dreb_pct': '0.149', 'rating': '-8.7', 'ast': '0.6'}, {'name': 'Devin Gray', 'ts_pct': '0.319', 'reb': '2.3', 'dreb_pct': '0.25', 'rating': '-42.1', 'ast': '0.3'}, {'name': 'Jud Buechler', 'ts_pct': '0.423', 'reb': '1.7', 'dreb_pct': '0.121', 'rating': '5.4', 'ast': '0.8'}, {'name': 'Detlef Schrempf', 'ts_pct': '0.5920000000000001', 'reb': '6.5', 'dreb_pct': '0.166', 'rating': '12.2', 'ast': '4.4'}, {'name': 'Derrick Coleman', 'ts_pct': '0.518', 'reb': '10.1', 'dreb_pct': '0.225', 'rating': '-5.4', 'ast': '3.4'}, {'name': 'Danny Ferry', 'ts_pct': '0.523', 'reb': '4.1', 'dreb_pct': '0.134', 'rating': '2.3', 'ast': '1.8'}, {'name': 'Danny Manning', 'ts_pct': '0.574', 'reb': '6.1', 'dreb_pct': '0.184', 'rating': '3.1', 'ast': '2.2'}, {'name': 'Darrell Armstrong', 'ts_pct': '0.525', 'reb': '1.1', 'dreb_pct': '0.05', 'rating': '0.3', 'ast': '2.6'}, {'name': 'Darrick Martin', 'ts_pct': '0.539', 'reb': '1.4', 'dreb_pct': '0.06', 'rating': '-4.5', 'ast': '4.1'}, {'name': 'Darrin Hancock', 'ts_pct': '0.51', 'reb': '0.8', 'dreb_pct': '0.11800000000000001', 'rating': '-2.6', 'ast': '0.5'}, {'name': 'Darvin Ham', 'ts_pct': '0.536', 'reb': '1.6', 'dreb_pct': '0.09699999999999999', 'rating': '-2.0', 'ast': '0.4'}, {'name': 'David Robinson', 'ts_pct': '0.5589999999999999', 'reb': '8.5', 'dreb_pct': '0.237', 'rating': '9.6', 'ast': '1.3'}, {'name': 'David Vaughn', 'ts_pct': '0.475', 'reb': '2.7', 'dreb_pct': '0.21600000000000003', 'rating': '-7.5', 'ast': '0.2'}, {'name': 'David Wesley', 'ts_pct': '0.563', 'reb': '3.6', 'dreb_pct': '0.084', 'rating': '-7.4', 'ast': '7.3'}, {'name': 'David Wingate', 'ts_pct': '0.509', 'reb': '1.1', 'dreb_pct': '0.069', 'rating': '2.8', 'ast': '1.2'}, {'name': 'David Wood', 'ts_pct': '0.621', 'reb': '0.6', 'dreb_pct': '0.128', 'rating': '3.9', 'ast': '0.3'}, {'name': 'Dean Garrett', 'ts_pct': '0.603', 'reb': '7.3', 'dreb_pct': '0.247', 'rating': '1.2', 'ast': '0.6'}, {'name': 'Dee Brown', 'ts_pct': '0.455', 'reb': '2.3', 'dreb_pct': '0.095', 'rating': '-7.5', 'ast': '3.2'}, {'name': 'Dell Curry', 'ts_pct': '0.562', 'reb': '3.1', 'dreb_pct': '0.098', 'rating': '1.6', 'ast': '1.7'}, {'name': 'Dell Demps', 'ts_pct': '0.258', 'reb': '0.0', 'dreb_pct': '0.0', 'rating': '-53.7', 'ast': '0.0'}, {'name': 'Dennis Rodman', 'ts_pct': '0.479', 'reb': '16.1', 'dreb_pct': '0.32299999999999995', 'rating': '16.1', 'ast': '3.1'}, {'name': 'Dennis Scott', 'ts_pct': '0.519', 'reb': '3.1', 'dreb_pct': '0.092', 'rating': '1.9', 'ast': '2.1'}, {'name': 'Derek Fisher', 'ts_pct': '0.491', 'reb': '1.2', 'dreb_pct': '0.087', 'rating': '5.1', 'ast': '1.5'}, {'name': 'Derek Harper', 'ts_pct': '0.516', 'reb': '1.8', 'dreb_pct': '0.057', 'rating': '-7.7', 'ast': '4.3'}, {'name': 'Derek Strong', 'ts_pct': '0.513', 'reb': '6.3', 'dreb_pct': '0.20800000000000002', 'rating': '-0.7', 'ast': '0.9'}, {'name': 'Derrick Alston', 'ts_pct': '0.0', 'reb': '2.0', 'dreb_pct': '0.2', 'rating': '-39.9', 'ast': '0.0'}, {'name': 'Derrick McKey', 'ts_pct': '0.462', 'reb': '4.8', 'dreb_pct': '0.127', 'rating': '-0.2', 'ast': '2.7'}, {'name': 'Brett Szabo', 'ts_pct': '0.517', 'reb': '2.4', 'dreb_pct': '0.196', 'rating': '-11.1', 'ast': '0.2'}, {'name': 'Juwan Howard', 'ts_pct': '0.529', 'reb': '8.0', 'dreb_pct': '0.156', 'rating': '1.3', 'ast': '3.8'}, {'name': 'Keith Askins', 'ts_pct': '0.557', 'reb': '3.5', 'dreb_pct': '0.127', 'rating': '6.1', 'ast': '1.0'}, {'name': 'Scott Burrell', 'ts_pct': '0.485', 'reb': '2.8', 'dreb_pct': '0.134', 'rating': '1.4', 'ast': '1.3'}, {'name': 'Scott Williams', 'ts_pct': '0.529', 'reb': '6.4', 'dreb_pct': '0.205', 'rating': '-4.6', 'ast': '0.7'}]\n",
      "\n",
      "tempX1\n",
      "100\n",
      "[{'name': 'Chris Mills', 'ts_pct': '0.544', 'reb': '6.2', 'dreb_pct': '0.157', 'rating': '4.5', 'ast': '2.5'}, {'name': 'Chris Morris', 'ts_pct': '0.486', 'reb': '2.2', 'dreb_pct': '0.155', 'rating': '-7.3', 'ast': '0.6'}, {'name': 'Chris Mullin', 'ts_pct': 0, 'reb': 0, 'dreb_pct': 0, 'rating': 0, 'ast': 0}, {'name': 'Chris Robinson', 'ts_pct': '0.486', 'reb': '1.7', 'dreb_pct': '0.08800000000000001', 'rating': '-11.4', 'ast': '1.6'}, {'name': 'Chris Webber', 'ts_pct': '0.5539999999999999', 'reb': '10.3', 'dreb_pct': '0.207', 'rating': '3.4', 'ast': '4.6'}, {'name': 'Chris Whitney', 'ts_pct': '0.5660000000000001', 'reb': '1.3', 'dreb_pct': '0.09300000000000001', 'rating': '2.0', 'ast': '2.2'}, {'name': 'Christian Laettner', 'ts_pct': '0.562', 'reb': '8.8', 'dreb_pct': '0.18600000000000003', 'rating': '11.0', 'ast': '2.7'}, {'name': 'Chucky Brown', 'ts_pct': '0.552', 'reb': '2.1', 'dreb_pct': '0.177', 'rating': '-5.9', 'ast': '0.4'}, {'name': 'Chris Gatling', 'ts_pct': '0.58', 'reb': '7.9', 'dreb_pct': '0.21600000000000003', 'rating': '-4.1', 'ast': '0.6'}, {'name': 'Clar. Weatherspoon', 'ts_pct': '0.537', 'reb': '8.3', 'dreb_pct': '0.172', 'rating': '-8.3', 'ast': '1.7'}, {'name': 'Clifford Rozier', 'ts_pct': '0.47100000000000003', 'reb': '5.6', 'dreb_pct': '0.223', 'rating': '-6.3', 'ast': '0.7'}, {'name': 'Clyde Drexler', 'ts_pct': '0.5479999999999999', 'reb': '6.0', 'dreb_pct': '0.122', 'rating': '7.5', 'ast': '5.7'}, {'name': 'Corie Blount', 'ts_pct': '0.5589999999999999', 'reb': '4.8', 'dreb_pct': '0.182', 'rating': '2.0', 'ast': '0.6'}, {'name': 'Corliss Williamson', 'ts_pct': '0.535', 'reb': '4.1', 'dreb_pct': '0.11199999999999999', 'rating': '-4.2', 'ast': '1.6'}, {'name': 'Cory Alexander', 'ts_pct': '0.528', 'reb': '1.5', 'dreb_pct': '0.081', 'rating': '-8.8', 'ast': '3.2'}, {'name': 'Craig Ehlo', 'ts_pct': '0.41200000000000003', 'reb': '1.8', 'dreb_pct': '0.107', 'rating': '5.7', 'ast': '1.1'}, {'name': 'Cuonzo Martin', 'ts_pct': '0.0', 'reb': '0.3', 'dreb_pct': '0.0', 'rating': '-12.1', 'ast': '0.3'}, {'name': 'Dale Davis', 'ts_pct': '0.532', 'reb': '9.7', 'dreb_pct': '0.215', 'rating': '-0.2', 'ast': '0.7'}, {'name': 'Dale Ellis', 'ts_pct': '0.537', 'reb': '3.6', 'dreb_pct': '0.07400000000000001', 'rating': '-9.1', 'ast': '2.0'}, {'name': 'Clifford Robinson', 'ts_pct': '0.519', 'reb': '4.0', 'dreb_pct': '0.08800000000000001', 'rating': '4.4', 'ast': '3.2'}, {'name': 'Chris Dudley', 'ts_pct': '0.449', 'reb': '7.3', 'dreb_pct': '0.249', 'rating': '-0.2', 'ast': '0.5'}, {'name': 'Chris Childs', 'ts_pct': '0.526', 'reb': '2.9', 'dreb_pct': '0.094', 'rating': '5.2', 'ast': '6.1'}, {'name': 'Chris Carr', 'ts_pct': '0.5579999999999999', 'reb': '2.1', 'dreb_pct': '0.11599999999999999', 'rating': '3.8', 'ast': '0.9'}, {'name': 'Brian Evans', 'ts_pct': '0.455', 'reb': '0.6', 'dreb_pct': '0.121', 'rating': '-12.5', 'ast': '0.5'}, {'name': 'Brian Grant', 'ts_pct': '0.511', 'reb': '5.9', 'dreb_pct': '0.185', 'rating': '-7.7', 'ast': '1.2'}, {'name': 'Brian Shaw', 'ts_pct': '0.478', 'reb': '2.5', 'dreb_pct': '0.095', 'rating': '-10.5', 'ast': '4.1'}, {'name': 'Brooks Thompson', 'ts_pct': '0.526', 'reb': '1.4', 'dreb_pct': '0.087', 'rating': '-6.2', 'ast': '2.7'}, {'name': 'Bruce Bowen', 'ts_pct': 0, 'reb': 0, 'dreb_pct': 0, 'rating': 0, 'ast': 0}, {'name': 'Bryant Reeves', 'ts_pct': '0.523', 'reb': '8.1', 'dreb_pct': '0.185', 'rating': '-10.6', 'ast': '2.1'}, {'name': 'Bryant Stith', 'ts_pct': '0.5479999999999999', 'reb': '4.2', 'dreb_pct': '0.09', 'rating': '-5.6', 'ast': '2.6'}, {'name': 'Bryon Russell', 'ts_pct': '0.6', 'reb': '4.1', 'dreb_pct': '0.11800000000000001', 'rating': '13.5', 'ast': '1.5'}, {'name': 'Buck Williams', 'ts_pct': '0.574', 'reb': '5.4', 'dreb_pct': '0.184', 'rating': '6.9', 'ast': '0.7'}, {'name': 'Byron Scott', 'ts_pct': '0.59', 'reb': '1.5', 'dreb_pct': '0.075', 'rating': '6.7', 'ast': '1.3'}, {'name': 'Calbert Cheaney', 'ts_pct': '0.53', 'reb': '3.4', 'dreb_pct': '0.095', 'rating': '2.0', 'ast': '1.4'}, {'name': 'Carl Herrera', 'ts_pct': '0.46299999999999997', 'reb': '4.5', 'dreb_pct': '0.151', 'rating': '-9.7', 'ast': '0.7'}, {'name': 'Carl Thomas', 'ts_pct': '0.43', 'reb': '0.7', 'dreb_pct': '0.152', 'rating': '-8.9', 'ast': '0.4'}, {'name': 'Carlos Rogers', 'ts_pct': '0.575', 'reb': '5.4', 'dreb_pct': '0.154', 'rating': '-5.7', 'ast': '0.7'}, {'name': 'Cedric Ceballos', 'ts_pct': '0.522', 'reb': '6.6', 'dreb_pct': '0.18100000000000002', 'rating': '4.1', 'ast': '1.3'}, {'name': 'Charles Barkley', 'ts_pct': 0, 'reb': 0, 'dreb_pct': 0, 'rating': 0, 'ast': 0}, {'name': 'Charles Jones', 'ts_pct': '0.4', 'reb': '1.1', 'dreb_pct': '0.10300000000000001', 'rating': '2.6', 'ast': '0.3'}, {'name': 'Charles Oakley', 'ts_pct': '0.545', 'reb': '9.8', 'dreb_pct': '0.218', 'rating': '3.4', 'ast': '2.8'}, {'name': 'Charles Smith', 'ts_pct': '0.461', 'reb': '3.4', 'dreb_pct': '0.179', 'rating': '-4.9', 'ast': '0.7'}, {'name': 'Charlie Ward', 'ts_pct': '0.522', 'reb': '2.8', 'dreb_pct': '0.11599999999999999', 'rating': '4.0', 'ast': '4.1'}, {'name': 'Cherokee Parks', 'ts_pct': '0.535', 'reb': '2.6', 'dreb_pct': '0.135', 'rating': '-0.6', 'ast': '0.4'}, {'name': 'Damon Stoudamire', 'ts_pct': 0, 'reb': 0, 'dreb_pct': 0, 'rating': 0, 'ast': 0}, {'name': 'Dan Majerle', 'ts_pct': '0.523', 'reb': '4.5', 'dreb_pct': '0.111', 'rating': '4.7', 'ast': '3.2'}, {'name': 'Dan Schayes', 'ts_pct': '0.465', 'reb': '2.8', 'dreb_pct': '0.183', 'rating': '-1.5', 'ast': '0.3'}, {'name': 'Dana Barros', 'ts_pct': '0.552', 'reb': '2.0', 'dreb_pct': '0.07400000000000001', 'rating': '-10.0', 'ast': '3.4'}, {'name': 'Dexter Boney', 'ts_pct': '0.42200000000000004', 'reb': '0.8', 'dreb_pct': '0.071', 'rating': '-19.6', 'ast': '0.0'}, {'name': 'Dickey Simpkins', 'ts_pct': '0.41100000000000003', 'reb': '1.9', 'dreb_pct': '0.151', 'rating': '-0.9', 'ast': '0.6'}, {'name': 'Dikembe Mutombo', 'ts_pct': '0.584', 'reb': '11.6', 'dreb_pct': '0.256', 'rating': '8.1', 'ast': '1.4'}, {'name': 'Dino Radja', 'ts_pct': '0.47100000000000003', 'reb': '8.4', 'dreb_pct': '0.217', 'rating': '-3.3', 'ast': '1.9'}, {'name': 'Dominique Wilkins', 'ts_pct': '0.517', 'reb': '6.4', 'dreb_pct': '0.154', 'rating': '-10.3', 'ast': '1.9'}, {'name': 'Don MacLean', 'ts_pct': '0.493', 'reb': '3.8', 'dreb_pct': '0.152', 'rating': '-5.9', 'ast': '1.0'}, {'name': 'Don Reid', 'ts_pct': '0.523', 'reb': '2.1', 'dreb_pct': '0.159', 'rating': '-1.5', 'ast': '0.3'}, {'name': 'Donald Royal', 'ts_pct': '0.552', 'reb': '2.5', 'dreb_pct': '0.13699999999999998', 'rating': '-4.6', 'ast': '0.4'}, {'name': 'Donald Whiteside', 'ts_pct': '0.479', 'reb': '0.4', 'dreb_pct': '0.046', 'rating': '-12.4', 'ast': '1.3'}, {'name': 'Donnie Boyce', 'ts_pct': '0.37799999999999995', 'reb': '0.7', 'dreb_pct': '0.059000000000000004', 'rating': '-10.3', 'ast': '0.6'}, {'name': 'Donny Marshall', 'ts_pct': '0.47600000000000003', 'reb': '1.3', 'dreb_pct': '0.11800000000000001', 'rating': '-8.7', 'ast': '0.4'}, {'name': 'Dontonio Wingfield', 'ts_pct': '0.501', 'reb': '2.9', 'dreb_pct': '0.14400000000000002', 'rating': '1.3', 'ast': '1.0'}, {'name': 'Donyell Marshall', 'ts_pct': '0.478', 'reb': '4.5', 'dreb_pct': '0.21', 'rating': '-8.6', 'ast': '0.9'}, {'name': 'Doug Christie', 'ts_pct': '0.5429999999999999', 'reb': '5.3', 'dreb_pct': '0.135', 'rating': '-2.6', 'ast': '3.9'}, {'name': 'Doug Overton', 'ts_pct': '0.514', 'reb': '1.1', 'dreb_pct': '0.085', 'rating': '-1.3', 'ast': '1.7'}, {'name': 'Doug West', 'ts_pct': '0.505', 'reb': '2.2', 'dreb_pct': '0.07', 'rating': '-3.1', 'ast': '1.7'}, {'name': 'Duane Causwell', 'ts_pct': '0.535', 'reb': '2.8', 'dreb_pct': '0.14300000000000002', 'rating': '-11.8', 'ast': '0.4'}, {'name': 'Duane Ferrell', 'ts_pct': '0.521', 'reb': '2.3', 'dreb_pct': '0.091', 'rating': '2.3', 'ast': '1.1'}, {'name': 'Dwayne Schintzius', 'ts_pct': '0.43', 'reb': '1.5', 'dreb_pct': '0.151', 'rating': '12.3', 'ast': '0.3'}, {'name': 'Earl Cureton', 'ts_pct': '0.376', 'reb': '1.0', 'dreb_pct': '0.102', 'rating': '-2.1', 'ast': '0.4'}, {'name': \"Ed O'Bannon\", 'ts_pct': '0.39899999999999997', 'reb': '2.3', 'dreb_pct': '0.149', 'rating': '-8.7', 'ast': '0.6'}, {'name': 'Devin Gray', 'ts_pct': '0.319', 'reb': '2.3', 'dreb_pct': '0.25', 'rating': '-42.1', 'ast': '0.3'}, {'name': 'Jud Buechler', 'ts_pct': '0.423', 'reb': '1.7', 'dreb_pct': '0.121', 'rating': '5.4', 'ast': '0.8'}, {'name': 'Detlef Schrempf', 'ts_pct': '0.5920000000000001', 'reb': '6.5', 'dreb_pct': '0.166', 'rating': '12.2', 'ast': '4.4'}, {'name': 'Derrick Coleman', 'ts_pct': '0.518', 'reb': '10.1', 'dreb_pct': '0.225', 'rating': '-5.4', 'ast': '3.4'}, {'name': 'Danny Ferry', 'ts_pct': '0.523', 'reb': '4.1', 'dreb_pct': '0.134', 'rating': '2.3', 'ast': '1.8'}, {'name': 'Danny Manning', 'ts_pct': '0.574', 'reb': '6.1', 'dreb_pct': '0.184', 'rating': '3.1', 'ast': '2.2'}, {'name': 'Darrell Armstrong', 'ts_pct': '0.525', 'reb': '1.1', 'dreb_pct': '0.05', 'rating': '0.3', 'ast': '2.6'}, {'name': 'Darrick Martin', 'ts_pct': '0.539', 'reb': '1.4', 'dreb_pct': '0.06', 'rating': '-4.5', 'ast': '4.1'}, {'name': 'Darrin Hancock', 'ts_pct': '0.51', 'reb': '0.8', 'dreb_pct': '0.11800000000000001', 'rating': '-2.6', 'ast': '0.5'}, {'name': 'Darvin Ham', 'ts_pct': '0.536', 'reb': '1.6', 'dreb_pct': '0.09699999999999999', 'rating': '-2.0', 'ast': '0.4'}, {'name': 'David Robinson', 'ts_pct': '0.5589999999999999', 'reb': '8.5', 'dreb_pct': '0.237', 'rating': '9.6', 'ast': '1.3'}, {'name': 'David Vaughn', 'ts_pct': '0.475', 'reb': '2.7', 'dreb_pct': '0.21600000000000003', 'rating': '-7.5', 'ast': '0.2'}, {'name': 'David Wesley', 'ts_pct': '0.563', 'reb': '3.6', 'dreb_pct': '0.084', 'rating': '-7.4', 'ast': '7.3'}, {'name': 'David Wingate', 'ts_pct': '0.509', 'reb': '1.1', 'dreb_pct': '0.069', 'rating': '2.8', 'ast': '1.2'}, {'name': 'David Wood', 'ts_pct': '0.621', 'reb': '0.6', 'dreb_pct': '0.128', 'rating': '3.9', 'ast': '0.3'}, {'name': 'Dean Garrett', 'ts_pct': '0.603', 'reb': '7.3', 'dreb_pct': '0.247', 'rating': '1.2', 'ast': '0.6'}, {'name': 'Dee Brown', 'ts_pct': '0.455', 'reb': '2.3', 'dreb_pct': '0.095', 'rating': '-7.5', 'ast': '3.2'}, {'name': 'Dell Curry', 'ts_pct': '0.562', 'reb': '3.1', 'dreb_pct': '0.098', 'rating': '1.6', 'ast': '1.7'}, {'name': 'Dell Demps', 'ts_pct': '0.258', 'reb': '0.0', 'dreb_pct': '0.0', 'rating': '-53.7', 'ast': '0.0'}, {'name': 'Dennis Rodman', 'ts_pct': 0, 'reb': 0, 'dreb_pct': 0, 'rating': 0, 'ast': 0}, {'name': 'Dennis Scott', 'ts_pct': '0.519', 'reb': '3.1', 'dreb_pct': '0.092', 'rating': '1.9', 'ast': '2.1'}, {'name': 'Derek Fisher', 'ts_pct': '0.491', 'reb': '1.2', 'dreb_pct': '0.087', 'rating': '5.1', 'ast': '1.5'}, {'name': 'Derek Harper', 'ts_pct': '0.516', 'reb': '1.8', 'dreb_pct': '0.057', 'rating': '-7.7', 'ast': '4.3'}, {'name': 'Derek Strong', 'ts_pct': '0.513', 'reb': '6.3', 'dreb_pct': '0.20800000000000002', 'rating': '-0.7', 'ast': '0.9'}, {'name': 'Derrick Alston', 'ts_pct': '0.0', 'reb': '2.0', 'dreb_pct': '0.2', 'rating': '-39.9', 'ast': '0.0'}, {'name': 'Derrick McKey', 'ts_pct': '0.462', 'reb': '4.8', 'dreb_pct': '0.127', 'rating': '-0.2', 'ast': '2.7'}, {'name': 'Brett Szabo', 'ts_pct': '0.517', 'reb': '2.4', 'dreb_pct': '0.196', 'rating': '-11.1', 'ast': '0.2'}, {'name': 'Juwan Howard', 'ts_pct': '0.529', 'reb': '8.0', 'dreb_pct': '0.156', 'rating': '1.3', 'ast': '3.8'}, {'name': 'Keith Askins', 'ts_pct': '0.557', 'reb': '3.5', 'dreb_pct': '0.127', 'rating': '6.1', 'ast': '1.0'}, {'name': 'Scott Burrell', 'ts_pct': '0.485', 'reb': '2.8', 'dreb_pct': '0.134', 'rating': '1.4', 'ast': '1.3'}, {'name': 'Scott Williams', 'ts_pct': '0.529', 'reb': '6.4', 'dreb_pct': '0.205', 'rating': '-4.6', 'ast': '0.7'}]\n",
      "X2\n",
      "100\n",
      "[{'name': 'Chris Mills', 'ts_pct': '0.544', 'reb': '6.2', 'dreb_pct': '0.157', 'rating': '4.5', 'ast': '2.5'}, {'name': 'Chris Morris', 'ts_pct': '0.486', 'reb': '2.2', 'dreb_pct': '0.155', 'rating': '-7.3', 'ast': '0.6'}, {'name': 'Chris Mullin', 'ts_pct': 0, 'reb': 0, 'dreb_pct': 0, 'rating': 0, 'ast': 0}, {'name': 'Chris Robinson', 'ts_pct': '0.486', 'reb': '1.7', 'dreb_pct': '0.08800000000000001', 'rating': '-11.4', 'ast': '1.6'}, {'name': 'Chris Webber', 'ts_pct': '0.5539999999999999', 'reb': '10.3', 'dreb_pct': '0.207', 'rating': '3.4', 'ast': '4.6'}, {'name': 'Chris Whitney', 'ts_pct': '0.5660000000000001', 'reb': '1.3', 'dreb_pct': '0.09300000000000001', 'rating': '2.0', 'ast': '2.2'}, {'name': 'Christian Laettner', 'ts_pct': '0.562', 'reb': '8.8', 'dreb_pct': '0.18600000000000003', 'rating': '11.0', 'ast': '2.7'}, {'name': 'Chucky Brown', 'ts_pct': '0.552', 'reb': '2.1', 'dreb_pct': '0.177', 'rating': '-5.9', 'ast': '0.4'}, {'name': 'Chris Gatling', 'ts_pct': '0.58', 'reb': '7.9', 'dreb_pct': '0.21600000000000003', 'rating': '-4.1', 'ast': '0.6'}, {'name': 'Clar. Weatherspoon', 'ts_pct': '0.537', 'reb': '8.3', 'dreb_pct': '0.172', 'rating': '-8.3', 'ast': '1.7'}, {'name': 'Clifford Rozier', 'ts_pct': '0.47100000000000003', 'reb': '5.6', 'dreb_pct': '0.223', 'rating': '-6.3', 'ast': '0.7'}, {'name': 'Clyde Drexler', 'ts_pct': '0.5479999999999999', 'reb': '6.0', 'dreb_pct': '0.122', 'rating': '7.5', 'ast': '5.7'}, {'name': 'Corie Blount', 'ts_pct': '0.5589999999999999', 'reb': '4.8', 'dreb_pct': '0.182', 'rating': '2.0', 'ast': '0.6'}, {'name': 'Corliss Williamson', 'ts_pct': '0.535', 'reb': '4.1', 'dreb_pct': '0.11199999999999999', 'rating': '-4.2', 'ast': '1.6'}, {'name': 'Cory Alexander', 'ts_pct': '0.528', 'reb': '1.5', 'dreb_pct': '0.081', 'rating': '-8.8', 'ast': '3.2'}, {'name': 'Craig Ehlo', 'ts_pct': '0.41200000000000003', 'reb': '1.8', 'dreb_pct': '0.107', 'rating': '5.7', 'ast': '1.1'}, {'name': 'Cuonzo Martin', 'ts_pct': '0.0', 'reb': '0.3', 'dreb_pct': '0.0', 'rating': '-12.1', 'ast': '0.3'}, {'name': 'Dale Davis', 'ts_pct': '0.532', 'reb': '9.7', 'dreb_pct': '0.215', 'rating': '-0.2', 'ast': '0.7'}, {'name': 'Dale Ellis', 'ts_pct': '0.537', 'reb': '3.6', 'dreb_pct': '0.07400000000000001', 'rating': '-9.1', 'ast': '2.0'}, {'name': 'Clifford Robinson', 'ts_pct': '0.519', 'reb': '4.0', 'dreb_pct': '0.08800000000000001', 'rating': '4.4', 'ast': '3.2'}, {'name': 'Chris Dudley', 'ts_pct': '0.449', 'reb': '7.3', 'dreb_pct': '0.249', 'rating': '-0.2', 'ast': '0.5'}, {'name': 'Chris Childs', 'ts_pct': '0.526', 'reb': '2.9', 'dreb_pct': '0.094', 'rating': '5.2', 'ast': '6.1'}, {'name': 'Chris Carr', 'ts_pct': '0.5579999999999999', 'reb': '2.1', 'dreb_pct': '0.11599999999999999', 'rating': '3.8', 'ast': '0.9'}, {'name': 'Brian Evans', 'ts_pct': '0.455', 'reb': '0.6', 'dreb_pct': '0.121', 'rating': '-12.5', 'ast': '0.5'}, {'name': 'Brian Grant', 'ts_pct': '0.511', 'reb': '5.9', 'dreb_pct': '0.185', 'rating': '-7.7', 'ast': '1.2'}, {'name': 'Brian Shaw', 'ts_pct': '0.478', 'reb': '2.5', 'dreb_pct': '0.095', 'rating': '-10.5', 'ast': '4.1'}, {'name': 'Brooks Thompson', 'ts_pct': '0.526', 'reb': '1.4', 'dreb_pct': '0.087', 'rating': '-6.2', 'ast': '2.7'}, {'name': 'Bruce Bowen', 'ts_pct': 0, 'reb': 0, 'dreb_pct': 0, 'rating': 0, 'ast': 0}, {'name': 'Bryant Reeves', 'ts_pct': '0.523', 'reb': '8.1', 'dreb_pct': '0.185', 'rating': '-10.6', 'ast': '2.1'}, {'name': 'Bryant Stith', 'ts_pct': '0.5479999999999999', 'reb': '4.2', 'dreb_pct': '0.09', 'rating': '-5.6', 'ast': '2.6'}, {'name': 'Bryon Russell', 'ts_pct': '0.6', 'reb': '4.1', 'dreb_pct': '0.11800000000000001', 'rating': '13.5', 'ast': '1.5'}, {'name': 'Buck Williams', 'ts_pct': '0.574', 'reb': '5.4', 'dreb_pct': '0.184', 'rating': '6.9', 'ast': '0.7'}, {'name': 'Byron Scott', 'ts_pct': '0.59', 'reb': '1.5', 'dreb_pct': '0.075', 'rating': '6.7', 'ast': '1.3'}, {'name': 'Calbert Cheaney', 'ts_pct': '0.53', 'reb': '3.4', 'dreb_pct': '0.095', 'rating': '2.0', 'ast': '1.4'}, {'name': 'Carl Herrera', 'ts_pct': '0.46299999999999997', 'reb': '4.5', 'dreb_pct': '0.151', 'rating': '-9.7', 'ast': '0.7'}, {'name': 'Carl Thomas', 'ts_pct': '0.43', 'reb': '0.7', 'dreb_pct': '0.152', 'rating': '-8.9', 'ast': '0.4'}, {'name': 'Carlos Rogers', 'ts_pct': '0.575', 'reb': '5.4', 'dreb_pct': '0.154', 'rating': '-5.7', 'ast': '0.7'}, {'name': 'Cedric Ceballos', 'ts_pct': '0.522', 'reb': '6.6', 'dreb_pct': '0.18100000000000002', 'rating': '4.1', 'ast': '1.3'}, {'name': 'Charles Barkley', 'ts_pct': 0, 'reb': 0, 'dreb_pct': 0, 'rating': 0, 'ast': 0}, {'name': 'Charles Jones', 'ts_pct': '0.4', 'reb': '1.1', 'dreb_pct': '0.10300000000000001', 'rating': '2.6', 'ast': '0.3'}, {'name': 'Charles Oakley', 'ts_pct': '0.545', 'reb': '9.8', 'dreb_pct': '0.218', 'rating': '3.4', 'ast': '2.8'}, {'name': 'Charles Smith', 'ts_pct': '0.461', 'reb': '3.4', 'dreb_pct': '0.179', 'rating': '-4.9', 'ast': '0.7'}, {'name': 'Charlie Ward', 'ts_pct': '0.522', 'reb': '2.8', 'dreb_pct': '0.11599999999999999', 'rating': '4.0', 'ast': '4.1'}, {'name': 'Cherokee Parks', 'ts_pct': '0.535', 'reb': '2.6', 'dreb_pct': '0.135', 'rating': '-0.6', 'ast': '0.4'}, {'name': 'Damon Stoudamire', 'ts_pct': 0, 'reb': 0, 'dreb_pct': 0, 'rating': 0, 'ast': 0}, {'name': 'Dan Majerle', 'ts_pct': '0.523', 'reb': '4.5', 'dreb_pct': '0.111', 'rating': '4.7', 'ast': '3.2'}, {'name': 'Dan Schayes', 'ts_pct': '0.465', 'reb': '2.8', 'dreb_pct': '0.183', 'rating': '-1.5', 'ast': '0.3'}, {'name': 'Dana Barros', 'ts_pct': '0.552', 'reb': '2.0', 'dreb_pct': '0.07400000000000001', 'rating': '-10.0', 'ast': '3.4'}, {'name': 'Dexter Boney', 'ts_pct': '0.42200000000000004', 'reb': '0.8', 'dreb_pct': '0.071', 'rating': '-19.6', 'ast': '0.0'}, {'name': 'Dickey Simpkins', 'ts_pct': '0.41100000000000003', 'reb': '1.9', 'dreb_pct': '0.151', 'rating': '-0.9', 'ast': '0.6'}, {'name': 'Dikembe Mutombo', 'ts_pct': '0.584', 'reb': '11.6', 'dreb_pct': '0.256', 'rating': '8.1', 'ast': '1.4'}, {'name': 'Dino Radja', 'ts_pct': '0.47100000000000003', 'reb': '8.4', 'dreb_pct': '0.217', 'rating': '-3.3', 'ast': '1.9'}, {'name': 'Dominique Wilkins', 'ts_pct': '0.517', 'reb': '6.4', 'dreb_pct': '0.154', 'rating': '-10.3', 'ast': '1.9'}, {'name': 'Don MacLean', 'ts_pct': '0.493', 'reb': '3.8', 'dreb_pct': '0.152', 'rating': '-5.9', 'ast': '1.0'}, {'name': 'Don Reid', 'ts_pct': '0.523', 'reb': '2.1', 'dreb_pct': '0.159', 'rating': '-1.5', 'ast': '0.3'}, {'name': 'Donald Royal', 'ts_pct': '0.552', 'reb': '2.5', 'dreb_pct': '0.13699999999999998', 'rating': '-4.6', 'ast': '0.4'}, {'name': 'Donald Whiteside', 'ts_pct': '0.479', 'reb': '0.4', 'dreb_pct': '0.046', 'rating': '-12.4', 'ast': '1.3'}, {'name': 'Donnie Boyce', 'ts_pct': '0.37799999999999995', 'reb': '0.7', 'dreb_pct': '0.059000000000000004', 'rating': '-10.3', 'ast': '0.6'}, {'name': 'Donny Marshall', 'ts_pct': '0.47600000000000003', 'reb': '1.3', 'dreb_pct': '0.11800000000000001', 'rating': '-8.7', 'ast': '0.4'}, {'name': 'Dontonio Wingfield', 'ts_pct': '0.501', 'reb': '2.9', 'dreb_pct': '0.14400000000000002', 'rating': '1.3', 'ast': '1.0'}, {'name': 'Donyell Marshall', 'ts_pct': '0.478', 'reb': '4.5', 'dreb_pct': '0.21', 'rating': '-8.6', 'ast': '0.9'}, {'name': 'Doug Christie', 'ts_pct': '0.5429999999999999', 'reb': '5.3', 'dreb_pct': '0.135', 'rating': '-2.6', 'ast': '3.9'}, {'name': 'Doug Overton', 'ts_pct': '0.514', 'reb': '1.1', 'dreb_pct': '0.085', 'rating': '-1.3', 'ast': '1.7'}, {'name': 'Doug West', 'ts_pct': '0.505', 'reb': '2.2', 'dreb_pct': '0.07', 'rating': '-3.1', 'ast': '1.7'}, {'name': 'Duane Causwell', 'ts_pct': '0.535', 'reb': '2.8', 'dreb_pct': '0.14300000000000002', 'rating': '-11.8', 'ast': '0.4'}, {'name': 'Duane Ferrell', 'ts_pct': '0.521', 'reb': '2.3', 'dreb_pct': '0.091', 'rating': '2.3', 'ast': '1.1'}, {'name': 'Dwayne Schintzius', 'ts_pct': '0.43', 'reb': '1.5', 'dreb_pct': '0.151', 'rating': '12.3', 'ast': '0.3'}, {'name': 'Earl Cureton', 'ts_pct': '0.376', 'reb': '1.0', 'dreb_pct': '0.102', 'rating': '-2.1', 'ast': '0.4'}, {'name': \"Ed O'Bannon\", 'ts_pct': '0.39899999999999997', 'reb': '2.3', 'dreb_pct': '0.149', 'rating': '-8.7', 'ast': '0.6'}, {'name': 'Devin Gray', 'ts_pct': '0.319', 'reb': '2.3', 'dreb_pct': '0.25', 'rating': '-42.1', 'ast': '0.3'}, {'name': 'Jud Buechler', 'ts_pct': '0.423', 'reb': '1.7', 'dreb_pct': '0.121', 'rating': '5.4', 'ast': '0.8'}, {'name': 'Detlef Schrempf', 'ts_pct': '0.5920000000000001', 'reb': '6.5', 'dreb_pct': '0.166', 'rating': '12.2', 'ast': '4.4'}, {'name': 'Derrick Coleman', 'ts_pct': '0.518', 'reb': '10.1', 'dreb_pct': '0.225', 'rating': '-5.4', 'ast': '3.4'}, {'name': 'Danny Ferry', 'ts_pct': '0.523', 'reb': '4.1', 'dreb_pct': '0.134', 'rating': '2.3', 'ast': '1.8'}, {'name': 'Danny Manning', 'ts_pct': '0.574', 'reb': '6.1', 'dreb_pct': '0.184', 'rating': '3.1', 'ast': '2.2'}, {'name': 'Darrell Armstrong', 'ts_pct': '0.525', 'reb': '1.1', 'dreb_pct': '0.05', 'rating': '0.3', 'ast': '2.6'}, {'name': 'Darrick Martin', 'ts_pct': '0.539', 'reb': '1.4', 'dreb_pct': '0.06', 'rating': '-4.5', 'ast': '4.1'}, {'name': 'Darrin Hancock', 'ts_pct': '0.51', 'reb': '0.8', 'dreb_pct': '0.11800000000000001', 'rating': '-2.6', 'ast': '0.5'}, {'name': 'Darvin Ham', 'ts_pct': '0.536', 'reb': '1.6', 'dreb_pct': '0.09699999999999999', 'rating': '-2.0', 'ast': '0.4'}, {'name': 'David Robinson', 'ts_pct': '0.5589999999999999', 'reb': '8.5', 'dreb_pct': '0.237', 'rating': '9.6', 'ast': '1.3'}, {'name': 'David Vaughn', 'ts_pct': '0.475', 'reb': '2.7', 'dreb_pct': '0.21600000000000003', 'rating': '-7.5', 'ast': '0.2'}, {'name': 'David Wesley', 'ts_pct': '0.563', 'reb': '3.6', 'dreb_pct': '0.084', 'rating': '-7.4', 'ast': '7.3'}, {'name': 'David Wingate', 'ts_pct': '0.509', 'reb': '1.1', 'dreb_pct': '0.069', 'rating': '2.8', 'ast': '1.2'}, {'name': 'David Wood', 'ts_pct': '0.621', 'reb': '0.6', 'dreb_pct': '0.128', 'rating': '3.9', 'ast': '0.3'}, {'name': 'Dean Garrett', 'ts_pct': '0.603', 'reb': '7.3', 'dreb_pct': '0.247', 'rating': '1.2', 'ast': '0.6'}, {'name': 'Dee Brown', 'ts_pct': '0.455', 'reb': '2.3', 'dreb_pct': '0.095', 'rating': '-7.5', 'ast': '3.2'}, {'name': 'Dell Curry', 'ts_pct': '0.562', 'reb': '3.1', 'dreb_pct': '0.098', 'rating': '1.6', 'ast': '1.7'}, {'name': 'Dell Demps', 'ts_pct': '0.258', 'reb': '0.0', 'dreb_pct': '0.0', 'rating': '-53.7', 'ast': '0.0'}, {'name': 'Dennis Rodman', 'ts_pct': 0, 'reb': 0, 'dreb_pct': 0, 'rating': 0, 'ast': 0}, {'name': 'Dennis Scott', 'ts_pct': '0.519', 'reb': '3.1', 'dreb_pct': '0.092', 'rating': '1.9', 'ast': '2.1'}, {'name': 'Derek Fisher', 'ts_pct': '0.491', 'reb': '1.2', 'dreb_pct': '0.087', 'rating': '5.1', 'ast': '1.5'}, {'name': 'Derek Harper', 'ts_pct': '0.516', 'reb': '1.8', 'dreb_pct': '0.057', 'rating': '-7.7', 'ast': '4.3'}, {'name': 'Derek Strong', 'ts_pct': '0.513', 'reb': '6.3', 'dreb_pct': '0.20800000000000002', 'rating': '-0.7', 'ast': '0.9'}, {'name': 'Derrick Alston', 'ts_pct': '0.0', 'reb': '2.0', 'dreb_pct': '0.2', 'rating': '-39.9', 'ast': '0.0'}, {'name': 'Derrick McKey', 'ts_pct': '0.462', 'reb': '4.8', 'dreb_pct': '0.127', 'rating': '-0.2', 'ast': '2.7'}, {'name': 'Brett Szabo', 'ts_pct': '0.517', 'reb': '2.4', 'dreb_pct': '0.196', 'rating': '-11.1', 'ast': '0.2'}, {'name': 'Juwan Howard', 'ts_pct': '0.529', 'reb': '8.0', 'dreb_pct': '0.156', 'rating': '1.3', 'ast': '3.8'}, {'name': 'Keith Askins', 'ts_pct': '0.557', 'reb': '3.5', 'dreb_pct': '0.127', 'rating': '6.1', 'ast': '1.0'}, {'name': 'Scott Burrell', 'ts_pct': '0.485', 'reb': '2.8', 'dreb_pct': '0.134', 'rating': '1.4', 'ast': '1.3'}, {'name': 'Scott Williams', 'ts_pct': '0.529', 'reb': '6.4', 'dreb_pct': '0.205', 'rating': '-4.6', 'ast': '0.7'}]\n",
      "\n",
      "Y2\n",
      "100\n",
      "[0 0 1 0 0 0 0 0 0 0 0 0 0 0 0 0 0 0 0 0 0 0 0 0 0 0 0 1 0 0 0 0 0 0 0 0 0\n",
      " 0 1 0 0 0 0 0 1 0 0 0 0 0 0 0 0 0 0 0 0 0 0 0 0 0 0 0 0 0 0 0 0 0 0 0 0 0\n",
      " 0 0 0 0 0 0 0 0 0 0 0 0 0 0 1 0 0 0 0 0 0 0 0 0 0 0]\n"
     ]
    },
    {
     "ename": "NameError",
     "evalue": "name 'X' is not defined",
     "output_type": "error",
     "traceback": [
      "\u001B[1;31m---------------------------------------------------------------------------\u001B[0m",
      "\u001B[1;31mNameError\u001B[0m                                 Traceback (most recent call last)",
      "Cell \u001B[1;32mIn[113], line 66\u001B[0m\n\u001B[0;32m     62\u001B[0m \u001B[38;5;28mprint\u001B[39m(Y2)\n\u001B[0;32m     65\u001B[0m \u001B[38;5;66;03m# Split the data into training and testing sets\u001B[39;00m\n\u001B[1;32m---> 66\u001B[0m X_train, X_test, y_train, y_test \u001B[38;5;241m=\u001B[39m train_test_split(\u001B[43mX\u001B[49m, y, test_size\u001B[38;5;241m=\u001B[39m\u001B[38;5;241m0.2\u001B[39m, random_state\u001B[38;5;241m=\u001B[39m\u001B[38;5;241m42\u001B[39m)\n",
      "\u001B[1;31mNameError\u001B[0m: name 'X' is not defined"
     ]
    }
   ],
   "source": [
    "def get_datapool(segment):\n",
    "    # Make testing data sets\n",
    "    Xall = extract_features(training_data)\n",
    "    \n",
    "    # Create one training set\n",
    "    X1 = []\n",
    "    for i in range(100):\n",
    "        X1.append(Xall[i + segment * 100])\n",
    "    \n",
    "    tempX1 = X1.copy()\n",
    "    \n",
    "    # Create empty expected Y array to fill later\n",
    "    Y1 = np.empty_like(X1)\n",
    "    for i in range(len(Y1)):\n",
    "        Y1[i] = 0\n",
    "    \n",
    "    # Best ts_pct into Y1\n",
    "    cur = get_best(tempX1, 'ts_pct')\n",
    "    tempX1[cur] = make_empty(tempX1[cur]) # Prevent repeat\n",
    "    Y1[cur] = 1\n",
    "    \n",
    "    # Best reb into Y1\n",
    "    cur = get_best(tempX1, 'reb')\n",
    "    tempX1[cur] = make_empty(tempX1[cur]) # Prevent repeat\n",
    "    Y1[cur] = 1\n",
    "    \n",
    "    # Best dreb_pct into Y1\n",
    "    cur = get_best(tempX1, 'dreb_pct')\n",
    "    tempX1[cur] = make_empty(tempX1[cur]) # Prevent repeat\n",
    "    Y1[cur] = 1\n",
    "    \n",
    "    # Best rating into Y1\n",
    "    cur = get_best(tempX1, 'rating')\n",
    "    tempX1[cur] = make_empty(tempX1[cur]) # Prevent repeat\n",
    "    Y1[cur] = 1\n",
    "    \n",
    "    # Best ast into Y1\n",
    "    cur = get_best(tempX1, 'ast')\n",
    "    tempX1[cur] = make_empty(tempX1[cur]) # Prevent repeat\n",
    "    Y1[cur] = 1\n",
    "    \n",
    "    print()\n",
    "    print(\"tempX1\")\n",
    "    print(len(tempX1))\n",
    "    print(tempX1)\n",
    "    \n",
    "    return X1, Y1\n",
    "\n",
    "X2, Y2 = get_datapool(1)\n",
    "\n",
    "print(\"X2\")\n",
    "print(len(X2))\n",
    "print(X2)\n",
    "print()\n",
    "print(\"Y2\")\n",
    "print(len(Y2))\n",
    "print(Y2)\n",
    "\n",
    "\n",
    "# Split the data into training and testing sets\n",
    "X_train, X_test, y_train, y_test = train_test_split(X, y, test_size=0.2, random_state=42)"
   ],
   "metadata": {
    "collapsed": false,
    "ExecuteTime": {
     "end_time": "2024-09-22T23:46:12.079521Z",
     "start_time": "2024-09-22T23:46:12.029374Z"
    }
   },
   "execution_count": 113
  },
  {
   "cell_type": "markdown",
   "source": [
    "## Train Model\n",
    "Now that we have the training data, we can train the model."
   ],
   "metadata": {
    "collapsed": false
   }
  },
  {
   "cell_type": "code",
   "outputs": [],
   "source": [
    "# Convert to numpy arrays\n",
    "X = np.array(all_teams)\n",
    "y = np.array(all_labels)\n",
    "\n",
    "# Normalize the features\n",
    "X = (X - X.mean(axis=0)) / X.std(axis=0)\n",
    "\n",
    "# Split the data into training and testing sets\n",
    "X_train, X_test, y_train, y_test = train_test_split(X, y, test_size=0.2, random_state=42)\n",
    "\n",
    "# Build the model\n",
    "# Define the neural network architecture\n",
    "# Define the neural network architecture\n",
    "input_size = X_train.shape[1]\n",
    "hidden_size = 64\n",
    "output_size = 1\n",
    "learning_rate = 0.01\n",
    "epochs = 1000\n",
    "\n",
    "# Initialize weights and biases\n",
    "np.random.seed(42)\n",
    "W1 = np.random.randn(input_size, hidden_size) * 0.01\n",
    "b1 = np.zeros((1, hidden_size))\n",
    "W2 = np.random.randn(hidden_size, output_size) * 0.01\n",
    "b2 = np.zeros((1, output_size))\n",
    "\n",
    "# Activation function and its derivative\n",
    "def sigmoid(x):\n",
    "    return 1 / (1 + np.exp(-x))\n",
    "\n",
    "def sigmoid_derivative(x):\n",
    "    return x * (1 - x)\n",
    "\n",
    "# Forward propagation\n",
    "def forward_propagation(X):\n",
    "    Z1 = np.dot(X, W1) + b1\n",
    "    A1 = sigmoid(Z1)\n",
    "    Z2 = np.dot(A1, W2) + b2\n",
    "    A2 = sigmoid(Z2)\n",
    "    return Z1, A1, Z2, A2\n",
    "\n",
    "# Compute the cost\n",
    "def compute_cost(A2, y):\n",
    "    m = y.shape[0]\n",
    "    cost = -np.sum(y * np.log(A2) + (1 - y) * np.log(1 - A2)) / m\n",
    "    return cost\n",
    "\n",
    "# Backpropagation with gradient clipping\n",
    "def backward_propagation(X, y, Z1, A1, Z2, A2):\n",
    "    m = y.shape[0]\n",
    "    dZ2 = A2 - y.reshape(-1, 1)\n",
    "    dW2 = np.dot(A1.T, dZ2) / m\n",
    "    db2 = np.sum(dZ2, axis=0, keepdims=True) / m\n",
    "    dA1 = np.dot(dZ2, W2.T)\n",
    "    dZ1 = dA1 * sigmoid_derivative(A1)\n",
    "    dW1 = np.dot(X.T, dZ1) / m\n",
    "    db1 = np.sum(dZ1, axis=0, keepdims=True) / m\n",
    "\n",
    "    # Gradient clipping\n",
    "    clip_value = 1.0\n",
    "    dW1 = np.clip(dW1, -clip_value, clip_value)\n",
    "    db1 = np.clip(db1, -clip_value, clip_value)\n",
    "    dW2 = np.clip(dW2, -clip_value, clip_value)\n",
    "    db2 = np.clip(db2, -clip_value, clip_value)\n",
    "\n",
    "    return dW1, db1, dW2, db2\n",
    "\n",
    "# Update weights and biases\n",
    "def update_parameters(dW1, db1, dW2, db2):\n",
    "    global W1, b1, W2, b2\n",
    "    W1 -= learning_rate * dW1\n",
    "    b1 -= learning_rate * db1\n",
    "    W2 -= learning_rate * dW2\n",
    "    b2 -= learning_rate * db2\n",
    "\n",
    "# Train the model\n",
    "for epoch in range(epochs):\n",
    "    Z1, A1, Z2, A2 = forward_propagation(X_train)\n",
    "    cost = compute_cost(A2, y_train)\n",
    "    dW1, db1, dW2, db2 = backward_propagation(X_train, y_train, Z1, A1, Z2, A2)\n",
    "    update_parameters(dW1, db1, dW2, db2)\n",
    "    if epoch % 100 == 0:\n",
    "        print(f'Epoch {epoch}, Cost: {cost}')\n",
    "\n",
    "# Evaluate the model\n",
    "_, _, _, A2_test = forward_propagation(X_test)\n",
    "y_pred = (A2_test > 0.5).astype(int)\n",
    "accuracy = accuracy_score(y_test, y_pred)\n",
    "print(f'Accuracy: {accuracy}')"
   ],
   "metadata": {
    "collapsed": false
   }
  },
  {
   "cell_type": "markdown",
   "metadata": {},
   "source": [
    "## Explain your architecture and how the basketball player characteristics are used as inputs:\n",
    "\n",
    "1. Data Preparation:\n",
    "\n",
    "- Pool and Training Data:\n",
    "    - Separates data: \n",
    "        - `pool` holds 100 unique players (2019-2022) for potential future use.\n",
    "        - `training_data` stores up to 5000 players (2019-2022) for model training.\n",
    "\n",
    "2. Feature Extraction:\n",
    "\n",
    "- The `extract_features` function takes a list of players and creates a dictionary of features for each one. \n",
    "- These features include:\n",
    "    - Name (not used as input)\n",
    "    - True Shooting Percentage (ts_pct)\n",
    "    - Rebounds (reb)\n",
    "    - Defensive Rebound Percentage (dreb_pct)\n",
    "    - Net Rating (rating)\n",
    "    - Assists (ast)\n",
    "\n",
    "3. Simulating Data for Training:\n",
    "\n",
    "- The `simulate_data` function generates training data with labels indicating successful teams based on pre-defined criteria.\n",
    "- It takes a list of players (`sample`) and a number of simulations (`num_iter`).\n",
    "- Here's how player characteristics are used as inputs:\n",
    "    - Averages and percentiles are calculated for assists, shooting percentage, rebounds, and net rating from the `sample` data.\n",
    "    - Loops through `num_iter` simulations:\n",
    "        - Selects 5 random players.\n",
    "        - Extracts their features using `extract_features`.\n",
    "        - Assigns a label (0 or 1) based on the criteria defined above..\n",
    "\n",
    "4. Model Building and Training:\n",
    "\n",
    "TO-DO\n",
    "5. Evaluation:\n",
    "\n",
    "TO-DO\n"
   ]
  },
  {
   "cell_type": "markdown",
   "metadata": {},
   "source": [
    "## Interpret the output of your MLP in the context of selecting an optimal basketball team:\n",
    "\n",
    "This MLP is trained on the 'optimal' prediction, given the input features of the dataset-shooting percentage, rebounds, assists, and player ratings amongst others-a basketball lineup is optimal. These mentioned inputs provide key indications about player performance. The model will process it for a binary outcome; 1 stands for an optimum team, and 0 stands for a suboptimum team. It could be shown that the MLP model is currently trained to learn from historical data to understand whether a combination of players is strong or weak and thus provide insight into which lineups will perform likely perform.\n",
    "\n",
    "These could then inform the choice of an optimum basketball team, where the model shows which sets of players are statistically balanced in key performance metrics. The teams that are predicted as \"optimal\" will indicate that their set of players is effective, while those labeled \"suboptimal\" need adjustment. Coaches or team selectors would be able to play around with different mixes of players in order to fine-tune their strategy and ensure the team is great in a lot of aspects of the game: scoring, defense, teamwork, just to name a few.\n",
    "\n",
    "Besides the precision, recall is one of the metrics that signifies model reliability or accuracy. High accuracy means the model can discriminate between good and bad lineups well. While precision and recall give an indication of few false predictions or missing optimal teams, in the end, what an MLP model provides is a data-driven method of selection of the team so as to best ensure that the lineup chosen will perform better on the court."
   ]
  }
 ],
 "metadata": {
  "kernelspec": {
   "display_name": "Python 3",
   "language": "python",
   "name": "python3"
  },
  "language_info": {
   "codemirror_mode": {
    "name": "ipython",
    "version": 3
   },
   "file_extension": ".py",
   "mimetype": "text/x-python",
   "name": "python",
   "nbconvert_exporter": "python",
   "pygments_lexer": "ipython3",
   "version": "3.11.2"
  }
 },
 "nbformat": 4,
 "nbformat_minor": 2
}
