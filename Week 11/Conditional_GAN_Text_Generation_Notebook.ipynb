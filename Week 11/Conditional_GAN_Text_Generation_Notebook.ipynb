{
 "cells": [
  {
   "cell_type": "markdown",
   "id": "6fd58f8f",
   "metadata": {},
   "source": [
    "# Conditional GAN for Text Generation\n",
    "This notebook provides a basic template to help you get started with implementing a Conditional GAN (cGAN) for text generation. Follow the instructions in each section to build and train your model."
   ]
  },
  {
   "cell_type": "code",
   "execution_count": 1,
   "id": "d3821d44",
   "metadata": {},
   "outputs": [
    {
     "name": "stdout",
     "output_type": "stream",
     "text": [
      "TensorFlow version: 2.16.2\n"
     ]
    }
   ],
   "source": [
    "import tensorflow as tf\n",
    "from tensorflow.keras import layers\n",
    "import numpy as np\n",
    "import matplotlib.pyplot as plt\n",
    "\n",
    "# Check TensorFlow version\n",
    "print(f'TensorFlow version: {tf.__version__}')"
   ]
  },
  {
   "cell_type": "markdown",
   "id": "3a1e3c1c",
   "metadata": {},
   "source": [
    "## 1. Data Preparation\n",
    "Load and preprocess your dataset. Ensure your dataset includes labeled text data for conditional generation."
   ]
  },
  {
   "cell_type": "code",
   "execution_count": 2,
   "id": "8abeee2e",
   "metadata": {},
   "outputs": [
    {
     "name": "stdout",
     "output_type": "stream",
     "text": [
      "Sample data: ['Sample text 0 for label 1', 'Sample text 1 for label 1', 'Sample text 2 for label 1', 'Sample text 3 for label 0', 'Sample text 4 for label 1']\n",
      "Sample labels: [[1]\n",
      " [1]\n",
      " [1]\n",
      " [0]\n",
      " [1]]\n"
     ]
    }
   ],
   "source": [
    "# Example: Generate dummy data\n",
    "def generate_dummy_data(num_samples=1000):\n",
    "    labels = np.random.randint(0, 2, size=(num_samples, 1))\n",
    "    text_data = [f\"Sample text {i} for label {label[0]}\" for i, label in enumerate(labels)]\n",
    "    return text_data, labels\n",
    "\n",
    "text_data, labels = generate_dummy_data()\n",
    "print(f\"Sample data: {text_data[:5]}\\nSample labels: {labels[:5]}\")"
   ]
  },
  {
   "cell_type": "markdown",
   "id": "2f2569ac",
   "metadata": {},
   "source": [
    "## 2. Build the Conditional GAN Model\n",
    "Define the generator and discriminator for the conditional GAN."
   ]
  },
  {
   "cell_type": "code",
   "execution_count": 3,
   "id": "480abf44",
   "metadata": {},
   "outputs": [
    {
     "name": "stderr",
     "output_type": "stream",
     "text": [
      "2024-11-21 09:12:22.272293: I metal_plugin/src/device/metal_device.cc:1154] Metal device set to: Apple M1\n",
      "2024-11-21 09:12:22.272349: I metal_plugin/src/device/metal_device.cc:296] systemMemory: 8.00 GB\n",
      "2024-11-21 09:12:22.272368: I metal_plugin/src/device/metal_device.cc:313] maxCacheSize: 2.67 GB\n",
      "2024-11-21 09:12:22.272804: I tensorflow/core/common_runtime/pluggable_device/pluggable_device_factory.cc:305] Could not identify NUMA node of platform GPU ID 0, defaulting to 0. Your kernel may not have been built with NUMA support.\n",
      "2024-11-21 09:12:22.272858: I tensorflow/core/common_runtime/pluggable_device/pluggable_device_factory.cc:271] Created TensorFlow device (/job:localhost/replica:0/task:0/device:GPU:0 with 0 MB memory) -> physical PluggableDevice (device: 0, name: METAL, pci bus id: <undefined>)\n"
     ]
    },
    {
     "data": {
      "text/html": [
       "<pre style=\"white-space:pre;overflow-x:auto;line-height:normal;font-family:Menlo,'DejaVu Sans Mono',consolas,'Courier New',monospace\"><span style=\"font-weight: bold\">Model: \"functional\"</span>\n",
       "</pre>\n"
      ],
      "text/plain": [
       "\u001b[1mModel: \"functional\"\u001b[0m\n"
      ]
     },
     "metadata": {},
     "output_type": "display_data"
    },
    {
     "data": {
      "text/html": [
       "<pre style=\"white-space:pre;overflow-x:auto;line-height:normal;font-family:Menlo,'DejaVu Sans Mono',consolas,'Courier New',monospace\">┏━━━━━━━━━━━━━━━━━━━━━┳━━━━━━━━━━━━━━━━━━━┳━━━━━━━━━━━━┳━━━━━━━━━━━━━━━━━━━┓\n",
       "┃<span style=\"font-weight: bold\"> Layer (type)        </span>┃<span style=\"font-weight: bold\"> Output Shape      </span>┃<span style=\"font-weight: bold\">    Param # </span>┃<span style=\"font-weight: bold\"> Connected to      </span>┃\n",
       "┡━━━━━━━━━━━━━━━━━━━━━╇━━━━━━━━━━━━━━━━━━━╇━━━━━━━━━━━━╇━━━━━━━━━━━━━━━━━━━┩\n",
       "│ input_layer_1       │ (<span style=\"color: #00d7ff; text-decoration-color: #00d7ff\">None</span>, <span style=\"color: #00af00; text-decoration-color: #00af00\">1</span>)         │          <span style=\"color: #00af00; text-decoration-color: #00af00\">0</span> │ -                 │\n",
       "│ (<span style=\"color: #0087ff; text-decoration-color: #0087ff\">InputLayer</span>)        │                   │            │                   │\n",
       "├─────────────────────┼───────────────────┼────────────┼───────────────────┤\n",
       "│ embedding           │ (<span style=\"color: #00d7ff; text-decoration-color: #00d7ff\">None</span>, <span style=\"color: #00af00; text-decoration-color: #00af00\">1</span>, <span style=\"color: #00af00; text-decoration-color: #00af00\">100</span>)    │        <span style=\"color: #00af00; text-decoration-color: #00af00\">200</span> │ input_layer_1[<span style=\"color: #00af00; text-decoration-color: #00af00\">0</span>]… │\n",
       "│ (<span style=\"color: #0087ff; text-decoration-color: #0087ff\">Embedding</span>)         │                   │            │                   │\n",
       "├─────────────────────┼───────────────────┼────────────┼───────────────────┤\n",
       "│ input_layer         │ (<span style=\"color: #00d7ff; text-decoration-color: #00d7ff\">None</span>, <span style=\"color: #00af00; text-decoration-color: #00af00\">100</span>)       │          <span style=\"color: #00af00; text-decoration-color: #00af00\">0</span> │ -                 │\n",
       "│ (<span style=\"color: #0087ff; text-decoration-color: #0087ff\">InputLayer</span>)        │                   │            │                   │\n",
       "├─────────────────────┼───────────────────┼────────────┼───────────────────┤\n",
       "│ flatten (<span style=\"color: #0087ff; text-decoration-color: #0087ff\">Flatten</span>)   │ (<span style=\"color: #00d7ff; text-decoration-color: #00d7ff\">None</span>, <span style=\"color: #00af00; text-decoration-color: #00af00\">100</span>)       │          <span style=\"color: #00af00; text-decoration-color: #00af00\">0</span> │ embedding[<span style=\"color: #00af00; text-decoration-color: #00af00\">0</span>][<span style=\"color: #00af00; text-decoration-color: #00af00\">0</span>]   │\n",
       "├─────────────────────┼───────────────────┼────────────┼───────────────────┤\n",
       "│ concatenate         │ (<span style=\"color: #00d7ff; text-decoration-color: #00d7ff\">None</span>, <span style=\"color: #00af00; text-decoration-color: #00af00\">200</span>)       │          <span style=\"color: #00af00; text-decoration-color: #00af00\">0</span> │ input_layer[<span style=\"color: #00af00; text-decoration-color: #00af00\">0</span>][<span style=\"color: #00af00; text-decoration-color: #00af00\">0</span>… │\n",
       "│ (<span style=\"color: #0087ff; text-decoration-color: #0087ff\">Concatenate</span>)       │                   │            │ flatten[<span style=\"color: #00af00; text-decoration-color: #00af00\">0</span>][<span style=\"color: #00af00; text-decoration-color: #00af00\">0</span>]     │\n",
       "├─────────────────────┼───────────────────┼────────────┼───────────────────┤\n",
       "│ dense (<span style=\"color: #0087ff; text-decoration-color: #0087ff\">Dense</span>)       │ (<span style=\"color: #00d7ff; text-decoration-color: #00d7ff\">None</span>, <span style=\"color: #00af00; text-decoration-color: #00af00\">128</span>)       │     <span style=\"color: #00af00; text-decoration-color: #00af00\">25,728</span> │ concatenate[<span style=\"color: #00af00; text-decoration-color: #00af00\">0</span>][<span style=\"color: #00af00; text-decoration-color: #00af00\">0</span>] │\n",
       "├─────────────────────┼───────────────────┼────────────┼───────────────────┤\n",
       "│ dense_1 (<span style=\"color: #0087ff; text-decoration-color: #0087ff\">Dense</span>)     │ (<span style=\"color: #00d7ff; text-decoration-color: #00d7ff\">None</span>, <span style=\"color: #00af00; text-decoration-color: #00af00\">256</span>)       │     <span style=\"color: #00af00; text-decoration-color: #00af00\">33,024</span> │ dense[<span style=\"color: #00af00; text-decoration-color: #00af00\">0</span>][<span style=\"color: #00af00; text-decoration-color: #00af00\">0</span>]       │\n",
       "├─────────────────────┼───────────────────┼────────────┼───────────────────┤\n",
       "│ dense_2 (<span style=\"color: #0087ff; text-decoration-color: #0087ff\">Dense</span>)     │ (<span style=\"color: #00d7ff; text-decoration-color: #00d7ff\">None</span>, <span style=\"color: #00af00; text-decoration-color: #00af00\">512</span>)       │    <span style=\"color: #00af00; text-decoration-color: #00af00\">131,584</span> │ dense_1[<span style=\"color: #00af00; text-decoration-color: #00af00\">0</span>][<span style=\"color: #00af00; text-decoration-color: #00af00\">0</span>]     │\n",
       "├─────────────────────┼───────────────────┼────────────┼───────────────────┤\n",
       "│ dense_3 (<span style=\"color: #0087ff; text-decoration-color: #0087ff\">Dense</span>)     │ (<span style=\"color: #00d7ff; text-decoration-color: #00d7ff\">None</span>, <span style=\"color: #00af00; text-decoration-color: #00af00\">100</span>)       │     <span style=\"color: #00af00; text-decoration-color: #00af00\">51,300</span> │ dense_2[<span style=\"color: #00af00; text-decoration-color: #00af00\">0</span>][<span style=\"color: #00af00; text-decoration-color: #00af00\">0</span>]     │\n",
       "└─────────────────────┴───────────────────┴────────────┴───────────────────┘\n",
       "</pre>\n"
      ],
      "text/plain": [
       "┏━━━━━━━━━━━━━━━━━━━━━┳━━━━━━━━━━━━━━━━━━━┳━━━━━━━━━━━━┳━━━━━━━━━━━━━━━━━━━┓\n",
       "┃\u001b[1m \u001b[0m\u001b[1mLayer (type)       \u001b[0m\u001b[1m \u001b[0m┃\u001b[1m \u001b[0m\u001b[1mOutput Shape     \u001b[0m\u001b[1m \u001b[0m┃\u001b[1m \u001b[0m\u001b[1m   Param #\u001b[0m\u001b[1m \u001b[0m┃\u001b[1m \u001b[0m\u001b[1mConnected to     \u001b[0m\u001b[1m \u001b[0m┃\n",
       "┡━━━━━━━━━━━━━━━━━━━━━╇━━━━━━━━━━━━━━━━━━━╇━━━━━━━━━━━━╇━━━━━━━━━━━━━━━━━━━┩\n",
       "│ input_layer_1       │ (\u001b[38;5;45mNone\u001b[0m, \u001b[38;5;34m1\u001b[0m)         │          \u001b[38;5;34m0\u001b[0m │ -                 │\n",
       "│ (\u001b[38;5;33mInputLayer\u001b[0m)        │                   │            │                   │\n",
       "├─────────────────────┼───────────────────┼────────────┼───────────────────┤\n",
       "│ embedding           │ (\u001b[38;5;45mNone\u001b[0m, \u001b[38;5;34m1\u001b[0m, \u001b[38;5;34m100\u001b[0m)    │        \u001b[38;5;34m200\u001b[0m │ input_layer_1[\u001b[38;5;34m0\u001b[0m]… │\n",
       "│ (\u001b[38;5;33mEmbedding\u001b[0m)         │                   │            │                   │\n",
       "├─────────────────────┼───────────────────┼────────────┼───────────────────┤\n",
       "│ input_layer         │ (\u001b[38;5;45mNone\u001b[0m, \u001b[38;5;34m100\u001b[0m)       │          \u001b[38;5;34m0\u001b[0m │ -                 │\n",
       "│ (\u001b[38;5;33mInputLayer\u001b[0m)        │                   │            │                   │\n",
       "├─────────────────────┼───────────────────┼────────────┼───────────────────┤\n",
       "│ flatten (\u001b[38;5;33mFlatten\u001b[0m)   │ (\u001b[38;5;45mNone\u001b[0m, \u001b[38;5;34m100\u001b[0m)       │          \u001b[38;5;34m0\u001b[0m │ embedding[\u001b[38;5;34m0\u001b[0m][\u001b[38;5;34m0\u001b[0m]   │\n",
       "├─────────────────────┼───────────────────┼────────────┼───────────────────┤\n",
       "│ concatenate         │ (\u001b[38;5;45mNone\u001b[0m, \u001b[38;5;34m200\u001b[0m)       │          \u001b[38;5;34m0\u001b[0m │ input_layer[\u001b[38;5;34m0\u001b[0m][\u001b[38;5;34m0\u001b[0m… │\n",
       "│ (\u001b[38;5;33mConcatenate\u001b[0m)       │                   │            │ flatten[\u001b[38;5;34m0\u001b[0m][\u001b[38;5;34m0\u001b[0m]     │\n",
       "├─────────────────────┼───────────────────┼────────────┼───────────────────┤\n",
       "│ dense (\u001b[38;5;33mDense\u001b[0m)       │ (\u001b[38;5;45mNone\u001b[0m, \u001b[38;5;34m128\u001b[0m)       │     \u001b[38;5;34m25,728\u001b[0m │ concatenate[\u001b[38;5;34m0\u001b[0m][\u001b[38;5;34m0\u001b[0m] │\n",
       "├─────────────────────┼───────────────────┼────────────┼───────────────────┤\n",
       "│ dense_1 (\u001b[38;5;33mDense\u001b[0m)     │ (\u001b[38;5;45mNone\u001b[0m, \u001b[38;5;34m256\u001b[0m)       │     \u001b[38;5;34m33,024\u001b[0m │ dense[\u001b[38;5;34m0\u001b[0m][\u001b[38;5;34m0\u001b[0m]       │\n",
       "├─────────────────────┼───────────────────┼────────────┼───────────────────┤\n",
       "│ dense_2 (\u001b[38;5;33mDense\u001b[0m)     │ (\u001b[38;5;45mNone\u001b[0m, \u001b[38;5;34m512\u001b[0m)       │    \u001b[38;5;34m131,584\u001b[0m │ dense_1[\u001b[38;5;34m0\u001b[0m][\u001b[38;5;34m0\u001b[0m]     │\n",
       "├─────────────────────┼───────────────────┼────────────┼───────────────────┤\n",
       "│ dense_3 (\u001b[38;5;33mDense\u001b[0m)     │ (\u001b[38;5;45mNone\u001b[0m, \u001b[38;5;34m100\u001b[0m)       │     \u001b[38;5;34m51,300\u001b[0m │ dense_2[\u001b[38;5;34m0\u001b[0m][\u001b[38;5;34m0\u001b[0m]     │\n",
       "└─────────────────────┴───────────────────┴────────────┴───────────────────┘\n"
      ]
     },
     "metadata": {},
     "output_type": "display_data"
    },
    {
     "data": {
      "text/html": [
       "<pre style=\"white-space:pre;overflow-x:auto;line-height:normal;font-family:Menlo,'DejaVu Sans Mono',consolas,'Courier New',monospace\"><span style=\"font-weight: bold\"> Total params: </span><span style=\"color: #00af00; text-decoration-color: #00af00\">241,836</span> (944.67 KB)\n",
       "</pre>\n"
      ],
      "text/plain": [
       "\u001b[1m Total params: \u001b[0m\u001b[38;5;34m241,836\u001b[0m (944.67 KB)\n"
      ]
     },
     "metadata": {},
     "output_type": "display_data"
    },
    {
     "data": {
      "text/html": [
       "<pre style=\"white-space:pre;overflow-x:auto;line-height:normal;font-family:Menlo,'DejaVu Sans Mono',consolas,'Courier New',monospace\"><span style=\"font-weight: bold\"> Trainable params: </span><span style=\"color: #00af00; text-decoration-color: #00af00\">241,836</span> (944.67 KB)\n",
       "</pre>\n"
      ],
      "text/plain": [
       "\u001b[1m Trainable params: \u001b[0m\u001b[38;5;34m241,836\u001b[0m (944.67 KB)\n"
      ]
     },
     "metadata": {},
     "output_type": "display_data"
    },
    {
     "data": {
      "text/html": [
       "<pre style=\"white-space:pre;overflow-x:auto;line-height:normal;font-family:Menlo,'DejaVu Sans Mono',consolas,'Courier New',monospace\"><span style=\"font-weight: bold\"> Non-trainable params: </span><span style=\"color: #00af00; text-decoration-color: #00af00\">0</span> (0.00 B)\n",
       "</pre>\n"
      ],
      "text/plain": [
       "\u001b[1m Non-trainable params: \u001b[0m\u001b[38;5;34m0\u001b[0m (0.00 B)\n"
      ]
     },
     "metadata": {},
     "output_type": "display_data"
    },
    {
     "data": {
      "text/html": [
       "<pre style=\"white-space:pre;overflow-x:auto;line-height:normal;font-family:Menlo,'DejaVu Sans Mono',consolas,'Courier New',monospace\"><span style=\"font-weight: bold\">Model: \"functional_1\"</span>\n",
       "</pre>\n"
      ],
      "text/plain": [
       "\u001b[1mModel: \"functional_1\"\u001b[0m\n"
      ]
     },
     "metadata": {},
     "output_type": "display_data"
    },
    {
     "data": {
      "text/html": [
       "<pre style=\"white-space:pre;overflow-x:auto;line-height:normal;font-family:Menlo,'DejaVu Sans Mono',consolas,'Courier New',monospace\">┏━━━━━━━━━━━━━━━━━━━━━┳━━━━━━━━━━━━━━━━━━━┳━━━━━━━━━━━━┳━━━━━━━━━━━━━━━━━━━┓\n",
       "┃<span style=\"font-weight: bold\"> Layer (type)        </span>┃<span style=\"font-weight: bold\"> Output Shape      </span>┃<span style=\"font-weight: bold\">    Param # </span>┃<span style=\"font-weight: bold\"> Connected to      </span>┃\n",
       "┡━━━━━━━━━━━━━━━━━━━━━╇━━━━━━━━━━━━━━━━━━━╇━━━━━━━━━━━━╇━━━━━━━━━━━━━━━━━━━┩\n",
       "│ input_layer_3       │ (<span style=\"color: #00d7ff; text-decoration-color: #00d7ff\">None</span>, <span style=\"color: #00af00; text-decoration-color: #00af00\">1</span>)         │          <span style=\"color: #00af00; text-decoration-color: #00af00\">0</span> │ -                 │\n",
       "│ (<span style=\"color: #0087ff; text-decoration-color: #0087ff\">InputLayer</span>)        │                   │            │                   │\n",
       "├─────────────────────┼───────────────────┼────────────┼───────────────────┤\n",
       "│ embedding_1         │ (<span style=\"color: #00d7ff; text-decoration-color: #00d7ff\">None</span>, <span style=\"color: #00af00; text-decoration-color: #00af00\">1</span>, <span style=\"color: #00af00; text-decoration-color: #00af00\">100</span>)    │        <span style=\"color: #00af00; text-decoration-color: #00af00\">200</span> │ input_layer_3[<span style=\"color: #00af00; text-decoration-color: #00af00\">0</span>]… │\n",
       "│ (<span style=\"color: #0087ff; text-decoration-color: #0087ff\">Embedding</span>)         │                   │            │                   │\n",
       "├─────────────────────┼───────────────────┼────────────┼───────────────────┤\n",
       "│ input_layer_2       │ (<span style=\"color: #00d7ff; text-decoration-color: #00d7ff\">None</span>, <span style=\"color: #00af00; text-decoration-color: #00af00\">100</span>)       │          <span style=\"color: #00af00; text-decoration-color: #00af00\">0</span> │ -                 │\n",
       "│ (<span style=\"color: #0087ff; text-decoration-color: #0087ff\">InputLayer</span>)        │                   │            │                   │\n",
       "├─────────────────────┼───────────────────┼────────────┼───────────────────┤\n",
       "│ flatten_1 (<span style=\"color: #0087ff; text-decoration-color: #0087ff\">Flatten</span>) │ (<span style=\"color: #00d7ff; text-decoration-color: #00d7ff\">None</span>, <span style=\"color: #00af00; text-decoration-color: #00af00\">100</span>)       │          <span style=\"color: #00af00; text-decoration-color: #00af00\">0</span> │ embedding_1[<span style=\"color: #00af00; text-decoration-color: #00af00\">0</span>][<span style=\"color: #00af00; text-decoration-color: #00af00\">0</span>] │\n",
       "├─────────────────────┼───────────────────┼────────────┼───────────────────┤\n",
       "│ concatenate_1       │ (<span style=\"color: #00d7ff; text-decoration-color: #00d7ff\">None</span>, <span style=\"color: #00af00; text-decoration-color: #00af00\">200</span>)       │          <span style=\"color: #00af00; text-decoration-color: #00af00\">0</span> │ input_layer_2[<span style=\"color: #00af00; text-decoration-color: #00af00\">0</span>]… │\n",
       "│ (<span style=\"color: #0087ff; text-decoration-color: #0087ff\">Concatenate</span>)       │                   │            │ flatten_1[<span style=\"color: #00af00; text-decoration-color: #00af00\">0</span>][<span style=\"color: #00af00; text-decoration-color: #00af00\">0</span>]   │\n",
       "├─────────────────────┼───────────────────┼────────────┼───────────────────┤\n",
       "│ dense_4 (<span style=\"color: #0087ff; text-decoration-color: #0087ff\">Dense</span>)     │ (<span style=\"color: #00d7ff; text-decoration-color: #00d7ff\">None</span>, <span style=\"color: #00af00; text-decoration-color: #00af00\">512</span>)       │    <span style=\"color: #00af00; text-decoration-color: #00af00\">102,912</span> │ concatenate_1[<span style=\"color: #00af00; text-decoration-color: #00af00\">0</span>]… │\n",
       "├─────────────────────┼───────────────────┼────────────┼───────────────────┤\n",
       "│ dense_5 (<span style=\"color: #0087ff; text-decoration-color: #0087ff\">Dense</span>)     │ (<span style=\"color: #00d7ff; text-decoration-color: #00d7ff\">None</span>, <span style=\"color: #00af00; text-decoration-color: #00af00\">256</span>)       │    <span style=\"color: #00af00; text-decoration-color: #00af00\">131,328</span> │ dense_4[<span style=\"color: #00af00; text-decoration-color: #00af00\">0</span>][<span style=\"color: #00af00; text-decoration-color: #00af00\">0</span>]     │\n",
       "├─────────────────────┼───────────────────┼────────────┼───────────────────┤\n",
       "│ dense_6 (<span style=\"color: #0087ff; text-decoration-color: #0087ff\">Dense</span>)     │ (<span style=\"color: #00d7ff; text-decoration-color: #00d7ff\">None</span>, <span style=\"color: #00af00; text-decoration-color: #00af00\">1</span>)         │        <span style=\"color: #00af00; text-decoration-color: #00af00\">257</span> │ dense_5[<span style=\"color: #00af00; text-decoration-color: #00af00\">0</span>][<span style=\"color: #00af00; text-decoration-color: #00af00\">0</span>]     │\n",
       "└─────────────────────┴───────────────────┴────────────┴───────────────────┘\n",
       "</pre>\n"
      ],
      "text/plain": [
       "┏━━━━━━━━━━━━━━━━━━━━━┳━━━━━━━━━━━━━━━━━━━┳━━━━━━━━━━━━┳━━━━━━━━━━━━━━━━━━━┓\n",
       "┃\u001b[1m \u001b[0m\u001b[1mLayer (type)       \u001b[0m\u001b[1m \u001b[0m┃\u001b[1m \u001b[0m\u001b[1mOutput Shape     \u001b[0m\u001b[1m \u001b[0m┃\u001b[1m \u001b[0m\u001b[1m   Param #\u001b[0m\u001b[1m \u001b[0m┃\u001b[1m \u001b[0m\u001b[1mConnected to     \u001b[0m\u001b[1m \u001b[0m┃\n",
       "┡━━━━━━━━━━━━━━━━━━━━━╇━━━━━━━━━━━━━━━━━━━╇━━━━━━━━━━━━╇━━━━━━━━━━━━━━━━━━━┩\n",
       "│ input_layer_3       │ (\u001b[38;5;45mNone\u001b[0m, \u001b[38;5;34m1\u001b[0m)         │          \u001b[38;5;34m0\u001b[0m │ -                 │\n",
       "│ (\u001b[38;5;33mInputLayer\u001b[0m)        │                   │            │                   │\n",
       "├─────────────────────┼───────────────────┼────────────┼───────────────────┤\n",
       "│ embedding_1         │ (\u001b[38;5;45mNone\u001b[0m, \u001b[38;5;34m1\u001b[0m, \u001b[38;5;34m100\u001b[0m)    │        \u001b[38;5;34m200\u001b[0m │ input_layer_3[\u001b[38;5;34m0\u001b[0m]… │\n",
       "│ (\u001b[38;5;33mEmbedding\u001b[0m)         │                   │            │                   │\n",
       "├─────────────────────┼───────────────────┼────────────┼───────────────────┤\n",
       "│ input_layer_2       │ (\u001b[38;5;45mNone\u001b[0m, \u001b[38;5;34m100\u001b[0m)       │          \u001b[38;5;34m0\u001b[0m │ -                 │\n",
       "│ (\u001b[38;5;33mInputLayer\u001b[0m)        │                   │            │                   │\n",
       "├─────────────────────┼───────────────────┼────────────┼───────────────────┤\n",
       "│ flatten_1 (\u001b[38;5;33mFlatten\u001b[0m) │ (\u001b[38;5;45mNone\u001b[0m, \u001b[38;5;34m100\u001b[0m)       │          \u001b[38;5;34m0\u001b[0m │ embedding_1[\u001b[38;5;34m0\u001b[0m][\u001b[38;5;34m0\u001b[0m] │\n",
       "├─────────────────────┼───────────────────┼────────────┼───────────────────┤\n",
       "│ concatenate_1       │ (\u001b[38;5;45mNone\u001b[0m, \u001b[38;5;34m200\u001b[0m)       │          \u001b[38;5;34m0\u001b[0m │ input_layer_2[\u001b[38;5;34m0\u001b[0m]… │\n",
       "│ (\u001b[38;5;33mConcatenate\u001b[0m)       │                   │            │ flatten_1[\u001b[38;5;34m0\u001b[0m][\u001b[38;5;34m0\u001b[0m]   │\n",
       "├─────────────────────┼───────────────────┼────────────┼───────────────────┤\n",
       "│ dense_4 (\u001b[38;5;33mDense\u001b[0m)     │ (\u001b[38;5;45mNone\u001b[0m, \u001b[38;5;34m512\u001b[0m)       │    \u001b[38;5;34m102,912\u001b[0m │ concatenate_1[\u001b[38;5;34m0\u001b[0m]… │\n",
       "├─────────────────────┼───────────────────┼────────────┼───────────────────┤\n",
       "│ dense_5 (\u001b[38;5;33mDense\u001b[0m)     │ (\u001b[38;5;45mNone\u001b[0m, \u001b[38;5;34m256\u001b[0m)       │    \u001b[38;5;34m131,328\u001b[0m │ dense_4[\u001b[38;5;34m0\u001b[0m][\u001b[38;5;34m0\u001b[0m]     │\n",
       "├─────────────────────┼───────────────────┼────────────┼───────────────────┤\n",
       "│ dense_6 (\u001b[38;5;33mDense\u001b[0m)     │ (\u001b[38;5;45mNone\u001b[0m, \u001b[38;5;34m1\u001b[0m)         │        \u001b[38;5;34m257\u001b[0m │ dense_5[\u001b[38;5;34m0\u001b[0m][\u001b[38;5;34m0\u001b[0m]     │\n",
       "└─────────────────────┴───────────────────┴────────────┴───────────────────┘\n"
      ]
     },
     "metadata": {},
     "output_type": "display_data"
    },
    {
     "data": {
      "text/html": [
       "<pre style=\"white-space:pre;overflow-x:auto;line-height:normal;font-family:Menlo,'DejaVu Sans Mono',consolas,'Courier New',monospace\"><span style=\"font-weight: bold\"> Total params: </span><span style=\"color: #00af00; text-decoration-color: #00af00\">234,697</span> (916.79 KB)\n",
       "</pre>\n"
      ],
      "text/plain": [
       "\u001b[1m Total params: \u001b[0m\u001b[38;5;34m234,697\u001b[0m (916.79 KB)\n"
      ]
     },
     "metadata": {},
     "output_type": "display_data"
    },
    {
     "data": {
      "text/html": [
       "<pre style=\"white-space:pre;overflow-x:auto;line-height:normal;font-family:Menlo,'DejaVu Sans Mono',consolas,'Courier New',monospace\"><span style=\"font-weight: bold\"> Trainable params: </span><span style=\"color: #00af00; text-decoration-color: #00af00\">234,697</span> (916.79 KB)\n",
       "</pre>\n"
      ],
      "text/plain": [
       "\u001b[1m Trainable params: \u001b[0m\u001b[38;5;34m234,697\u001b[0m (916.79 KB)\n"
      ]
     },
     "metadata": {},
     "output_type": "display_data"
    },
    {
     "data": {
      "text/html": [
       "<pre style=\"white-space:pre;overflow-x:auto;line-height:normal;font-family:Menlo,'DejaVu Sans Mono',consolas,'Courier New',monospace\"><span style=\"font-weight: bold\"> Non-trainable params: </span><span style=\"color: #00af00; text-decoration-color: #00af00\">0</span> (0.00 B)\n",
       "</pre>\n"
      ],
      "text/plain": [
       "\u001b[1m Non-trainable params: \u001b[0m\u001b[38;5;34m0\u001b[0m (0.00 B)\n"
      ]
     },
     "metadata": {},
     "output_type": "display_data"
    }
   ],
   "source": [
    "# Define the generator\n",
    "def build_generator(noise_dim, num_classes):\n",
    "    noise_input = layers.Input(shape=(noise_dim,))\n",
    "    label_input = layers.Input(shape=(1,), dtype='int32')\n",
    "    \n",
    "    label_embedding = layers.Embedding(num_classes, noise_dim)(label_input)\n",
    "    label_embedding = layers.Flatten()(label_embedding)\n",
    "    \n",
    "    combined_input = layers.Concatenate()([noise_input, label_embedding])\n",
    "    \n",
    "    x = layers.Dense(128, activation='relu')(combined_input)\n",
    "    x = layers.Dense(256, activation='relu')(x)\n",
    "    x = layers.Dense(512, activation='relu')(x)\n",
    "    output = layers.Dense(100, activation='tanh')(x)  # Adjust output size as needed\n",
    "    \n",
    "    return tf.keras.Model([noise_input, label_input], output)\n",
    "\n",
    "# Define the discriminator\n",
    "def build_discriminator(input_dim, num_classes):\n",
    "    text_input = layers.Input(shape=(input_dim,))\n",
    "    label_input = layers.Input(shape=(1,), dtype='int32')\n",
    "    \n",
    "    label_embedding = layers.Embedding(num_classes, input_dim)(label_input)\n",
    "    label_embedding = layers.Flatten()(label_embedding)\n",
    "    \n",
    "    combined_input = layers.Concatenate()([text_input, label_embedding])\n",
    "    \n",
    "    x = layers.Dense(512, activation='relu')(combined_input)\n",
    "    x = layers.Dense(256, activation='relu')(x)\n",
    "    output = layers.Dense(1, activation='sigmoid')(x)\n",
    "    \n",
    "    return tf.keras.Model([text_input, label_input], output)\n",
    "\n",
    "# Instantiate models\n",
    "noise_dim = 100\n",
    "num_classes = 2\n",
    "generator = build_generator(noise_dim, num_classes)\n",
    "discriminator = build_discriminator(100, num_classes)\n",
    "\n",
    "generator.summary()\n",
    "discriminator.summary()"
   ]
  },
  {
   "cell_type": "markdown",
   "id": "50452a1b",
   "metadata": {},
   "source": [
    "## 3. Compile and Train the GAN\n",
    "Set up the training loop for the cGAN."
   ]
  },
  {
   "cell_type": "code",
   "execution_count": 4,
   "id": "d22308f2",
   "metadata": {},
   "outputs": [],
   "source": [
    "# Define the GAN training process here\n",
    "# (Skeleton code provided; you will need to complete this based on your dataset and objectives)"
   ]
  },
  {
   "cell_type": "markdown",
   "id": "c3b2d5bc",
   "metadata": {},
   "source": [
    "## 4. Generate and Evaluate Text\n",
    "Use the trained generator to create new text conditioned on different labels."
   ]
  },
  {
   "cell_type": "code",
   "execution_count": 5,
   "id": "435a53c4",
   "metadata": {},
   "outputs": [
    {
     "name": "stderr",
     "output_type": "stream",
     "text": [
      "2024-11-21 09:12:22.887453: I tensorflow/core/grappler/optimizers/custom_graph_optimizer_registry.cc:117] Plugin optimizer for device_type GPU is enabled.\n"
     ]
    },
    {
     "name": "stdout",
     "output_type": "stream",
     "text": [
      "\u001b[1m1/1\u001b[0m \u001b[32m━━━━━━━━━━━━━━━━━━━━\u001b[0m\u001b[37m\u001b[0m \u001b[1m1s\u001b[0m 767ms/step\n",
      "[[ 1.84572622e-01 -1.09709740e-01 -1.31677106e-01 -3.00349146e-01\n",
      "   2.10536659e-01 -2.92106837e-01  1.66337252e-01 -3.12458188e-03\n",
      "   1.48815155e-01 -1.01565793e-01 -6.02323934e-02 -2.58907050e-01\n",
      "  -8.04745853e-02 -3.29532981e-01  3.99788171e-02  2.79476166e-01\n",
      "  -9.63886902e-02  2.14786217e-01  3.22962940e-01 -5.44567071e-02\n",
      "   2.20609576e-01  2.33464744e-02 -1.14237674e-01  6.97235391e-02\n",
      "   3.32934618e-01  2.02348635e-01 -8.39197785e-02 -1.40936106e-01\n",
      "  -1.66755803e-02 -2.37395748e-01  1.76947892e-01 -1.04689322e-01\n",
      "  -8.09230283e-02  2.62375604e-02  1.16232820e-01 -3.51109147e-01\n",
      "   4.68486808e-02 -9.26777795e-02 -1.92908812e-02  3.21246266e-01\n",
      "   3.13420266e-01  2.36106608e-02  5.67048714e-02 -2.57680472e-02\n",
      "   3.28491449e-01  5.84206097e-02  7.87265524e-02  2.94684440e-01\n",
      "   1.27954826e-01  7.81693757e-02 -2.77946860e-01 -3.36399041e-02\n",
      "   8.87914225e-02  3.22111994e-02 -5.47682159e-02  6.25127852e-02\n",
      "  -1.69204831e-01  2.19121680e-01  1.13276569e-02  8.17215219e-02\n",
      "   7.09891021e-02 -1.46390140e-01 -1.94785222e-02  1.61537185e-01\n",
      "   1.76321819e-01 -3.21159840e-01  2.24349067e-01 -1.53732942e-02\n",
      "   2.10223645e-01 -1.50808275e-01 -2.54727542e-01 -2.16333449e-01\n",
      "   6.43667066e-03 -1.42101780e-01  2.19340056e-01  9.96535122e-02\n",
      "   3.50491181e-02 -1.58720300e-01  2.04684272e-01  1.28272146e-01\n",
      "  -3.86700742e-02 -4.10197023e-03 -3.34794484e-02 -1.06260978e-01\n",
      "   4.07744318e-01  7.97217265e-02  2.05833465e-01 -4.77961823e-02\n",
      "   2.71483418e-02  3.20769250e-01  4.57365438e-02 -6.95345029e-02\n",
      "  -3.84396166e-01 -4.72476706e-02  4.58174609e-02 -1.30316941e-02\n",
      "  -1.71379611e-01 -8.40783492e-02 -2.38090977e-02 -1.09375026e-02]\n",
      " [ 6.89652711e-02 -5.14765643e-02  7.50916451e-02 -2.64858957e-02\n",
      "   1.00477181e-01 -2.96711773e-01 -7.72873238e-02  9.56845358e-02\n",
      "   9.41937268e-02 -1.73201576e-01 -2.38039583e-01 -4.09852952e-01\n",
      "  -2.77933866e-01 -5.33181131e-01  2.53615588e-01  6.60987258e-01\n",
      "  -5.02882674e-02 -1.26310661e-01  2.86048174e-01 -1.36140555e-01\n",
      "   3.08247171e-02 -5.59199266e-02  1.33705080e-01 -1.63140237e-01\n",
      "   4.50411022e-01  1.00044653e-01 -1.84774157e-02 -2.75815129e-01\n",
      "   2.71299571e-01 -1.89315468e-01  1.56525567e-01  3.12141985e-01\n",
      "  -3.68154445e-03  2.48798996e-01  1.36276528e-01 -3.71288508e-02\n",
      "  -2.63028502e-01 -2.40880817e-01 -2.33630791e-01  2.09874570e-01\n",
      "   5.17302155e-01  3.25215936e-01 -1.04300410e-01  8.30522031e-02\n",
      "   1.06053449e-01  3.32466960e-01 -1.61826849e-01  2.76020229e-01\n",
      "  -4.59581986e-02  1.91078261e-01 -5.74596822e-01 -9.62973833e-02\n",
      "  -1.95025340e-01  4.21234742e-02 -4.08784270e-01 -3.76033150e-02\n",
      "  -1.64727792e-01  2.19480723e-01 -1.49976179e-01 -8.99071246e-02\n",
      "   1.27180412e-01 -2.41162628e-02  9.64774787e-02 -1.14691228e-01\n",
      "   1.84030831e-01 -2.13256299e-01  2.40126178e-01  2.35393360e-01\n",
      "  -1.24196455e-01 -3.53452899e-02 -2.65019685e-01 -3.02959561e-01\n",
      "  -8.01044554e-02 -3.39522362e-01  1.40011609e-01  1.67840362e-01\n",
      "  -1.82221830e-01 -2.19604880e-01 -1.77080035e-01  1.35293230e-01\n",
      "   4.68246378e-02  7.03684911e-02 -3.83666486e-01 -1.66206267e-02\n",
      "   1.30235732e-01  1.63936719e-01  1.41298994e-01  8.45150799e-02\n",
      "  -1.70865923e-01  2.93133229e-01  2.15381607e-01  8.81345291e-03\n",
      "  -6.28321350e-01  1.88893482e-01 -5.61939329e-02 -2.89029628e-01\n",
      "  -2.93836951e-01 -8.56103152e-02 -2.29711935e-01  1.50628567e-01]\n",
      " [-3.84189337e-02  7.03554717e-04 -7.51698911e-02 -7.62651041e-02\n",
      "   8.13631266e-02 -2.83314466e-01 -6.20603822e-02 -1.51834533e-01\n",
      "   2.87521809e-01 -1.32779151e-01 -5.21101691e-02 -1.20427892e-01\n",
      "  -2.23610505e-01 -1.97392687e-01 -2.43649129e-02  2.46001884e-01\n",
      "   4.51615639e-02 -1.39200583e-01  1.60192296e-01 -2.59094596e-01\n",
      "   8.03935751e-02  1.41351029e-01 -6.93893656e-02 -1.08900905e-01\n",
      "   3.77166942e-02  1.57309726e-01  1.36186630e-01 -4.69117351e-02\n",
      "  -5.88629581e-02 -1.23935595e-01  2.78270710e-02  1.18928604e-01\n",
      "   1.47187650e-01 -1.39846116e-01  4.86031771e-02 -1.40126824e-01\n",
      "   6.63885176e-02 -9.90786627e-02 -6.59332871e-02 -1.77669063e-01\n",
      "   3.72358292e-01 -6.23943321e-02  1.82027236e-01 -3.28107290e-02\n",
      "  -2.48480774e-02 -4.96013276e-02  1.48783950e-03  2.16942057e-01\n",
      "  -3.03168837e-02  1.32897496e-01 -2.04315439e-01 -8.55159387e-02\n",
      "  -6.27267407e-03 -1.49538880e-03 -9.08240229e-02 -1.44580379e-01\n",
      "   1.73861250e-01  1.44752830e-01 -1.94201186e-01  1.67867858e-02\n",
      "   2.43498474e-01 -2.55682260e-01  1.21841930e-01 -4.49072290e-03\n",
      "   5.87379858e-02 -6.32257238e-02 -7.78319985e-02  8.76273867e-03\n",
      "  -1.00996397e-01  1.64041981e-01 -1.48160994e-01 -6.25489205e-02\n",
      "   9.33452249e-02 -2.80825704e-01  1.32962987e-01  1.92008898e-01\n",
      "  -7.83236846e-02 -2.23822489e-01 -9.40903649e-02  2.08151005e-02\n",
      "  -1.38733340e-02  1.52924389e-01 -2.28012323e-01  7.06725121e-02\n",
      "   2.02947930e-01  1.03337653e-01  4.38699424e-02 -1.50555566e-01\n",
      "   3.35580698e-04  1.64362505e-01  1.33694232e-01  1.97186116e-02\n",
      "  -4.57457751e-01 -3.02573830e-01  1.29013434e-01 -2.94552045e-03\n",
      "  -3.00326347e-01  1.03523824e-02 -3.65877338e-02  1.93841398e-01]\n",
      " [ 8.23655576e-02  1.58763215e-01 -4.06213291e-02 -3.18771511e-01\n",
      "   3.08590621e-01 -2.21799314e-01 -2.73746490e-01 -4.18270454e-02\n",
      "   2.67799914e-01 -1.51674390e-01  2.54660356e-03 -2.04167753e-01\n",
      "  -1.45850107e-01 -4.25200343e-01 -3.37282896e-01  2.39210322e-01\n",
      "  -4.99194907e-03 -3.17858934e-01  4.39826578e-01 -2.30641350e-01\n",
      "   2.23017514e-01  2.43873030e-01 -2.74984956e-01  2.71991670e-01\n",
      "   2.04170644e-01  3.98515128e-02 -1.29896738e-02 -9.93863046e-02\n",
      "  -4.60016616e-02 -2.17670172e-01 -1.58730254e-01 -1.30296856e-01\n",
      "   8.71911943e-02 -7.37518296e-02  1.33466721e-01 -2.84598202e-01\n",
      "   3.47365439e-01  1.64650008e-01 -3.00288081e-01  6.61323592e-02\n",
      "   5.89572668e-01 -5.88982068e-02  4.23604324e-02  1.78076196e-02\n",
      "   2.54465818e-01  2.65229136e-01  2.89878428e-01  5.12563229e-01\n",
      "   8.07941779e-02 -1.43913120e-01 -2.25935638e-01 -1.73669219e-01\n",
      "  -9.94808003e-02 -1.64594591e-01 -2.87869781e-01  4.69523686e-04\n",
      "   1.68455899e-01  3.37936074e-01 -3.76933068e-01 -2.25558490e-01\n",
      "   1.50227010e-01 -1.84956804e-01  6.40261024e-02  1.62688226e-01\n",
      "   3.75164360e-01 -2.86407489e-02  1.16263039e-01  1.65949672e-01\n",
      "  -6.59303889e-02  1.45205438e-01 -1.53015420e-01 -4.85062413e-02\n",
      "   1.04841426e-01 -2.64771104e-01  1.66081667e-01  3.73729944e-01\n",
      "   1.54294549e-02 -3.88677597e-01  1.18802175e-01 -7.87210613e-02\n",
      "  -2.23789290e-01  7.91227445e-02 -6.37963712e-02  2.82332540e-01\n",
      "   1.41742498e-01 -4.07179296e-02  1.93970293e-01 -2.66278177e-01\n",
      "   6.73295790e-03  2.54820555e-01  2.27640077e-01  5.01350872e-02\n",
      "  -5.83764017e-01 -2.31948798e-03  2.13277757e-01 -1.07216910e-01\n",
      "  -1.30650610e-01  3.03551517e-02 -9.93643235e-03  1.10003851e-01]\n",
      " [-2.16239214e-01 -1.41964033e-01 -5.47436159e-03 -9.74426791e-02\n",
      "   1.06665775e-01 -8.92846137e-02  1.59674920e-02 -1.34896524e-02\n",
      "   5.46897538e-02 -1.95493978e-02 -1.92540720e-01 -1.92884281e-01\n",
      "  -1.90996736e-01 -3.07691306e-01 -3.76377106e-02  2.62448460e-01\n",
      "  -1.36949375e-01 -1.33427382e-02  2.41885871e-01 -2.98680812e-01\n",
      "   6.37047086e-03  2.50396639e-01 -3.59978527e-02  6.53830692e-02\n",
      "   3.81365657e-01  1.14892488e-02 -1.45840615e-01 -1.43338740e-01\n",
      "  -1.32642552e-01  1.16072940e-02  9.41142961e-02 -2.03715283e-02\n",
      "  -9.80699658e-02  1.15832940e-01 -1.33346304e-01  4.82992232e-02\n",
      "   2.80288637e-01 -1.61137315e-04 -2.43000567e-01 -4.04446013e-02\n",
      "   3.35199893e-01 -3.78581695e-02  9.74815041e-02  1.02006951e-02\n",
      "   1.83935717e-01  7.61501938e-02  3.07642482e-02  2.08887666e-01\n",
      "   1.39803141e-01 -7.27657974e-02 -2.93304056e-01 -2.18361542e-01\n",
      "  -8.30099266e-03 -8.02724808e-02 -2.15510577e-01  8.96868035e-02\n",
      "   9.75385904e-02  3.55581969e-01 -2.04242364e-01 -2.13406123e-02\n",
      "  -8.82905498e-02 -9.25885364e-02  1.16184272e-01  1.38485327e-01\n",
      "   1.96182057e-01  1.36064854e-03 -2.17855200e-02  8.67961422e-02\n",
      "  -9.76725966e-02 -4.48944457e-02 -3.21100116e-01  6.13265820e-02\n",
      "  -8.65789652e-02 -1.38931111e-01  1.55258745e-01  4.19418991e-01\n",
      "   1.80357635e-01 -1.49799347e-01  5.08681647e-02 -1.52310226e-02\n",
      "   4.69523706e-02 -3.53194565e-01 -2.01910704e-01 -1.22253634e-01\n",
      "   3.51293147e-01 -6.09558970e-02  2.48241350e-01 -1.38497919e-01\n",
      "   2.84540541e-02  2.52753198e-01  2.92203408e-02  8.44877586e-02\n",
      "  -2.58131236e-01 -1.04946040e-01  8.29632357e-02  1.27012864e-01\n",
      "  -2.83594523e-02 -1.25773072e-01 -1.66491285e-01  7.56715909e-02]]\n"
     ]
    }
   ],
   "source": [
    "# Example: Generate text\n",
    "def generate_text(generator, noise_dim, label, num_samples=5):\n",
    "    noise = np.random.normal(0, 1, (num_samples, noise_dim))\n",
    "    labels = np.array([label] * num_samples)\n",
    "    generated_text = generator.predict([noise, labels])\n",
    "    return generated_text\n",
    "\n",
    "generated_samples = generate_text(generator, noise_dim, label=1)\n",
    "print(generated_samples)"
   ]
  }
 ],
 "metadata": {
  "kernelspec": {
   "display_name": "Python 3",
   "language": "python",
   "name": "python3"
  },
  "language_info": {
   "name": "python",
   "version": "3.11.2"
  }
 },
 "nbformat": 4,
 "nbformat_minor": 2
}
