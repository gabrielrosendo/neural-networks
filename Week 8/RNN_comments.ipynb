{
 "cells": [
  {
   "cell_type": "markdown",
   "metadata": {},
   "source": [
    "### Key Points ###\n",
    "* The RNN is designed to predict the next value in a sine wave sequence.\n",
    "* The forward method computes the output for each time step and accumulates the loss.\n",
    "* The backward method applies backpropagation through time (BPTT) to update the weights.\n",
    "* The model's performance is visualized by plotting the loss during training and comparing the predicted values against the actual values in the test set."
   ]
  },
  {
   "cell_type": "markdown",
   "metadata": {},
   "source": [
    "### Imports and Dataset Generation ###"
   ]
  },
  {
   "cell_type": "code",
   "execution_count": 1,
   "metadata": {},
   "outputs": [],
   "source": [
    "import numpy as np \n",
    "import matplotlib.pyplot as plt\n",
    "from tqdm import tqdm\n",
    "\n",
    "def dataset(size=200, timesteps=25):\n",
    "    # Generates a dataset based on a sine wave.\n",
    "    # size: Number of points in the sine wave.\n",
    "    # timesteps: Number of time steps to look back for prediction.\n",
    "    x, y = [], []\n",
    "    sin_wave = np.sin(np.arange(size))\n",
    "    for step in range(sin_wave.shape[0] - timesteps):\n",
    "        x.append(sin_wave[step:step + timesteps])\n",
    "        y.append(sin_wave[step + timesteps])\n",
    "    return np.array(x).reshape(len(y), timesteps, 1), np.array(y).reshape(len(y), 1)\n"
   ]
  },
  {
   "cell_type": "markdown",
   "metadata": {},
   "source": [
    "### RNN Class ###"
   ]
  },
  {
   "cell_type": "code",
   "execution_count": 2,
   "metadata": {},
   "outputs": [
    {
     "ename": "IndentationError",
     "evalue": "expected an indented block after function definition on line 2 (3026664541.py, line 10)",
     "output_type": "error",
     "traceback": [
      "\u001b[0;36m  Cell \u001b[0;32mIn[2], line 10\u001b[0;36m\u001b[0m\n\u001b[0;31m    def cell(self, xt, ht_1):\u001b[0m\n\u001b[0m    ^\u001b[0m\n\u001b[0;31mIndentationError\u001b[0m\u001b[0;31m:\u001b[0m expected an indented block after function definition on line 2\n"
     ]
    }
   ],
   "source": [
    "class RNN:\n",
    "    def __init__(self, x, y, hidden_units):\n",
    "        # Initialize the RNN with input data, output data, and number of hidden units.\n",
    "        # x: Input data.\n",
    "        # y: Output data.\n",
    "        # hidden_units: Number of units in the hidden layer.\n",
    "        # Wx, Wh, Wy: Weights for the input, hidden, and output layers.\n",
    "        # These weights are randomly initialized.\n",
    "\n",
    "    def cell(self, xt, ht_1):\n",
    "        # Defines the operations of a single RNN cell.\n",
    "        # xt: Input at time t.\n",
    "        # ht_1: Hidden state at time t-1.\n",
    "        # Returns the new hidden state and the output.\n",
    "\n",
    "    def forward(self, sample):\n",
    "        # Forward pass for a single sample.\n",
    "        # Iterates through the time steps, updating the hidden state and calculating the output.\n",
    "        # Calculates the loss for the sample.\n",
    "\n",
    "    def backward(self):\n",
    "        # Backward pass implementing Backpropagation Through Time (BPTT).\n",
    "        # Calculates gradients for the weights and updates them.\n",
    "\n",
    "    def train(self, epochs, learning_rate):\n",
    "        # Trains the RNN over a specified number of epochs.\n",
    "        # tqdm is used for showing the progress bar.\n",
    "\n",
    "    def test(self, x, y):\n",
    "        # Tests the RNN using new input and output data.\n",
    "        # Stores the outputs for each sample.\n"
   ]
  },
  {
   "cell_type": "markdown",
   "metadata": {},
   "source": [
    "### Training and Testing the RNN ###"
   ]
  },
  {
   "cell_type": "code",
   "execution_count": null,
   "metadata": {},
   "outputs": [],
   "source": [
    "x, y = dataset()  # Generate training data\n",
    "x_test, y_test = dataset(300)  # Generate testing data\n",
    "x_test = x_test[250:]  # Select a subset for testing\n",
    "y_test = y_test[250:]\n",
    "\n",
    "rnn = RNN(x, y, 100)  # Initialize the RNN with 100 hidden units\n",
    "rnn.train(25, 1e-2)  # Train the RNN for 25 epochs with a learning rate of 0.01\n",
    "rnn.test(x_test, y_test)  # Test the RNN\n"
   ]
  },
  {
   "cell_type": "markdown",
   "metadata": {},
   "source": [
    "### Plotting ###"
   ]
  },
  {
   "cell_type": "code",
   "execution_count": null,
   "metadata": {},
   "outputs": [],
   "source": [
    "# Plotting the overall loss during training and the predictions vs actual values.\n",
    "plt.tight_layout()\n",
    "plt.figure(dpi=120)\n",
    "plt.subplot(121)\n",
    "plt.plot(rnn.Ovr_loss)\n",
    "plt.subplot(122)\n",
    "plt.plot([i for i in range(len(x_test))], y_test, np.array(rnn.outputs).reshape(y_test.shape))\n"
   ]
  }
 ],
 "metadata": {
  "kernelspec": {
   "display_name": "Python 3",
   "language": "python",
   "name": "python3"
  },
  "language_info": {
   "codemirror_mode": {
    "name": "ipython",
    "version": 3
   },
   "file_extension": ".py",
   "mimetype": "text/x-python",
   "name": "python",
   "nbconvert_exporter": "python",
   "pygments_lexer": "ipython3",
   "version": "3.11.2"
  }
 },
 "nbformat": 4,
 "nbformat_minor": 2
}
